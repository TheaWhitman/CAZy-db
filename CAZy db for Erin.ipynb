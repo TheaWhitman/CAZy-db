{
 "metadata": {
  "name": "",
  "signature": "sha256:9270211d73a2707b9dba2a1456366e24897cc4de564ac9fc4493be01fff5a992"
 },
 "nbformat": 3,
 "nbformat_minor": 0,
 "worksheets": [
  {
   "cells": [
    {
     "cell_type": "code",
     "collapsed": false,
     "input": [
      "#Should create necessary table in SQLite\n",
      "\n",
      "import sqlite3\n",
      "\n",
      "conn = sqlite3.connect('CAZy3.db')\n",
      "print \"Opened database successfully\";\n",
      "\n",
      "conn.execute('''CREATE TABLE `CAZY_2015_03_11` (\n",
      "    `fam`   TEXT,\n",
      "    `num`   TEXT,\n",
      "    `super` TEXT,\n",
      "    `org`   TEXT,\n",
      "    `protein`   TEXT,\n",
      "    `ec`    TEXT,\n",
      "    `genbank`   TEXT,\n",
      "    `uniprot`   TEXT,\n",
      "    `pdb`   TEXT,\n",
      "    `subf`  TEXT\n",
      ");''')\n",
      "print \"Table created successfully\";\n",
      "\n",
      "conn.close()"
     ],
     "language": "python",
     "metadata": {},
     "outputs": [
      {
       "output_type": "stream",
       "stream": "stdout",
       "text": [
        "Opened database successfully\n",
        "Table created successfully\n"
       ]
      }
     ],
     "prompt_number": 1
    },
    {
     "cell_type": "code",
     "collapsed": false,
     "input": [
      "ls *html"
     ],
     "language": "python",
     "metadata": {},
     "outputs": [
      {
       "output_type": "stream",
       "stream": "stdout",
       "text": [
        "CAZy_GH100_page0.html     CAZy_GH76_page0.html\r\n",
        "CAZy_GH101_page0.html     CAZy_GH77_page0.html\r\n",
        "CAZy_GH102_page0.html     CAZy_GH77_page1000.html\r\n",
        "CAZy_GH102_page1000.html  CAZy_GH77_page2000.html\r\n",
        "CAZy_GH102_page2000.html  CAZy_GH77_page3000.html\r\n",
        "CAZy_GH103_page0.html     CAZy_GH78_page0.html\r\n",
        "CAZy_GH103_page1000.html  CAZy_GH79_page0.html\r\n",
        "CAZy_GH103_page2000.html  CAZy_GH7_page0.html\r\n",
        "CAZy_GH103_page3000.html  CAZy_GH7_page1000.html\r\n",
        "CAZy_GH104_page0.html     CAZy_GH7_page2000.html\r\n",
        "CAZy_GH105_page0.html     CAZy_GH7_page3000.html\r\n",
        "CAZy_GH105_page1000.html  CAZy_GH7_page4000.html\r\n",
        "CAZy_GH105_page2000.html  CAZy_GH7_page5000.html\r\n",
        "CAZy_GH106_page0.html     CAZy_GH7_page6000.html\r\n",
        "CAZy_GH107_page0.html     CAZy_GH80_page0.html\r\n",
        "CAZy_GH108_page0.html     CAZy_GH81_page0.html\r\n",
        "CAZy_GH108_page1000.html  CAZy_GH82_page0.html\r\n",
        "CAZy_GH108_page2000.html  CAZy_GH83_page0.html\r\n",
        "CAZy_GH109_page0.html     CAZy_GH83_page1000.html\r\n",
        "CAZy_GH10_page0.html      CAZy_GH83_page2000.html\r\n",
        "CAZy_GH10_page1000.html   CAZy_GH84_page0.html\r\n",
        "CAZy_GH10_page2000.html   CAZy_GH85_page0.html\r\n",
        "CAZy_GH110_page0.html     CAZy_GH86_page0.html\r\n",
        "CAZy_GH111_page0.html     CAZy_GH87_page0.html\r\n",
        "CAZy_GH112_page0.html     CAZy_GH88_page0.html\r\n",
        "CAZy_GH113_page0.html     CAZy_GH89_page0.html\r\n",
        "CAZy_GH114_page0.html     CAZy_GH8_page0.html\r\n",
        "CAZy_GH115_page0.html     CAZy_GH8_page1000.html\r\n",
        "CAZy_GH116_page0.html     CAZy_GH8_page2000.html\r\n",
        "CAZy_GH117_page0.html     CAZy_GH90_page0.html\r\n",
        "CAZy_GH118_page0.html     CAZy_GH91_page0.html\r\n",
        "CAZy_GH119_page0.html     CAZy_GH92_page0.html\r\n",
        "CAZy_GH11_page0.html      CAZy_GH92_page1000.html\r\n",
        "CAZy_GH11_page1000.html   CAZy_GH92_page2000.html\r\n",
        "CAZy_GH11_page2000.html   CAZy_GH93_page0.html\r\n",
        "CAZy_GH120_page0.html     CAZy_GH94_page0.html\r\n",
        "CAZy_GH121_page0.html     CAZy_GH95_page0.html\r\n",
        "CAZy_GH122_page0.html     CAZy_GH96_page0.html\r\n",
        "CAZy_GH123_page0.html     CAZy_GH97_page0.html\r\n",
        "CAZy_GH124_page0.html     CAZy_GH98_page0.html\r\n",
        "CAZy_GH125_page0.html     CAZy_GH99_page0.html\r\n",
        "CAZy_GH126_page0.html     CAZy_GH9_page0.html\r\n",
        "CAZy_GH127_page0.html     CAZy_GH9_page1000.html\r\n",
        "CAZy_GH128_page0.html     CAZy_GH9_page2000.html\r\n",
        "CAZy_GH129_page0.html     CAZy_GT10_page0.html\r\n",
        "CAZy_GH12_page0.html      CAZy_GT11_page0.html\r\n",
        "CAZy_GH130_page0.html     CAZy_GT12_page0.html\r\n",
        "CAZy_GH131_page0.html     CAZy_GT13_page0.html\r\n",
        "CAZy_GH132_page0.html     CAZy_GT14_page0.html\r\n",
        "CAZy_GH133_page0.html     CAZy_GT15_page0.html\r\n",
        "CAZy_GH13_page0.html      CAZy_GT16_page0.html\r\n",
        "CAZy_GH13_page1000.html   CAZy_GT17_page0.html\r\n",
        "CAZy_GH13_page10000.html  CAZy_GT18_page0.html\r\n",
        "CAZy_GH13_page11000.html  CAZy_GT19_page0.html\r\n",
        "CAZy_GH13_page12000.html  CAZy_GT19_page1000.html\r\n",
        "CAZy_GH13_page13000.html  CAZy_GT19_page2000.html\r\n",
        "CAZy_GH13_page14000.html  CAZy_GT19_page3000.html\r\n",
        "CAZy_GH13_page15000.html  CAZy_GT1_page0.html\r\n",
        "CAZy_GH13_page16000.html  CAZy_GT1_page1000.html\r\n",
        "CAZy_GH13_page17000.html  CAZy_GT1_page2000.html\r\n",
        "CAZy_GH13_page18000.html  CAZy_GT1_page3000.html\r\n",
        "CAZy_GH13_page19000.html  CAZy_GT1_page4000.html\r\n",
        "CAZy_GH13_page2000.html   CAZy_GT1_page5000.html\r\n",
        "CAZy_GH13_page20000.html  CAZy_GT1_page6000.html\r\n",
        "CAZy_GH13_page21000.html  CAZy_GT1_page7000.html\r\n",
        "CAZy_GH13_page22000.html  CAZy_GT1_page8000.html\r\n",
        "CAZy_GH13_page23000.html  CAZy_GT1_page9000.html\r\n",
        "CAZy_GH13_page24000.html  CAZy_GT20_page0.html\r\n",
        "CAZy_GH13_page3000.html   CAZy_GT20_page1000.html\r\n",
        "CAZy_GH13_page4000.html   CAZy_GT20_page2000.html\r\n",
        "CAZy_GH13_page5000.html   CAZy_GT20_page3000.html\r\n",
        "CAZy_GH13_page6000.html   CAZy_GT21_page0.html\r\n",
        "CAZy_GH13_page7000.html   CAZy_GT22_page0.html\r\n",
        "CAZy_GH13_page8000.html   CAZy_GT23_page0.html\r\n",
        "CAZy_GH13_page9000.html   CAZy_GT24_page0.html\r\n",
        "CAZy_GH14_page0.html      CAZy_GT25_page0.html\r\n",
        "CAZy_GH15_page0.html      CAZy_GT25_page1000.html\r\n",
        "CAZy_GH15_page1000.html   CAZy_GT25_page2000.html\r\n",
        "CAZy_GH15_page2000.html   CAZy_GT26_page0.html\r\n",
        "CAZy_GH16_page0.html      CAZy_GT26_page1000.html\r\n",
        "CAZy_GH16_page1000.html   CAZy_GT26_page2000.html\r\n",
        "CAZy_GH16_page2000.html   CAZy_GT26_page3000.html\r\n",
        "CAZy_GH16_page3000.html   CAZy_GT27_page0.html\r\n",
        "CAZy_GH16_page4000.html   CAZy_GT28_page0.html\r\n",
        "CAZy_GH17_page0.html      CAZy_GT28_page1000.html\r\n",
        "CAZy_GH17_page1000.html   CAZy_GT28_page2000.html\r\n",
        "CAZy_GH17_page2000.html   CAZy_GT28_page3000.html\r\n",
        "CAZy_GH18_page0.html      CAZy_GT28_page4000.html\r\n",
        "CAZy_GH18_page1000.html   CAZy_GT28_page5000.html\r\n",
        "CAZy_GH18_page2000.html   CAZy_GT28_page6000.html\r\n",
        "CAZy_GH18_page3000.html   CAZy_GT29_page0.html\r\n",
        "CAZy_GH18_page4000.html   CAZy_GT2_page0.html\r\n",
        "CAZy_GH18_page5000.html   CAZy_GT2_page1000.html\r\n",
        "CAZy_GH18_page6000.html   CAZy_GT2_page10000.html\r\n",
        "CAZy_GH18_page7000.html   CAZy_GT2_page11000.html\r\n",
        "CAZy_GH18_page8000.html   CAZy_GT2_page12000.html\r\n",
        "CAZy_GH19_page0.html      CAZy_GT2_page13000.html\r\n",
        "CAZy_GH19_page1000.html   CAZy_GT2_page14000.html\r\n",
        "CAZy_GH19_page2000.html   CAZy_GT2_page15000.html\r\n",
        "CAZy_GH19_page3000.html   CAZy_GT2_page16000.html\r\n",
        "CAZy_GH1_page0.html       CAZy_GT2_page17000.html\r\n",
        "CAZy_GH1_page1000.html    CAZy_GT2_page18000.html\r\n",
        "CAZy_GH1_page2000.html    CAZy_GT2_page19000.html\r\n",
        "CAZy_GH1_page3000.html    CAZy_GT2_page2000.html\r\n",
        "CAZy_GH1_page4000.html    CAZy_GT2_page20000.html\r\n",
        "CAZy_GH1_page5000.html    CAZy_GT2_page21000.html\r\n",
        "CAZy_GH1_page6000.html    CAZy_GT2_page22000.html\r\n",
        "CAZy_GH1_page7000.html    CAZy_GT2_page23000.html\r\n",
        "CAZy_GH1_page8000.html    CAZy_GT2_page24000.html\r\n",
        "CAZy_GH20_page0.html      CAZy_GT2_page25000.html\r\n",
        "CAZy_GH20_page1000.html   CAZy_GT2_page26000.html\r\n",
        "CAZy_GH20_page2000.html   CAZy_GT2_page27000.html\r\n",
        "CAZy_GH21_page0.html      CAZy_GT2_page28000.html\r\n",
        "CAZy_GH22_page0.html      CAZy_GT2_page29000.html\r\n",
        "CAZy_GH23_page0.html      CAZy_GT2_page3000.html\r\n",
        "CAZy_GH23_page1000.html   CAZy_GT2_page30000.html\r\n",
        "CAZy_GH23_page10000.html  CAZy_GT2_page31000.html\r\n",
        "CAZy_GH23_page11000.html  CAZy_GT2_page32000.html\r\n",
        "CAZy_GH23_page12000.html  CAZy_GT2_page33000.html\r\n",
        "CAZy_GH23_page13000.html  CAZy_GT2_page34000.html\r\n",
        "CAZy_GH23_page14000.html  CAZy_GT2_page35000.html\r\n",
        "CAZy_GH23_page15000.html  CAZy_GT2_page36000.html\r\n",
        "CAZy_GH23_page16000.html  CAZy_GT2_page37000.html\r\n",
        "CAZy_GH23_page17000.html  CAZy_GT2_page38000.html\r\n",
        "CAZy_GH23_page2000.html   CAZy_GT2_page39000.html\r\n",
        "CAZy_GH23_page3000.html   CAZy_GT2_page4000.html\r\n",
        "CAZy_GH23_page4000.html   CAZy_GT2_page40000.html\r\n",
        "CAZy_GH23_page5000.html   CAZy_GT2_page41000.html\r\n",
        "CAZy_GH23_page6000.html   CAZy_GT2_page42000.html\r\n",
        "CAZy_GH23_page7000.html   CAZy_GT2_page43000.html\r\n",
        "CAZy_GH23_page8000.html   CAZy_GT2_page44000.html\r\n",
        "CAZy_GH23_page9000.html   CAZy_GT2_page45000.html\r\n",
        "CAZy_GH24_page0.html      CAZy_GT2_page46000.html\r\n",
        "CAZy_GH24_page1000.html   CAZy_GT2_page47000.html\r\n",
        "CAZy_GH24_page2000.html   CAZy_GT2_page48000.html\r\n",
        "CAZy_GH24_page3000.html   CAZy_GT2_page49000.html\r\n",
        "CAZy_GH25_page0.html      CAZy_GT2_page5000.html\r\n",
        "CAZy_GH25_page1000.html   CAZy_GT2_page50000.html\r\n",
        "CAZy_GH25_page2000.html   CAZy_GT2_page6000.html\r\n",
        "CAZy_GH25_page3000.html   CAZy_GT2_page7000.html\r\n",
        "CAZy_GH26_page0.html      CAZy_GT2_page8000.html\r\n",
        "CAZy_GH27_page0.html      CAZy_GT2_page9000.html\r\n",
        "CAZy_GH28_page0.html      CAZy_GT30_page0.html\r\n",
        "CAZy_GH28_page1000.html   CAZy_GT30_page1000.html\r\n",
        "CAZy_GH28_page2000.html   CAZy_GT30_page2000.html\r\n",
        "CAZy_GH28_page3000.html   CAZy_GT30_page3000.html\r\n",
        "CAZy_GH29_page0.html      CAZy_GT31_page0.html\r\n",
        "CAZy_GH2_page0.html       CAZy_GT32_page0.html\r\n",
        "CAZy_GH2_page1000.html    CAZy_GT32_page1000.html\r\n",
        "CAZy_GH2_page2000.html    CAZy_GT32_page2000.html\r\n",
        "CAZy_GH2_page3000.html    CAZy_GT33_page0.html\r\n",
        "CAZy_GH2_page4000.html    CAZy_GT34_page0.html\r\n",
        "CAZy_GH2_page5000.html    CAZy_GT35_page0.html\r\n",
        "CAZy_GH30_page0.html      CAZy_GT35_page1000.html\r\n",
        "CAZy_GH31_page0.html      CAZy_GT35_page2000.html\r\n",
        "CAZy_GH31_page1000.html   CAZy_GT35_page3000.html\r\n",
        "CAZy_GH31_page2000.html   CAZy_GT35_page4000.html\r\n",
        "CAZy_GH31_page3000.html   CAZy_GT36_page0.html\r\n",
        "CAZy_GH31_page4000.html   CAZy_GT37_page0.html\r\n",
        "CAZy_GH32_page0.html      CAZy_GT38_page0.html\r\n",
        "CAZy_GH32_page1000.html   CAZy_GT39_page0.html\r\n",
        "CAZy_GH32_page2000.html   CAZy_GT3_page0.html\r\n",
        "CAZy_GH32_page3000.html   CAZy_GT40_page0.html\r\n",
        "CAZy_GH32_page4000.html   CAZy_GT41_page0.html\r\n",
        "CAZy_GH33_page0.html      CAZy_GT42_page0.html\r\n",
        "CAZy_GH33_page1000.html   CAZy_GT43_page0.html\r\n",
        "CAZy_GH33_page2000.html   CAZy_GT44_page0.html\r\n",
        "CAZy_GH34_page0.html      CAZy_GT45_page0.html\r\n",
        "CAZy_GH34_page1000.html   CAZy_GT46_page0.html\r\n",
        "CAZy_GH34_page10000.html  CAZy_GT47_page0.html\r\n",
        "CAZy_GH34_page11000.html  CAZy_GT48_page0.html\r\n",
        "CAZy_GH34_page12000.html  CAZy_GT49_page0.html\r\n",
        "CAZy_GH34_page13000.html  CAZy_GT4_page0.html\r\n",
        "CAZy_GH34_page14000.html  CAZy_GT4_page1000.html\r\n",
        "CAZy_GH34_page15000.html  CAZy_GT4_page10000.html\r\n",
        "CAZy_GH34_page16000.html  CAZy_GT4_page11000.html\r\n",
        "CAZy_GH34_page17000.html  CAZy_GT4_page12000.html\r\n",
        "CAZy_GH34_page18000.html  CAZy_GT4_page13000.html\r\n",
        "CAZy_GH34_page19000.html  CAZy_GT4_page14000.html\r\n",
        "CAZy_GH34_page2000.html   CAZy_GT4_page15000.html\r\n",
        "CAZy_GH34_page20000.html  CAZy_GT4_page16000.html\r\n",
        "CAZy_GH34_page21000.html  CAZy_GT4_page17000.html\r\n",
        "CAZy_GH34_page22000.html  CAZy_GT4_page18000.html\r\n",
        "CAZy_GH34_page23000.html  CAZy_GT4_page19000.html\r\n",
        "CAZy_GH34_page24000.html  CAZy_GT4_page2000.html\r\n",
        "CAZy_GH34_page25000.html  CAZy_GT4_page20000.html\r\n",
        "CAZy_GH34_page26000.html  CAZy_GT4_page21000.html\r\n",
        "CAZy_GH34_page27000.html  CAZy_GT4_page22000.html\r\n",
        "CAZy_GH34_page28000.html  CAZy_GT4_page23000.html\r\n",
        "CAZy_GH34_page29000.html  CAZy_GT4_page24000.html\r\n",
        "CAZy_GH34_page3000.html   CAZy_GT4_page25000.html\r\n",
        "CAZy_GH34_page30000.html  CAZy_GT4_page26000.html\r\n",
        "CAZy_GH34_page31000.html  CAZy_GT4_page27000.html\r\n",
        "CAZy_GH34_page32000.html  CAZy_GT4_page28000.html\r\n",
        "CAZy_GH34_page33000.html  CAZy_GT4_page29000.html\r\n",
        "CAZy_GH34_page34000.html  CAZy_GT4_page3000.html\r\n",
        "CAZy_GH34_page35000.html  CAZy_GT4_page30000.html\r\n",
        "CAZy_GH34_page36000.html  CAZy_GT4_page31000.html\r\n",
        "CAZy_GH34_page37000.html  CAZy_GT4_page32000.html\r\n",
        "CAZy_GH34_page38000.html  CAZy_GT4_page33000.html\r\n",
        "CAZy_GH34_page39000.html  CAZy_GT4_page34000.html\r\n",
        "CAZy_GH34_page4000.html   CAZy_GT4_page35000.html\r\n",
        "CAZy_GH34_page40000.html  CAZy_GT4_page36000.html\r\n",
        "CAZy_GH34_page41000.html  CAZy_GT4_page37000.html\r\n",
        "CAZy_GH34_page42000.html  CAZy_GT4_page38000.html\r\n",
        "CAZy_GH34_page43000.html  CAZy_GT4_page39000.html\r\n",
        "CAZy_GH34_page44000.html  CAZy_GT4_page4000.html\r\n",
        "CAZy_GH34_page45000.html  CAZy_GT4_page40000.html\r\n",
        "CAZy_GH34_page46000.html  CAZy_GT4_page5000.html\r\n",
        "CAZy_GH34_page47000.html  CAZy_GT4_page6000.html\r\n",
        "CAZy_GH34_page48000.html  CAZy_GT4_page7000.html\r\n",
        "CAZy_GH34_page49000.html  CAZy_GT4_page8000.html\r\n",
        "CAZy_GH34_page5000.html   CAZy_GT4_page9000.html\r\n",
        "CAZy_GH34_page50000.html  CAZy_GT50_page0.html\r\n",
        "CAZy_GH34_page6000.html   CAZy_GT51_page0.html\r\n",
        "CAZy_GH34_page7000.html   CAZy_GT51_page1000.html\r\n",
        "CAZy_GH34_page8000.html   CAZy_GT51_page10000.html\r\n",
        "CAZy_GH34_page9000.html   CAZy_GT51_page11000.html\r\n",
        "CAZy_GH35_page0.html      CAZy_GT51_page12000.html\r\n",
        "CAZy_GH36_page0.html      CAZy_GT51_page2000.html\r\n",
        "CAZy_GH36_page1000.html   CAZy_GT51_page3000.html\r\n",
        "CAZy_GH36_page2000.html   CAZy_GT51_page4000.html\r\n",
        "CAZy_GH37_page0.html      CAZy_GT51_page5000.html\r\n",
        "CAZy_GH37_page1000.html   CAZy_GT51_page6000.html\r\n",
        "CAZy_GH37_page2000.html   CAZy_GT51_page7000.html\r\n",
        "CAZy_GH38_page0.html      CAZy_GT51_page8000.html\r\n",
        "CAZy_GH38_page1000.html   CAZy_GT51_page9000.html\r\n",
        "CAZy_GH38_page2000.html   CAZy_GT52_page0.html\r\n",
        "CAZy_GH39_page0.html      CAZy_GT53_page0.html\r\n",
        "CAZy_GH3_page0.html       CAZy_GT54_page0.html\r\n",
        "CAZy_GH3_page1000.html    CAZy_GT55_page0.html\r\n",
        "CAZy_GH3_page2000.html    CAZy_GT56_page0.html\r\n",
        "CAZy_GH3_page3000.html    CAZy_GT57_page0.html\r\n",
        "CAZy_GH3_page4000.html    CAZy_GT58_page0.html\r\n",
        "CAZy_GH3_page5000.html    CAZy_GT59_page0.html\r\n",
        "CAZy_GH3_page6000.html    CAZy_GT5_page0.html\r\n",
        "CAZy_GH3_page7000.html    CAZy_GT5_page1000.html\r\n",
        "CAZy_GH3_page8000.html    CAZy_GT5_page2000.html\r\n",
        "CAZy_GH40_page0.html      CAZy_GT5_page3000.html\r\n",
        "CAZy_GH41_page0.html      CAZy_GT5_page4000.html\r\n",
        "CAZy_GH42_page0.html      CAZy_GT5_page5000.html\r\n",
        "CAZy_GH42_page1000.html   CAZy_GT5_page6000.html\r\n",
        "CAZy_GH42_page2000.html   CAZy_GT5_page7000.html\r\n",
        "CAZy_GH43_page0.html      CAZy_GT60_page0.html\r\n",
        "CAZy_GH43_page1000.html   CAZy_GT61_page0.html\r\n",
        "CAZy_GH43_page2000.html   CAZy_GT61_page1000.html\r\n",
        "CAZy_GH43_page3000.html   CAZy_GT61_page2000.html\r\n",
        "CAZy_GH43_page4000.html   CAZy_GT61_page3000.html\r\n",
        "CAZy_GH43_page5000.html   CAZy_GT62_page0.html\r\n",
        "CAZy_GH44_page0.html      CAZy_GT63_page0.html\r\n",
        "CAZy_GH45_page0.html      CAZy_GT64_page0.html\r\n",
        "CAZy_GH46_page0.html      CAZy_GT65_page0.html\r\n",
        "CAZy_GH47_page0.html      CAZy_GT66_page0.html\r\n",
        "CAZy_GH48_page0.html      CAZy_GT67_page0.html\r\n",
        "CAZy_GH49_page0.html      CAZy_GT68_page0.html\r\n",
        "CAZy_GH4_page0.html       CAZy_GT69_page0.html\r\n",
        "CAZy_GH4_page1000.html    CAZy_GT69_page1000.html\r\n",
        "CAZy_GH4_page2000.html    CAZy_GT69_page2000.html\r\n",
        "CAZy_GH4_page3000.html    CAZy_GT6_page0.html\r\n",
        "CAZy_GH50_page0.html      CAZy_GT70_page0.html\r\n",
        "CAZy_GH51_page0.html      CAZy_GT71_page0.html\r\n",
        "CAZy_GH51_page1000.html   CAZy_GT72_page0.html\r\n",
        "CAZy_GH51_page2000.html   CAZy_GT73_page0.html\r\n",
        "CAZy_GH52_page0.html      CAZy_GT74_page0.html\r\n",
        "CAZy_GH53_page0.html      CAZy_GT75_page0.html\r\n",
        "CAZy_GH54_page0.html      CAZy_GT76_page0.html\r\n",
        "CAZy_GH55_page0.html      CAZy_GT77_page0.html\r\n",
        "CAZy_GH56_page0.html      CAZy_GT78_page0.html\r\n",
        "CAZy_GH57_page0.html      CAZy_GT79_page0.html\r\n",
        "CAZy_GH57_page1000.html   CAZy_GT7_page0.html\r\n",
        "CAZy_GH57_page2000.html   CAZy_GT80_page0.html\r\n",
        "CAZy_GH58_page0.html      CAZy_GT81_page0.html\r\n",
        "CAZy_GH59_page0.html      CAZy_GT82_page0.html\r\n",
        "CAZy_GH5_page0.html       CAZy_GT83_page0.html\r\n",
        "CAZy_GH5_page1000.html    CAZy_GT83_page1000.html\r\n",
        "CAZy_GH5_page2000.html    CAZy_GT83_page2000.html\r\n",
        "CAZy_GH5_page3000.html    CAZy_GT83_page3000.html\r\n",
        "CAZy_GH5_page4000.html    CAZy_GT84_page0.html\r\n",
        "CAZy_GH5_page5000.html    CAZy_GT85_page0.html\r\n",
        "CAZy_GH5_page6000.html    CAZy_GT86_page0.html\r\n",
        "CAZy_GH60_page0.html      CAZy_GT87_page0.html\r\n",
        "CAZy_GH61_page0.html      CAZy_GT88_page0.html\r\n",
        "CAZy_GH62_page0.html      CAZy_GT89_page0.html\r\n",
        "CAZy_GH63_page0.html      CAZy_GT8_page0.html\r\n",
        "CAZy_GH64_page0.html      CAZy_GT8_page1000.html\r\n",
        "CAZy_GH65_page0.html      CAZy_GT8_page2000.html\r\n",
        "CAZy_GH65_page1000.html   CAZy_GT8_page3000.html\r\n",
        "CAZy_GH65_page2000.html   CAZy_GT8_page4000.html\r\n",
        "CAZy_GH66_page0.html      CAZy_GT90_page0.html\r\n",
        "CAZy_GH67_page0.html      CAZy_GT91_page0.html\r\n",
        "CAZy_GH68_page0.html      CAZy_GT92_page0.html\r\n",
        "CAZy_GH69_page0.html      CAZy_GT93_page0.html\r\n",
        "CAZy_GH6_page0.html       CAZy_GT94_page0.html\r\n",
        "CAZy_GH70_page0.html      CAZy_GT95_page0.html\r\n",
        "CAZy_GH71_page0.html      CAZy_GT96_page0.html\r\n",
        "CAZy_GH72_page0.html      CAZy_GT97_page0.html\r\n",
        "CAZy_GH73_page0.html      CAZy_GT9_page0.html\r\n",
        "CAZy_GH73_page1000.html   CAZy_GT9_page1000.html\r\n",
        "CAZy_GH73_page2000.html   CAZy_GT9_page2000.html\r\n",
        "CAZy_GH73_page3000.html   CAZy_GT9_page3000.html\r\n",
        "CAZy_GH73_page4000.html   CAZy_GT9_page4000.html\r\n",
        "CAZy_GH73_page5000.html   CAZy_GT9_page5000.html\r\n",
        "CAZy_GH74_page0.html      CAZy_GT9_page6000.html\r\n",
        "CAZy_GH75_page0.html      CAZy_GT9_page7000.html\r\n"
       ]
      }
     ],
     "prompt_number": 2
    },
    {
     "cell_type": "code",
     "collapsed": false,
     "input": [
      "!python load_cazy_db.py -i *html --db CAZy3.db"
     ],
     "language": "python",
     "metadata": {},
     "outputs": [
      {
       "output_type": "stream",
       "stream": "stdout",
       "text": [
        "Loading: CAZy_GH100_page0.html\r\n"
       ]
      },
      {
       "output_type": "stream",
       "stream": "stdout",
       "text": [
        "Loading: CAZy_GH101_page0.html\r\n"
       ]
      },
      {
       "output_type": "stream",
       "stream": "stdout",
       "text": [
        "Loading: CAZy_GH102_page0.html\r\n"
       ]
      },
      {
       "output_type": "stream",
       "stream": "stdout",
       "text": [
        "Loading: CAZy_GH102_page1000.html\r\n"
       ]
      },
      {
       "output_type": "stream",
       "stream": "stdout",
       "text": [
        "Loading: CAZy_GH102_page2000.html\r\n"
       ]
      },
      {
       "output_type": "stream",
       "stream": "stdout",
       "text": [
        "Loading: CAZy_GH103_page0.html\r\n"
       ]
      },
      {
       "output_type": "stream",
       "stream": "stdout",
       "text": [
        "Loading: CAZy_GH103_page1000.html\r\n"
       ]
      },
      {
       "output_type": "stream",
       "stream": "stdout",
       "text": [
        "Loading: CAZy_GH103_page2000.html\r\n"
       ]
      },
      {
       "output_type": "stream",
       "stream": "stdout",
       "text": [
        "Loading: CAZy_GH103_page3000.html\r\n"
       ]
      },
      {
       "output_type": "stream",
       "stream": "stdout",
       "text": [
        "Loading: CAZy_GH104_page0.html\r\n"
       ]
      },
      {
       "output_type": "stream",
       "stream": "stdout",
       "text": [
        "Loading: CAZy_GH105_page0.html\r\n"
       ]
      },
      {
       "output_type": "stream",
       "stream": "stdout",
       "text": [
        "Loading: CAZy_GH105_page1000.html\r\n"
       ]
      },
      {
       "output_type": "stream",
       "stream": "stdout",
       "text": [
        "Loading: CAZy_GH105_page2000.html\r\n"
       ]
      },
      {
       "output_type": "stream",
       "stream": "stdout",
       "text": [
        "Loading: CAZy_GH106_page0.html\r\n"
       ]
      },
      {
       "output_type": "stream",
       "stream": "stdout",
       "text": [
        "Loading: CAZy_GH107_page0.html\r\n",
        "Loading: CAZy_GH108_page0.html\r\n"
       ]
      },
      {
       "output_type": "stream",
       "stream": "stdout",
       "text": [
        "Loading: CAZy_GH108_page1000.html\r\n"
       ]
      },
      {
       "output_type": "stream",
       "stream": "stdout",
       "text": [
        "Loading: CAZy_GH108_page2000.html\r\n"
       ]
      },
      {
       "output_type": "stream",
       "stream": "stdout",
       "text": [
        "Loading: CAZy_GH109_page0.html\r\n"
       ]
      },
      {
       "output_type": "stream",
       "stream": "stdout",
       "text": [
        "Loading: CAZy_GH10_page0.html\r\n"
       ]
      },
      {
       "output_type": "stream",
       "stream": "stdout",
       "text": [
        "Loading: CAZy_GH10_page1000.html\r\n"
       ]
      },
      {
       "output_type": "stream",
       "stream": "stdout",
       "text": [
        "Loading: CAZy_GH10_page2000.html\r\n"
       ]
      },
      {
       "output_type": "stream",
       "stream": "stdout",
       "text": [
        "Loading: CAZy_GH110_page0.html\r\n"
       ]
      },
      {
       "output_type": "stream",
       "stream": "stdout",
       "text": [
        "Loading: CAZy_GH111_page0.html\r\n",
        "Loading: CAZy_GH112_page0.html\r\n"
       ]
      },
      {
       "output_type": "stream",
       "stream": "stdout",
       "text": [
        "Loading: CAZy_GH113_page0.html\r\n"
       ]
      },
      {
       "output_type": "stream",
       "stream": "stdout",
       "text": [
        "Loading: CAZy_GH114_page0.html\r\n"
       ]
      },
      {
       "output_type": "stream",
       "stream": "stdout",
       "text": [
        "Loading: CAZy_GH115_page0.html\r\n"
       ]
      },
      {
       "output_type": "stream",
       "stream": "stdout",
       "text": [
        "Loading: CAZy_GH116_page0.html\r\n"
       ]
      },
      {
       "output_type": "stream",
       "stream": "stdout",
       "text": [
        "Loading: CAZy_GH117_page0.html\r\n"
       ]
      },
      {
       "output_type": "stream",
       "stream": "stdout",
       "text": [
        "Loading: CAZy_GH118_page0.html\r\n"
       ]
      },
      {
       "output_type": "stream",
       "stream": "stdout",
       "text": [
        "Loading: CAZy_GH119_page0.html\r\n"
       ]
      },
      {
       "output_type": "stream",
       "stream": "stdout",
       "text": [
        "Loading: CAZy_GH11_page0.html\r\n"
       ]
      },
      {
       "output_type": "stream",
       "stream": "stdout",
       "text": [
        "Loading: CAZy_GH11_page1000.html\r\n"
       ]
      },
      {
       "output_type": "stream",
       "stream": "stdout",
       "text": [
        "Loading: CAZy_GH11_page2000.html\r\n"
       ]
      },
      {
       "output_type": "stream",
       "stream": "stdout",
       "text": [
        "Loading: CAZy_GH120_page0.html\r\n"
       ]
      },
      {
       "output_type": "stream",
       "stream": "stdout",
       "text": [
        "Loading: CAZy_GH121_page0.html\r\n"
       ]
      },
      {
       "output_type": "stream",
       "stream": "stdout",
       "text": [
        "Loading: CAZy_GH122_page0.html\r\n"
       ]
      },
      {
       "output_type": "stream",
       "stream": "stdout",
       "text": [
        "Loading: CAZy_GH123_page0.html\r\n"
       ]
      },
      {
       "output_type": "stream",
       "stream": "stdout",
       "text": [
        "Loading: CAZy_GH124_page0.html\r\n",
        "Loading: CAZy_GH125_page0.html\r\n"
       ]
      },
      {
       "output_type": "stream",
       "stream": "stdout",
       "text": [
        "Loading: CAZy_GH126_page0.html\r\n"
       ]
      },
      {
       "output_type": "stream",
       "stream": "stdout",
       "text": [
        "Loading: CAZy_GH127_page0.html\r\n"
       ]
      },
      {
       "output_type": "stream",
       "stream": "stdout",
       "text": [
        "Loading: CAZy_GH128_page0.html\r\n"
       ]
      },
      {
       "output_type": "stream",
       "stream": "stdout",
       "text": [
        "Loading: CAZy_GH129_page0.html\r\n"
       ]
      },
      {
       "output_type": "stream",
       "stream": "stdout",
       "text": [
        "Loading: CAZy_GH12_page0.html\r\n"
       ]
      },
      {
       "output_type": "stream",
       "stream": "stdout",
       "text": [
        "Loading: CAZy_GH130_page0.html\r\n"
       ]
      },
      {
       "output_type": "stream",
       "stream": "stdout",
       "text": [
        "Loading: CAZy_GH131_page0.html\r\n"
       ]
      },
      {
       "output_type": "stream",
       "stream": "stdout",
       "text": [
        "Loading: CAZy_GH132_page0.html\r\n"
       ]
      },
      {
       "output_type": "stream",
       "stream": "stdout",
       "text": [
        "Loading: CAZy_GH133_page0.html\r\n"
       ]
      },
      {
       "output_type": "stream",
       "stream": "stdout",
       "text": [
        "Loading: CAZy_GH13_page0.html\r\n"
       ]
      },
      {
       "output_type": "stream",
       "stream": "stdout",
       "text": [
        "Loading: CAZy_GH13_page1000.html\r\n"
       ]
      },
      {
       "output_type": "stream",
       "stream": "stdout",
       "text": [
        "Loading: CAZy_GH13_page10000.html\r\n"
       ]
      },
      {
       "output_type": "stream",
       "stream": "stdout",
       "text": [
        "Loading: CAZy_GH13_page11000.html\r\n"
       ]
      },
      {
       "output_type": "stream",
       "stream": "stdout",
       "text": [
        "Loading: CAZy_GH13_page12000.html\r\n"
       ]
      },
      {
       "output_type": "stream",
       "stream": "stdout",
       "text": [
        "Loading: CAZy_GH13_page13000.html\r\n"
       ]
      },
      {
       "output_type": "stream",
       "stream": "stdout",
       "text": [
        "Loading: CAZy_GH13_page14000.html\r\n"
       ]
      },
      {
       "output_type": "stream",
       "stream": "stdout",
       "text": [
        "Loading: CAZy_GH13_page15000.html\r\n"
       ]
      },
      {
       "output_type": "stream",
       "stream": "stdout",
       "text": [
        "Loading: CAZy_GH13_page16000.html\r\n"
       ]
      },
      {
       "output_type": "stream",
       "stream": "stdout",
       "text": [
        "Loading: CAZy_GH13_page17000.html\r\n"
       ]
      },
      {
       "output_type": "stream",
       "stream": "stdout",
       "text": [
        "Loading: CAZy_GH13_page18000.html\r\n"
       ]
      },
      {
       "output_type": "stream",
       "stream": "stdout",
       "text": [
        "Loading: CAZy_GH13_page19000.html\r\n"
       ]
      },
      {
       "output_type": "stream",
       "stream": "stdout",
       "text": [
        "Loading: CAZy_GH13_page2000.html\r\n"
       ]
      },
      {
       "output_type": "stream",
       "stream": "stdout",
       "text": [
        "Loading: CAZy_GH13_page20000.html\r\n"
       ]
      },
      {
       "output_type": "stream",
       "stream": "stdout",
       "text": [
        "Loading: CAZy_GH13_page21000.html\r\n"
       ]
      },
      {
       "output_type": "stream",
       "stream": "stdout",
       "text": [
        "Loading: CAZy_GH13_page22000.html\r\n"
       ]
      },
      {
       "output_type": "stream",
       "stream": "stdout",
       "text": [
        "Loading: CAZy_GH13_page23000.html\r\n"
       ]
      },
      {
       "output_type": "stream",
       "stream": "stdout",
       "text": [
        "Loading: CAZy_GH13_page24000.html\r\n"
       ]
      },
      {
       "output_type": "stream",
       "stream": "stdout",
       "text": [
        "Loading: CAZy_GH13_page3000.html\r\n"
       ]
      },
      {
       "output_type": "stream",
       "stream": "stdout",
       "text": [
        "Loading: CAZy_GH13_page4000.html\r\n"
       ]
      },
      {
       "output_type": "stream",
       "stream": "stdout",
       "text": [
        "Loading: CAZy_GH13_page5000.html\r\n"
       ]
      },
      {
       "output_type": "stream",
       "stream": "stdout",
       "text": [
        "Loading: CAZy_GH13_page6000.html\r\n"
       ]
      },
      {
       "output_type": "stream",
       "stream": "stdout",
       "text": [
        "Loading: CAZy_GH13_page7000.html\r\n"
       ]
      },
      {
       "output_type": "stream",
       "stream": "stdout",
       "text": [
        "Loading: CAZy_GH13_page8000.html\r\n"
       ]
      },
      {
       "output_type": "stream",
       "stream": "stdout",
       "text": [
        "Loading: CAZy_GH13_page9000.html\r\n"
       ]
      },
      {
       "output_type": "stream",
       "stream": "stdout",
       "text": [
        "Loading: CAZy_GH14_page0.html\r\n"
       ]
      },
      {
       "output_type": "stream",
       "stream": "stdout",
       "text": [
        "Loading: CAZy_GH15_page0.html\r\n"
       ]
      },
      {
       "output_type": "stream",
       "stream": "stdout",
       "text": [
        "Loading: CAZy_GH15_page1000.html\r\n"
       ]
      },
      {
       "output_type": "stream",
       "stream": "stdout",
       "text": [
        "Loading: CAZy_GH15_page2000.html\r\n"
       ]
      },
      {
       "output_type": "stream",
       "stream": "stdout",
       "text": [
        "Loading: CAZy_GH16_page0.html\r\n"
       ]
      },
      {
       "output_type": "stream",
       "stream": "stdout",
       "text": [
        "Loading: CAZy_GH16_page1000.html\r\n"
       ]
      },
      {
       "output_type": "stream",
       "stream": "stdout",
       "text": [
        "Loading: CAZy_GH16_page2000.html\r\n"
       ]
      },
      {
       "output_type": "stream",
       "stream": "stdout",
       "text": [
        "Loading: CAZy_GH16_page3000.html\r\n"
       ]
      },
      {
       "output_type": "stream",
       "stream": "stdout",
       "text": [
        "Loading: CAZy_GH16_page4000.html\r\n"
       ]
      },
      {
       "output_type": "stream",
       "stream": "stdout",
       "text": [
        "Loading: CAZy_GH17_page0.html\r\n"
       ]
      },
      {
       "output_type": "stream",
       "stream": "stdout",
       "text": [
        "Loading: CAZy_GH17_page1000.html\r\n"
       ]
      },
      {
       "output_type": "stream",
       "stream": "stdout",
       "text": [
        "Loading: CAZy_GH17_page2000.html\r\n"
       ]
      },
      {
       "output_type": "stream",
       "stream": "stdout",
       "text": [
        "Loading: CAZy_GH18_page0.html\r\n"
       ]
      },
      {
       "output_type": "stream",
       "stream": "stdout",
       "text": [
        "Loading: CAZy_GH18_page1000.html\r\n"
       ]
      },
      {
       "output_type": "stream",
       "stream": "stdout",
       "text": [
        "Loading: CAZy_GH18_page2000.html\r\n"
       ]
      },
      {
       "output_type": "stream",
       "stream": "stdout",
       "text": [
        "Loading: CAZy_GH18_page3000.html\r\n"
       ]
      },
      {
       "output_type": "stream",
       "stream": "stdout",
       "text": [
        "Loading: CAZy_GH18_page4000.html\r\n"
       ]
      },
      {
       "output_type": "stream",
       "stream": "stdout",
       "text": [
        "Loading: CAZy_GH18_page5000.html\r\n"
       ]
      },
      {
       "output_type": "stream",
       "stream": "stdout",
       "text": [
        "Loading: CAZy_GH18_page6000.html\r\n"
       ]
      },
      {
       "output_type": "stream",
       "stream": "stdout",
       "text": [
        "Loading: CAZy_GH18_page7000.html\r\n"
       ]
      },
      {
       "output_type": "stream",
       "stream": "stdout",
       "text": [
        "Loading: CAZy_GH18_page8000.html\r\n"
       ]
      },
      {
       "output_type": "stream",
       "stream": "stdout",
       "text": [
        "Loading: CAZy_GH19_page0.html\r\n"
       ]
      },
      {
       "output_type": "stream",
       "stream": "stdout",
       "text": [
        "Loading: CAZy_GH19_page1000.html\r\n"
       ]
      },
      {
       "output_type": "stream",
       "stream": "stdout",
       "text": [
        "Loading: CAZy_GH19_page2000.html\r\n"
       ]
      },
      {
       "output_type": "stream",
       "stream": "stdout",
       "text": [
        "Loading: CAZy_GH19_page3000.html\r\n"
       ]
      },
      {
       "output_type": "stream",
       "stream": "stdout",
       "text": [
        "Loading: CAZy_GH1_page0.html\r\n"
       ]
      },
      {
       "output_type": "stream",
       "stream": "stdout",
       "text": [
        "Loading: CAZy_GH1_page1000.html\r\n"
       ]
      },
      {
       "output_type": "stream",
       "stream": "stdout",
       "text": [
        "Loading: CAZy_GH1_page2000.html\r\n"
       ]
      },
      {
       "output_type": "stream",
       "stream": "stdout",
       "text": [
        "Loading: CAZy_GH1_page3000.html\r\n"
       ]
      },
      {
       "output_type": "stream",
       "stream": "stdout",
       "text": [
        "Loading: CAZy_GH1_page4000.html\r\n"
       ]
      },
      {
       "output_type": "stream",
       "stream": "stdout",
       "text": [
        "Loading: CAZy_GH1_page5000.html\r\n"
       ]
      },
      {
       "output_type": "stream",
       "stream": "stdout",
       "text": [
        "Loading: CAZy_GH1_page6000.html\r\n"
       ]
      },
      {
       "output_type": "stream",
       "stream": "stdout",
       "text": [
        "Loading: CAZy_GH1_page7000.html\r\n"
       ]
      },
      {
       "output_type": "stream",
       "stream": "stdout",
       "text": [
        "Loading: CAZy_GH1_page8000.html\r\n"
       ]
      },
      {
       "output_type": "stream",
       "stream": "stdout",
       "text": [
        "Loading: CAZy_GH20_page0.html\r\n"
       ]
      },
      {
       "output_type": "stream",
       "stream": "stdout",
       "text": [
        "Loading: CAZy_GH20_page1000.html\r\n"
       ]
      },
      {
       "output_type": "stream",
       "stream": "stdout",
       "text": [
        "Loading: CAZy_GH20_page2000.html\r\n"
       ]
      },
      {
       "output_type": "stream",
       "stream": "stdout",
       "text": [
        "Loading: CAZy_GH21_page0.html\r\n"
       ]
      },
      {
       "output_type": "stream",
       "stream": "stdout",
       "text": [
        "Loading: CAZy_GH22_page0.html\r\n"
       ]
      },
      {
       "output_type": "stream",
       "stream": "stdout",
       "text": [
        "Loading: CAZy_GH23_page0.html\r\n"
       ]
      },
      {
       "output_type": "stream",
       "stream": "stdout",
       "text": [
        "Loading: CAZy_GH23_page1000.html\r\n"
       ]
      },
      {
       "output_type": "stream",
       "stream": "stdout",
       "text": [
        "Loading: CAZy_GH23_page10000.html\r\n"
       ]
      },
      {
       "output_type": "stream",
       "stream": "stdout",
       "text": [
        "Loading: CAZy_GH23_page11000.html\r\n"
       ]
      },
      {
       "output_type": "stream",
       "stream": "stdout",
       "text": [
        "Loading: CAZy_GH23_page12000.html\r\n"
       ]
      },
      {
       "output_type": "stream",
       "stream": "stdout",
       "text": [
        "Loading: CAZy_GH23_page13000.html\r\n"
       ]
      },
      {
       "output_type": "stream",
       "stream": "stdout",
       "text": [
        "Loading: CAZy_GH23_page14000.html\r\n"
       ]
      },
      {
       "output_type": "stream",
       "stream": "stdout",
       "text": [
        "Loading: CAZy_GH23_page15000.html\r\n"
       ]
      },
      {
       "output_type": "stream",
       "stream": "stdout",
       "text": [
        "Loading: CAZy_GH23_page16000.html\r\n"
       ]
      },
      {
       "output_type": "stream",
       "stream": "stdout",
       "text": [
        "Loading: CAZy_GH23_page17000.html\r\n"
       ]
      },
      {
       "output_type": "stream",
       "stream": "stdout",
       "text": [
        "Loading: CAZy_GH23_page2000.html\r\n"
       ]
      },
      {
       "output_type": "stream",
       "stream": "stdout",
       "text": [
        "Loading: CAZy_GH23_page3000.html\r\n"
       ]
      },
      {
       "output_type": "stream",
       "stream": "stdout",
       "text": [
        "Loading: CAZy_GH23_page4000.html\r\n"
       ]
      },
      {
       "output_type": "stream",
       "stream": "stdout",
       "text": [
        "Loading: CAZy_GH23_page5000.html\r\n"
       ]
      },
      {
       "output_type": "stream",
       "stream": "stdout",
       "text": [
        "Loading: CAZy_GH23_page6000.html\r\n"
       ]
      },
      {
       "output_type": "stream",
       "stream": "stdout",
       "text": [
        "Loading: CAZy_GH23_page7000.html\r\n"
       ]
      },
      {
       "output_type": "stream",
       "stream": "stdout",
       "text": [
        "Loading: CAZy_GH23_page8000.html\r\n"
       ]
      },
      {
       "output_type": "stream",
       "stream": "stdout",
       "text": [
        "Loading: CAZy_GH23_page9000.html\r\n"
       ]
      },
      {
       "output_type": "stream",
       "stream": "stdout",
       "text": [
        "Loading: CAZy_GH24_page0.html\r\n"
       ]
      },
      {
       "output_type": "stream",
       "stream": "stdout",
       "text": [
        "Loading: CAZy_GH24_page1000.html\r\n"
       ]
      },
      {
       "output_type": "stream",
       "stream": "stdout",
       "text": [
        "Loading: CAZy_GH24_page2000.html\r\n"
       ]
      },
      {
       "output_type": "stream",
       "stream": "stdout",
       "text": [
        "Loading: CAZy_GH24_page3000.html\r\n"
       ]
      },
      {
       "output_type": "stream",
       "stream": "stdout",
       "text": [
        "Loading: CAZy_GH25_page0.html\r\n"
       ]
      },
      {
       "output_type": "stream",
       "stream": "stdout",
       "text": [
        "Loading: CAZy_GH25_page1000.html\r\n"
       ]
      },
      {
       "output_type": "stream",
       "stream": "stdout",
       "text": [
        "Loading: CAZy_GH25_page2000.html\r\n"
       ]
      },
      {
       "output_type": "stream",
       "stream": "stdout",
       "text": [
        "Loading: CAZy_GH25_page3000.html\r\n"
       ]
      },
      {
       "output_type": "stream",
       "stream": "stdout",
       "text": [
        "Loading: CAZy_GH26_page0.html\r\n"
       ]
      },
      {
       "output_type": "stream",
       "stream": "stdout",
       "text": [
        "Loading: CAZy_GH27_page0.html\r\n"
       ]
      },
      {
       "output_type": "stream",
       "stream": "stdout",
       "text": [
        "Loading: CAZy_GH28_page0.html\r\n"
       ]
      },
      {
       "output_type": "stream",
       "stream": "stdout",
       "text": [
        "Loading: CAZy_GH28_page1000.html\r\n"
       ]
      },
      {
       "output_type": "stream",
       "stream": "stdout",
       "text": [
        "Loading: CAZy_GH28_page2000.html\r\n"
       ]
      },
      {
       "output_type": "stream",
       "stream": "stdout",
       "text": [
        "Loading: CAZy_GH28_page3000.html\r\n"
       ]
      },
      {
       "output_type": "stream",
       "stream": "stdout",
       "text": [
        "Loading: CAZy_GH29_page0.html\r\n"
       ]
      },
      {
       "output_type": "stream",
       "stream": "stdout",
       "text": [
        "Loading: CAZy_GH2_page0.html\r\n"
       ]
      },
      {
       "output_type": "stream",
       "stream": "stdout",
       "text": [
        "Loading: CAZy_GH2_page1000.html\r\n"
       ]
      },
      {
       "output_type": "stream",
       "stream": "stdout",
       "text": [
        "Loading: CAZy_GH2_page2000.html\r\n"
       ]
      },
      {
       "output_type": "stream",
       "stream": "stdout",
       "text": [
        "Loading: CAZy_GH2_page3000.html\r\n"
       ]
      },
      {
       "output_type": "stream",
       "stream": "stdout",
       "text": [
        "Loading: CAZy_GH2_page4000.html\r\n"
       ]
      },
      {
       "output_type": "stream",
       "stream": "stdout",
       "text": [
        "Loading: CAZy_GH2_page5000.html\r\n"
       ]
      },
      {
       "output_type": "stream",
       "stream": "stdout",
       "text": [
        "Loading: CAZy_GH30_page0.html\r\n"
       ]
      },
      {
       "output_type": "stream",
       "stream": "stdout",
       "text": [
        "Loading: CAZy_GH31_page0.html\r\n"
       ]
      },
      {
       "output_type": "stream",
       "stream": "stdout",
       "text": [
        "Loading: CAZy_GH31_page1000.html\r\n"
       ]
      },
      {
       "output_type": "stream",
       "stream": "stdout",
       "text": [
        "Loading: CAZy_GH31_page2000.html\r\n"
       ]
      },
      {
       "output_type": "stream",
       "stream": "stdout",
       "text": [
        "Loading: CAZy_GH31_page3000.html\r\n"
       ]
      },
      {
       "output_type": "stream",
       "stream": "stdout",
       "text": [
        "Loading: CAZy_GH31_page4000.html\r\n"
       ]
      },
      {
       "output_type": "stream",
       "stream": "stdout",
       "text": [
        "Loading: CAZy_GH32_page0.html\r\n"
       ]
      },
      {
       "output_type": "stream",
       "stream": "stdout",
       "text": [
        "Loading: CAZy_GH32_page1000.html\r\n"
       ]
      },
      {
       "output_type": "stream",
       "stream": "stdout",
       "text": [
        "Loading: CAZy_GH32_page2000.html\r\n"
       ]
      },
      {
       "output_type": "stream",
       "stream": "stdout",
       "text": [
        "Loading: CAZy_GH32_page3000.html\r\n"
       ]
      },
      {
       "output_type": "stream",
       "stream": "stdout",
       "text": [
        "Loading: CAZy_GH32_page4000.html\r\n"
       ]
      },
      {
       "output_type": "stream",
       "stream": "stdout",
       "text": [
        "Loading: CAZy_GH33_page0.html\r\n"
       ]
      },
      {
       "output_type": "stream",
       "stream": "stdout",
       "text": [
        "Loading: CAZy_GH33_page1000.html\r\n"
       ]
      },
      {
       "output_type": "stream",
       "stream": "stdout",
       "text": [
        "Loading: CAZy_GH33_page2000.html\r\n"
       ]
      },
      {
       "output_type": "stream",
       "stream": "stdout",
       "text": [
        "Loading: CAZy_GH34_page0.html\r\n"
       ]
      },
      {
       "output_type": "stream",
       "stream": "stdout",
       "text": [
        "Loading: CAZy_GH34_page1000.html\r\n"
       ]
      },
      {
       "output_type": "stream",
       "stream": "stdout",
       "text": [
        "Loading: CAZy_GH34_page10000.html\r\n"
       ]
      },
      {
       "output_type": "stream",
       "stream": "stdout",
       "text": [
        "Loading: CAZy_GH34_page11000.html\r\n"
       ]
      },
      {
       "output_type": "stream",
       "stream": "stdout",
       "text": [
        "Loading: CAZy_GH34_page12000.html\r\n"
       ]
      },
      {
       "output_type": "stream",
       "stream": "stdout",
       "text": [
        "Loading: CAZy_GH34_page13000.html\r\n"
       ]
      },
      {
       "output_type": "stream",
       "stream": "stdout",
       "text": [
        "Loading: CAZy_GH34_page14000.html\r\n"
       ]
      },
      {
       "output_type": "stream",
       "stream": "stdout",
       "text": [
        "Loading: CAZy_GH34_page15000.html\r\n"
       ]
      },
      {
       "output_type": "stream",
       "stream": "stdout",
       "text": [
        "Loading: CAZy_GH34_page16000.html\r\n"
       ]
      },
      {
       "output_type": "stream",
       "stream": "stdout",
       "text": [
        "Loading: CAZy_GH34_page17000.html\r\n"
       ]
      },
      {
       "output_type": "stream",
       "stream": "stdout",
       "text": [
        "Loading: CAZy_GH34_page18000.html\r\n"
       ]
      },
      {
       "output_type": "stream",
       "stream": "stdout",
       "text": [
        "Loading: CAZy_GH34_page19000.html\r\n"
       ]
      },
      {
       "output_type": "stream",
       "stream": "stdout",
       "text": [
        "Loading: CAZy_GH34_page2000.html\r\n"
       ]
      },
      {
       "output_type": "stream",
       "stream": "stdout",
       "text": [
        "Loading: CAZy_GH34_page20000.html\r\n"
       ]
      },
      {
       "output_type": "stream",
       "stream": "stdout",
       "text": [
        "Loading: CAZy_GH34_page21000.html\r\n"
       ]
      },
      {
       "output_type": "stream",
       "stream": "stdout",
       "text": [
        "Loading: CAZy_GH34_page22000.html\r\n"
       ]
      },
      {
       "output_type": "stream",
       "stream": "stdout",
       "text": [
        "Loading: CAZy_GH34_page23000.html\r\n"
       ]
      },
      {
       "output_type": "stream",
       "stream": "stdout",
       "text": [
        "Loading: CAZy_GH34_page24000.html\r\n"
       ]
      },
      {
       "output_type": "stream",
       "stream": "stdout",
       "text": [
        "Loading: CAZy_GH34_page25000.html\r\n"
       ]
      },
      {
       "output_type": "stream",
       "stream": "stdout",
       "text": [
        "Loading: CAZy_GH34_page26000.html\r\n"
       ]
      },
      {
       "output_type": "stream",
       "stream": "stdout",
       "text": [
        "Loading: CAZy_GH34_page27000.html\r\n"
       ]
      },
      {
       "output_type": "stream",
       "stream": "stdout",
       "text": [
        "Loading: CAZy_GH34_page28000.html\r\n"
       ]
      },
      {
       "output_type": "stream",
       "stream": "stdout",
       "text": [
        "Loading: CAZy_GH34_page29000.html\r\n"
       ]
      },
      {
       "output_type": "stream",
       "stream": "stdout",
       "text": [
        "Loading: CAZy_GH34_page3000.html\r\n"
       ]
      },
      {
       "output_type": "stream",
       "stream": "stdout",
       "text": [
        "Loading: CAZy_GH34_page30000.html\r\n"
       ]
      },
      {
       "output_type": "stream",
       "stream": "stdout",
       "text": [
        "Loading: CAZy_GH34_page31000.html\r\n"
       ]
      },
      {
       "output_type": "stream",
       "stream": "stdout",
       "text": [
        "Loading: CAZy_GH34_page32000.html\r\n"
       ]
      },
      {
       "output_type": "stream",
       "stream": "stdout",
       "text": [
        "Loading: CAZy_GH34_page33000.html\r\n"
       ]
      },
      {
       "output_type": "stream",
       "stream": "stdout",
       "text": [
        "Loading: CAZy_GH34_page34000.html\r\n"
       ]
      },
      {
       "output_type": "stream",
       "stream": "stdout",
       "text": [
        "Loading: CAZy_GH34_page35000.html\r\n"
       ]
      },
      {
       "output_type": "stream",
       "stream": "stdout",
       "text": [
        "Loading: CAZy_GH34_page36000.html\r\n"
       ]
      },
      {
       "output_type": "stream",
       "stream": "stdout",
       "text": [
        "Loading: CAZy_GH34_page37000.html\r\n"
       ]
      },
      {
       "output_type": "stream",
       "stream": "stdout",
       "text": [
        "Loading: CAZy_GH34_page38000.html\r\n"
       ]
      },
      {
       "output_type": "stream",
       "stream": "stdout",
       "text": [
        "Loading: CAZy_GH34_page39000.html\r\n"
       ]
      },
      {
       "output_type": "stream",
       "stream": "stdout",
       "text": [
        "Loading: CAZy_GH34_page4000.html\r\n"
       ]
      },
      {
       "output_type": "stream",
       "stream": "stdout",
       "text": [
        "Loading: CAZy_GH34_page40000.html\r\n"
       ]
      },
      {
       "output_type": "stream",
       "stream": "stdout",
       "text": [
        "Loading: CAZy_GH34_page41000.html\r\n"
       ]
      },
      {
       "output_type": "stream",
       "stream": "stdout",
       "text": [
        "Loading: CAZy_GH34_page42000.html\r\n"
       ]
      },
      {
       "output_type": "stream",
       "stream": "stdout",
       "text": [
        "Loading: CAZy_GH34_page43000.html\r\n"
       ]
      },
      {
       "output_type": "stream",
       "stream": "stdout",
       "text": [
        "Loading: CAZy_GH34_page44000.html\r\n"
       ]
      },
      {
       "output_type": "stream",
       "stream": "stdout",
       "text": [
        "Loading: CAZy_GH34_page45000.html\r\n"
       ]
      },
      {
       "output_type": "stream",
       "stream": "stdout",
       "text": [
        "Loading: CAZy_GH34_page46000.html\r\n"
       ]
      },
      {
       "output_type": "stream",
       "stream": "stdout",
       "text": [
        "Loading: CAZy_GH34_page47000.html\r\n"
       ]
      },
      {
       "output_type": "stream",
       "stream": "stdout",
       "text": [
        "Loading: CAZy_GH34_page48000.html\r\n"
       ]
      },
      {
       "output_type": "stream",
       "stream": "stdout",
       "text": [
        "Loading: CAZy_GH34_page49000.html\r\n"
       ]
      },
      {
       "output_type": "stream",
       "stream": "stdout",
       "text": [
        "Loading: CAZy_GH34_page5000.html\r\n"
       ]
      },
      {
       "output_type": "stream",
       "stream": "stdout",
       "text": [
        "Loading: CAZy_GH34_page50000.html\r\n"
       ]
      },
      {
       "output_type": "stream",
       "stream": "stdout",
       "text": [
        "Loading: CAZy_GH34_page6000.html\r\n"
       ]
      },
      {
       "output_type": "stream",
       "stream": "stdout",
       "text": [
        "Loading: CAZy_GH34_page7000.html\r\n"
       ]
      },
      {
       "output_type": "stream",
       "stream": "stdout",
       "text": [
        "Loading: CAZy_GH34_page8000.html\r\n"
       ]
      },
      {
       "output_type": "stream",
       "stream": "stdout",
       "text": [
        "Loading: CAZy_GH34_page9000.html\r\n"
       ]
      },
      {
       "output_type": "stream",
       "stream": "stdout",
       "text": [
        "Loading: CAZy_GH35_page0.html\r\n"
       ]
      },
      {
       "output_type": "stream",
       "stream": "stdout",
       "text": [
        "Loading: CAZy_GH36_page0.html\r\n"
       ]
      },
      {
       "output_type": "stream",
       "stream": "stdout",
       "text": [
        "Loading: CAZy_GH36_page1000.html\r\n"
       ]
      },
      {
       "output_type": "stream",
       "stream": "stdout",
       "text": [
        "Loading: CAZy_GH36_page2000.html\r\n"
       ]
      },
      {
       "output_type": "stream",
       "stream": "stdout",
       "text": [
        "Loading: CAZy_GH37_page0.html\r\n"
       ]
      },
      {
       "output_type": "stream",
       "stream": "stdout",
       "text": [
        "Loading: CAZy_GH37_page1000.html\r\n"
       ]
      },
      {
       "output_type": "stream",
       "stream": "stdout",
       "text": [
        "Loading: CAZy_GH37_page2000.html\r\n"
       ]
      },
      {
       "output_type": "stream",
       "stream": "stdout",
       "text": [
        "Loading: CAZy_GH38_page0.html\r\n"
       ]
      },
      {
       "output_type": "stream",
       "stream": "stdout",
       "text": [
        "Loading: CAZy_GH38_page1000.html\r\n"
       ]
      },
      {
       "output_type": "stream",
       "stream": "stdout",
       "text": [
        "Loading: CAZy_GH38_page2000.html\r\n"
       ]
      },
      {
       "output_type": "stream",
       "stream": "stdout",
       "text": [
        "Loading: CAZy_GH39_page0.html\r\n"
       ]
      },
      {
       "output_type": "stream",
       "stream": "stdout",
       "text": [
        "Loading: CAZy_GH3_page0.html\r\n"
       ]
      },
      {
       "output_type": "stream",
       "stream": "stdout",
       "text": [
        "Loading: CAZy_GH3_page1000.html\r\n"
       ]
      },
      {
       "output_type": "stream",
       "stream": "stdout",
       "text": [
        "Loading: CAZy_GH3_page2000.html\r\n"
       ]
      },
      {
       "output_type": "stream",
       "stream": "stdout",
       "text": [
        "Loading: CAZy_GH3_page3000.html\r\n"
       ]
      },
      {
       "output_type": "stream",
       "stream": "stdout",
       "text": [
        "Loading: CAZy_GH3_page4000.html\r\n"
       ]
      },
      {
       "output_type": "stream",
       "stream": "stdout",
       "text": [
        "Loading: CAZy_GH3_page5000.html\r\n"
       ]
      },
      {
       "output_type": "stream",
       "stream": "stdout",
       "text": [
        "Loading: CAZy_GH3_page6000.html\r\n"
       ]
      },
      {
       "output_type": "stream",
       "stream": "stdout",
       "text": [
        "Loading: CAZy_GH3_page7000.html\r\n"
       ]
      },
      {
       "output_type": "stream",
       "stream": "stdout",
       "text": [
        "Loading: CAZy_GH3_page8000.html\r\n"
       ]
      },
      {
       "output_type": "stream",
       "stream": "stdout",
       "text": [
        "Loading: CAZy_GH40_page0.html\r\n"
       ]
      },
      {
       "output_type": "stream",
       "stream": "stdout",
       "text": [
        "Loading: CAZy_GH41_page0.html\r\n"
       ]
      },
      {
       "output_type": "stream",
       "stream": "stdout",
       "text": [
        "Loading: CAZy_GH42_page0.html\r\n"
       ]
      },
      {
       "output_type": "stream",
       "stream": "stdout",
       "text": [
        "Loading: CAZy_GH42_page1000.html\r\n"
       ]
      },
      {
       "output_type": "stream",
       "stream": "stdout",
       "text": [
        "Loading: CAZy_GH42_page2000.html\r\n"
       ]
      },
      {
       "output_type": "stream",
       "stream": "stdout",
       "text": [
        "Loading: CAZy_GH43_page0.html\r\n"
       ]
      },
      {
       "output_type": "stream",
       "stream": "stdout",
       "text": [
        "Loading: CAZy_GH43_page1000.html\r\n"
       ]
      },
      {
       "output_type": "stream",
       "stream": "stdout",
       "text": [
        "Loading: CAZy_GH43_page2000.html\r\n"
       ]
      },
      {
       "output_type": "stream",
       "stream": "stdout",
       "text": [
        "Loading: CAZy_GH43_page3000.html\r\n"
       ]
      },
      {
       "output_type": "stream",
       "stream": "stdout",
       "text": [
        "Loading: CAZy_GH43_page4000.html\r\n"
       ]
      },
      {
       "output_type": "stream",
       "stream": "stdout",
       "text": [
        "Loading: CAZy_GH43_page5000.html\r\n"
       ]
      },
      {
       "output_type": "stream",
       "stream": "stdout",
       "text": [
        "Loading: CAZy_GH44_page0.html\r\n"
       ]
      },
      {
       "output_type": "stream",
       "stream": "stdout",
       "text": [
        "Loading: CAZy_GH45_page0.html\r\n"
       ]
      },
      {
       "output_type": "stream",
       "stream": "stdout",
       "text": [
        "Loading: CAZy_GH46_page0.html\r\n"
       ]
      },
      {
       "output_type": "stream",
       "stream": "stdout",
       "text": [
        "Loading: CAZy_GH47_page0.html\r\n"
       ]
      },
      {
       "output_type": "stream",
       "stream": "stdout",
       "text": [
        "Loading: CAZy_GH48_page0.html\r\n"
       ]
      },
      {
       "output_type": "stream",
       "stream": "stdout",
       "text": [
        "Loading: CAZy_GH49_page0.html\r\n"
       ]
      },
      {
       "output_type": "stream",
       "stream": "stdout",
       "text": [
        "Loading: CAZy_GH4_page0.html\r\n"
       ]
      },
      {
       "output_type": "stream",
       "stream": "stdout",
       "text": [
        "Loading: CAZy_GH4_page1000.html\r\n"
       ]
      },
      {
       "output_type": "stream",
       "stream": "stdout",
       "text": [
        "Loading: CAZy_GH4_page2000.html\r\n"
       ]
      },
      {
       "output_type": "stream",
       "stream": "stdout",
       "text": [
        "Loading: CAZy_GH4_page3000.html\r\n"
       ]
      },
      {
       "output_type": "stream",
       "stream": "stdout",
       "text": [
        "Loading: CAZy_GH50_page0.html\r\n"
       ]
      },
      {
       "output_type": "stream",
       "stream": "stdout",
       "text": [
        "Loading: CAZy_GH51_page0.html\r\n"
       ]
      },
      {
       "output_type": "stream",
       "stream": "stdout",
       "text": [
        "Loading: CAZy_GH51_page1000.html\r\n"
       ]
      },
      {
       "output_type": "stream",
       "stream": "stdout",
       "text": [
        "Loading: CAZy_GH51_page2000.html\r\n"
       ]
      },
      {
       "output_type": "stream",
       "stream": "stdout",
       "text": [
        "Loading: CAZy_GH52_page0.html\r\n"
       ]
      },
      {
       "output_type": "stream",
       "stream": "stdout",
       "text": [
        "Loading: CAZy_GH53_page0.html\r\n"
       ]
      },
      {
       "output_type": "stream",
       "stream": "stdout",
       "text": [
        "Loading: CAZy_GH54_page0.html\r\n"
       ]
      },
      {
       "output_type": "stream",
       "stream": "stdout",
       "text": [
        "Loading: CAZy_GH55_page0.html\r\n"
       ]
      },
      {
       "output_type": "stream",
       "stream": "stdout",
       "text": [
        "Loading: CAZy_GH56_page0.html\r\n"
       ]
      },
      {
       "output_type": "stream",
       "stream": "stdout",
       "text": [
        "Loading: CAZy_GH57_page0.html\r\n"
       ]
      },
      {
       "output_type": "stream",
       "stream": "stdout",
       "text": [
        "Loading: CAZy_GH57_page1000.html\r\n"
       ]
      },
      {
       "output_type": "stream",
       "stream": "stdout",
       "text": [
        "Loading: CAZy_GH57_page2000.html\r\n"
       ]
      },
      {
       "output_type": "stream",
       "stream": "stdout",
       "text": [
        "Loading: CAZy_GH58_page0.html\r\n"
       ]
      },
      {
       "output_type": "stream",
       "stream": "stdout",
       "text": [
        "Loading: CAZy_GH59_page0.html\r\n"
       ]
      },
      {
       "output_type": "stream",
       "stream": "stdout",
       "text": [
        "Loading: CAZy_GH5_page0.html\r\n"
       ]
      },
      {
       "output_type": "stream",
       "stream": "stdout",
       "text": [
        "Loading: CAZy_GH5_page1000.html\r\n"
       ]
      },
      {
       "output_type": "stream",
       "stream": "stdout",
       "text": [
        "Loading: CAZy_GH5_page2000.html\r\n"
       ]
      },
      {
       "output_type": "stream",
       "stream": "stdout",
       "text": [
        "Loading: CAZy_GH5_page3000.html\r\n"
       ]
      },
      {
       "output_type": "stream",
       "stream": "stdout",
       "text": [
        "Loading: CAZy_GH5_page4000.html\r\n"
       ]
      },
      {
       "output_type": "stream",
       "stream": "stdout",
       "text": [
        "Loading: CAZy_GH5_page5000.html\r\n"
       ]
      },
      {
       "output_type": "stream",
       "stream": "stdout",
       "text": [
        "Loading: CAZy_GH5_page6000.html\r\n"
       ]
      },
      {
       "output_type": "stream",
       "stream": "stdout",
       "text": [
        "Loading: CAZy_GH60_page0.html\r\n"
       ]
      },
      {
       "output_type": "stream",
       "stream": "stdout",
       "text": [
        "Loading: CAZy_GH61_page0.html\r\n"
       ]
      },
      {
       "output_type": "stream",
       "stream": "stdout",
       "text": [
        "Loading: CAZy_GH62_page0.html\r\n"
       ]
      },
      {
       "output_type": "stream",
       "stream": "stdout",
       "text": [
        "Loading: CAZy_GH63_page0.html\r\n"
       ]
      },
      {
       "output_type": "stream",
       "stream": "stdout",
       "text": [
        "Loading: CAZy_GH64_page0.html\r\n"
       ]
      },
      {
       "output_type": "stream",
       "stream": "stdout",
       "text": [
        "Loading: CAZy_GH65_page0.html\r\n"
       ]
      },
      {
       "output_type": "stream",
       "stream": "stdout",
       "text": [
        "Loading: CAZy_GH65_page1000.html\r\n"
       ]
      },
      {
       "output_type": "stream",
       "stream": "stdout",
       "text": [
        "Loading: CAZy_GH65_page2000.html\r\n"
       ]
      },
      {
       "output_type": "stream",
       "stream": "stdout",
       "text": [
        "Loading: CAZy_GH66_page0.html\r\n"
       ]
      },
      {
       "output_type": "stream",
       "stream": "stdout",
       "text": [
        "Loading: CAZy_GH67_page0.html\r\n"
       ]
      },
      {
       "output_type": "stream",
       "stream": "stdout",
       "text": [
        "Loading: CAZy_GH68_page0.html\r\n"
       ]
      },
      {
       "output_type": "stream",
       "stream": "stdout",
       "text": [
        "Loading: CAZy_GH69_page0.html\r\n"
       ]
      },
      {
       "output_type": "stream",
       "stream": "stdout",
       "text": [
        "Loading: CAZy_GH6_page0.html\r\n"
       ]
      },
      {
       "output_type": "stream",
       "stream": "stdout",
       "text": [
        "Loading: CAZy_GH70_page0.html\r\n"
       ]
      },
      {
       "output_type": "stream",
       "stream": "stdout",
       "text": [
        "Loading: CAZy_GH71_page0.html\r\n"
       ]
      },
      {
       "output_type": "stream",
       "stream": "stdout",
       "text": [
        "Loading: CAZy_GH72_page0.html\r\n"
       ]
      },
      {
       "output_type": "stream",
       "stream": "stdout",
       "text": [
        "Loading: CAZy_GH73_page0.html\r\n"
       ]
      },
      {
       "output_type": "stream",
       "stream": "stdout",
       "text": [
        "Loading: CAZy_GH73_page1000.html\r\n"
       ]
      },
      {
       "output_type": "stream",
       "stream": "stdout",
       "text": [
        "Loading: CAZy_GH73_page2000.html\r\n"
       ]
      },
      {
       "output_type": "stream",
       "stream": "stdout",
       "text": [
        "Loading: CAZy_GH73_page3000.html\r\n"
       ]
      },
      {
       "output_type": "stream",
       "stream": "stdout",
       "text": [
        "Loading: CAZy_GH73_page4000.html\r\n"
       ]
      },
      {
       "output_type": "stream",
       "stream": "stdout",
       "text": [
        "Loading: CAZy_GH73_page5000.html\r\n"
       ]
      },
      {
       "output_type": "stream",
       "stream": "stdout",
       "text": [
        "Loading: CAZy_GH74_page0.html\r\n"
       ]
      },
      {
       "output_type": "stream",
       "stream": "stdout",
       "text": [
        "Loading: CAZy_GH75_page0.html\r\n"
       ]
      },
      {
       "output_type": "stream",
       "stream": "stdout",
       "text": [
        "Loading: CAZy_GH76_page0.html\r\n"
       ]
      },
      {
       "output_type": "stream",
       "stream": "stdout",
       "text": [
        "Loading: CAZy_GH77_page0.html\r\n"
       ]
      },
      {
       "output_type": "stream",
       "stream": "stdout",
       "text": [
        "Loading: CAZy_GH77_page1000.html\r\n"
       ]
      },
      {
       "output_type": "stream",
       "stream": "stdout",
       "text": [
        "Loading: CAZy_GH77_page2000.html\r\n"
       ]
      },
      {
       "output_type": "stream",
       "stream": "stdout",
       "text": [
        "Loading: CAZy_GH77_page3000.html\r\n"
       ]
      },
      {
       "output_type": "stream",
       "stream": "stdout",
       "text": [
        "Loading: CAZy_GH78_page0.html\r\n"
       ]
      },
      {
       "output_type": "stream",
       "stream": "stdout",
       "text": [
        "Loading: CAZy_GH79_page0.html\r\n"
       ]
      },
      {
       "output_type": "stream",
       "stream": "stdout",
       "text": [
        "Loading: CAZy_GH7_page0.html\r\n"
       ]
      },
      {
       "output_type": "stream",
       "stream": "stdout",
       "text": [
        "Loading: CAZy_GH7_page1000.html\r\n"
       ]
      },
      {
       "output_type": "stream",
       "stream": "stdout",
       "text": [
        "Loading: CAZy_GH7_page2000.html\r\n"
       ]
      },
      {
       "output_type": "stream",
       "stream": "stdout",
       "text": [
        "Loading: CAZy_GH7_page3000.html\r\n"
       ]
      },
      {
       "output_type": "stream",
       "stream": "stdout",
       "text": [
        "Loading: CAZy_GH7_page4000.html\r\n"
       ]
      },
      {
       "output_type": "stream",
       "stream": "stdout",
       "text": [
        "Loading: CAZy_GH7_page5000.html\r\n"
       ]
      },
      {
       "output_type": "stream",
       "stream": "stdout",
       "text": [
        "Loading: CAZy_GH7_page6000.html\r\n"
       ]
      },
      {
       "output_type": "stream",
       "stream": "stdout",
       "text": [
        "Loading: CAZy_GH80_page0.html\r\n"
       ]
      },
      {
       "output_type": "stream",
       "stream": "stdout",
       "text": [
        "Loading: CAZy_GH81_page0.html\r\n"
       ]
      },
      {
       "output_type": "stream",
       "stream": "stdout",
       "text": [
        "Loading: CAZy_GH82_page0.html\r\n"
       ]
      },
      {
       "output_type": "stream",
       "stream": "stdout",
       "text": [
        "Loading: CAZy_GH83_page0.html\r\n"
       ]
      },
      {
       "output_type": "stream",
       "stream": "stdout",
       "text": [
        "Loading: CAZy_GH83_page1000.html\r\n"
       ]
      },
      {
       "output_type": "stream",
       "stream": "stdout",
       "text": [
        "Loading: CAZy_GH83_page2000.html\r\n"
       ]
      },
      {
       "output_type": "stream",
       "stream": "stdout",
       "text": [
        "Loading: CAZy_GH84_page0.html\r\n"
       ]
      },
      {
       "output_type": "stream",
       "stream": "stdout",
       "text": [
        "Loading: CAZy_GH85_page0.html\r\n"
       ]
      },
      {
       "output_type": "stream",
       "stream": "stdout",
       "text": [
        "Loading: CAZy_GH86_page0.html\r\n"
       ]
      },
      {
       "output_type": "stream",
       "stream": "stdout",
       "text": [
        "Loading: CAZy_GH87_page0.html\r\n"
       ]
      },
      {
       "output_type": "stream",
       "stream": "stdout",
       "text": [
        "Loading: CAZy_GH88_page0.html\r\n"
       ]
      },
      {
       "output_type": "stream",
       "stream": "stdout",
       "text": [
        "Loading: CAZy_GH89_page0.html\r\n"
       ]
      },
      {
       "output_type": "stream",
       "stream": "stdout",
       "text": [
        "Loading: CAZy_GH8_page0.html\r\n"
       ]
      },
      {
       "output_type": "stream",
       "stream": "stdout",
       "text": [
        "Loading: CAZy_GH8_page1000.html\r\n"
       ]
      },
      {
       "output_type": "stream",
       "stream": "stdout",
       "text": [
        "Loading: CAZy_GH8_page2000.html\r\n"
       ]
      },
      {
       "output_type": "stream",
       "stream": "stdout",
       "text": [
        "Loading: CAZy_GH90_page0.html\r\n"
       ]
      },
      {
       "output_type": "stream",
       "stream": "stdout",
       "text": [
        "Loading: CAZy_GH91_page0.html\r\n"
       ]
      },
      {
       "output_type": "stream",
       "stream": "stdout",
       "text": [
        "Loading: CAZy_GH92_page0.html\r\n"
       ]
      },
      {
       "output_type": "stream",
       "stream": "stdout",
       "text": [
        "Loading: CAZy_GH92_page1000.html\r\n"
       ]
      },
      {
       "output_type": "stream",
       "stream": "stdout",
       "text": [
        "Loading: CAZy_GH92_page2000.html\r\n"
       ]
      },
      {
       "output_type": "stream",
       "stream": "stdout",
       "text": [
        "Loading: CAZy_GH93_page0.html\r\n"
       ]
      },
      {
       "output_type": "stream",
       "stream": "stdout",
       "text": [
        "Loading: CAZy_GH94_page0.html\r\n"
       ]
      },
      {
       "output_type": "stream",
       "stream": "stdout",
       "text": [
        "Loading: CAZy_GH95_page0.html\r\n"
       ]
      },
      {
       "output_type": "stream",
       "stream": "stdout",
       "text": [
        "Loading: CAZy_GH96_page0.html\r\n"
       ]
      },
      {
       "output_type": "stream",
       "stream": "stdout",
       "text": [
        "Loading: CAZy_GH97_page0.html\r\n"
       ]
      },
      {
       "output_type": "stream",
       "stream": "stdout",
       "text": [
        "Loading: CAZy_GH98_page0.html\r\n"
       ]
      },
      {
       "output_type": "stream",
       "stream": "stdout",
       "text": [
        "Loading: CAZy_GH99_page0.html\r\n"
       ]
      },
      {
       "output_type": "stream",
       "stream": "stdout",
       "text": [
        "Loading: CAZy_GH9_page0.html\r\n"
       ]
      },
      {
       "output_type": "stream",
       "stream": "stdout",
       "text": [
        "Loading: CAZy_GH9_page1000.html\r\n"
       ]
      },
      {
       "output_type": "stream",
       "stream": "stdout",
       "text": [
        "Loading: CAZy_GH9_page2000.html\r\n"
       ]
      },
      {
       "output_type": "stream",
       "stream": "stdout",
       "text": [
        "Loading: CAZy_GT10_page0.html\r\n"
       ]
      },
      {
       "output_type": "stream",
       "stream": "stdout",
       "text": [
        "Loading: CAZy_GT11_page0.html\r\n"
       ]
      },
      {
       "output_type": "stream",
       "stream": "stdout",
       "text": [
        "Loading: CAZy_GT12_page0.html\r\n"
       ]
      },
      {
       "output_type": "stream",
       "stream": "stdout",
       "text": [
        "Loading: CAZy_GT13_page0.html\r\n"
       ]
      },
      {
       "output_type": "stream",
       "stream": "stdout",
       "text": [
        "Loading: CAZy_GT14_page0.html\r\n"
       ]
      },
      {
       "output_type": "stream",
       "stream": "stdout",
       "text": [
        "Loading: CAZy_GT15_page0.html\r\n"
       ]
      },
      {
       "output_type": "stream",
       "stream": "stdout",
       "text": [
        "Loading: CAZy_GT16_page0.html\r\n"
       ]
      },
      {
       "output_type": "stream",
       "stream": "stdout",
       "text": [
        "Loading: CAZy_GT17_page0.html\r\n"
       ]
      },
      {
       "output_type": "stream",
       "stream": "stdout",
       "text": [
        "Loading: CAZy_GT18_page0.html\r\n"
       ]
      },
      {
       "output_type": "stream",
       "stream": "stdout",
       "text": [
        "Loading: CAZy_GT19_page0.html\r\n"
       ]
      },
      {
       "output_type": "stream",
       "stream": "stdout",
       "text": [
        "Loading: CAZy_GT19_page1000.html\r\n"
       ]
      },
      {
       "output_type": "stream",
       "stream": "stdout",
       "text": [
        "Loading: CAZy_GT19_page2000.html\r\n"
       ]
      },
      {
       "output_type": "stream",
       "stream": "stdout",
       "text": [
        "Loading: CAZy_GT19_page3000.html\r\n"
       ]
      },
      {
       "output_type": "stream",
       "stream": "stdout",
       "text": [
        "Loading: CAZy_GT1_page0.html\r\n"
       ]
      },
      {
       "output_type": "stream",
       "stream": "stdout",
       "text": [
        "Loading: CAZy_GT1_page1000.html\r\n"
       ]
      },
      {
       "output_type": "stream",
       "stream": "stdout",
       "text": [
        "Loading: CAZy_GT1_page2000.html\r\n"
       ]
      },
      {
       "output_type": "stream",
       "stream": "stdout",
       "text": [
        "Loading: CAZy_GT1_page3000.html\r\n"
       ]
      },
      {
       "output_type": "stream",
       "stream": "stdout",
       "text": [
        "Loading: CAZy_GT1_page4000.html\r\n"
       ]
      },
      {
       "output_type": "stream",
       "stream": "stdout",
       "text": [
        "Loading: CAZy_GT1_page5000.html\r\n"
       ]
      },
      {
       "output_type": "stream",
       "stream": "stdout",
       "text": [
        "Loading: CAZy_GT1_page6000.html\r\n"
       ]
      },
      {
       "output_type": "stream",
       "stream": "stdout",
       "text": [
        "Loading: CAZy_GT1_page7000.html\r\n"
       ]
      },
      {
       "output_type": "stream",
       "stream": "stdout",
       "text": [
        "Loading: CAZy_GT1_page8000.html\r\n"
       ]
      },
      {
       "output_type": "stream",
       "stream": "stdout",
       "text": [
        "Loading: CAZy_GT1_page9000.html\r\n"
       ]
      },
      {
       "output_type": "stream",
       "stream": "stdout",
       "text": [
        "Loading: CAZy_GT20_page0.html\r\n"
       ]
      },
      {
       "output_type": "stream",
       "stream": "stdout",
       "text": [
        "Loading: CAZy_GT20_page1000.html\r\n"
       ]
      },
      {
       "output_type": "stream",
       "stream": "stdout",
       "text": [
        "Loading: CAZy_GT20_page2000.html\r\n"
       ]
      },
      {
       "output_type": "stream",
       "stream": "stdout",
       "text": [
        "Loading: CAZy_GT20_page3000.html\r\n"
       ]
      },
      {
       "output_type": "stream",
       "stream": "stdout",
       "text": [
        "Loading: CAZy_GT21_page0.html\r\n"
       ]
      },
      {
       "output_type": "stream",
       "stream": "stdout",
       "text": [
        "Loading: CAZy_GT22_page0.html\r\n"
       ]
      },
      {
       "output_type": "stream",
       "stream": "stdout",
       "text": [
        "Loading: CAZy_GT23_page0.html\r\n"
       ]
      },
      {
       "output_type": "stream",
       "stream": "stdout",
       "text": [
        "Loading: CAZy_GT24_page0.html\r\n"
       ]
      },
      {
       "output_type": "stream",
       "stream": "stdout",
       "text": [
        "Loading: CAZy_GT25_page0.html\r\n"
       ]
      },
      {
       "output_type": "stream",
       "stream": "stdout",
       "text": [
        "Loading: CAZy_GT25_page1000.html\r\n"
       ]
      },
      {
       "output_type": "stream",
       "stream": "stdout",
       "text": [
        "Loading: CAZy_GT25_page2000.html\r\n"
       ]
      },
      {
       "output_type": "stream",
       "stream": "stdout",
       "text": [
        "Loading: CAZy_GT26_page0.html\r\n"
       ]
      },
      {
       "output_type": "stream",
       "stream": "stdout",
       "text": [
        "Loading: CAZy_GT26_page1000.html\r\n"
       ]
      },
      {
       "output_type": "stream",
       "stream": "stdout",
       "text": [
        "Loading: CAZy_GT26_page2000.html\r\n"
       ]
      },
      {
       "output_type": "stream",
       "stream": "stdout",
       "text": [
        "Loading: CAZy_GT26_page3000.html\r\n"
       ]
      },
      {
       "output_type": "stream",
       "stream": "stdout",
       "text": [
        "Loading: CAZy_GT27_page0.html\r\n"
       ]
      },
      {
       "output_type": "stream",
       "stream": "stdout",
       "text": [
        "Loading: CAZy_GT28_page0.html\r\n"
       ]
      },
      {
       "output_type": "stream",
       "stream": "stdout",
       "text": [
        "Loading: CAZy_GT28_page1000.html\r\n"
       ]
      },
      {
       "output_type": "stream",
       "stream": "stdout",
       "text": [
        "Loading: CAZy_GT28_page2000.html\r\n"
       ]
      },
      {
       "output_type": "stream",
       "stream": "stdout",
       "text": [
        "Loading: CAZy_GT28_page3000.html\r\n"
       ]
      },
      {
       "output_type": "stream",
       "stream": "stdout",
       "text": [
        "Loading: CAZy_GT28_page4000.html\r\n"
       ]
      },
      {
       "output_type": "stream",
       "stream": "stdout",
       "text": [
        "Loading: CAZy_GT28_page5000.html\r\n"
       ]
      },
      {
       "output_type": "stream",
       "stream": "stdout",
       "text": [
        "Loading: CAZy_GT28_page6000.html\r\n"
       ]
      },
      {
       "output_type": "stream",
       "stream": "stdout",
       "text": [
        "Loading: CAZy_GT29_page0.html\r\n"
       ]
      },
      {
       "output_type": "stream",
       "stream": "stdout",
       "text": [
        "Loading: CAZy_GT2_page0.html\r\n"
       ]
      },
      {
       "output_type": "stream",
       "stream": "stdout",
       "text": [
        "Loading: CAZy_GT2_page1000.html\r\n"
       ]
      },
      {
       "output_type": "stream",
       "stream": "stdout",
       "text": [
        "Loading: CAZy_GT2_page10000.html\r\n"
       ]
      },
      {
       "output_type": "stream",
       "stream": "stdout",
       "text": [
        "Loading: CAZy_GT2_page11000.html\r\n"
       ]
      },
      {
       "output_type": "stream",
       "stream": "stdout",
       "text": [
        "Loading: CAZy_GT2_page12000.html\r\n"
       ]
      },
      {
       "output_type": "stream",
       "stream": "stdout",
       "text": [
        "Loading: CAZy_GT2_page13000.html\r\n"
       ]
      },
      {
       "output_type": "stream",
       "stream": "stdout",
       "text": [
        "Loading: CAZy_GT2_page14000.html\r\n"
       ]
      },
      {
       "output_type": "stream",
       "stream": "stdout",
       "text": [
        "Loading: CAZy_GT2_page15000.html\r\n"
       ]
      },
      {
       "output_type": "stream",
       "stream": "stdout",
       "text": [
        "Loading: CAZy_GT2_page16000.html\r\n"
       ]
      },
      {
       "output_type": "stream",
       "stream": "stdout",
       "text": [
        "Loading: CAZy_GT2_page17000.html\r\n"
       ]
      },
      {
       "output_type": "stream",
       "stream": "stdout",
       "text": [
        "Loading: CAZy_GT2_page18000.html\r\n"
       ]
      },
      {
       "output_type": "stream",
       "stream": "stdout",
       "text": [
        "Loading: CAZy_GT2_page19000.html\r\n"
       ]
      },
      {
       "output_type": "stream",
       "stream": "stdout",
       "text": [
        "Loading: CAZy_GT2_page2000.html\r\n"
       ]
      },
      {
       "output_type": "stream",
       "stream": "stdout",
       "text": [
        "Loading: CAZy_GT2_page20000.html\r\n"
       ]
      },
      {
       "output_type": "stream",
       "stream": "stdout",
       "text": [
        "Loading: CAZy_GT2_page21000.html\r\n"
       ]
      },
      {
       "output_type": "stream",
       "stream": "stdout",
       "text": [
        "Loading: CAZy_GT2_page22000.html\r\n"
       ]
      },
      {
       "output_type": "stream",
       "stream": "stdout",
       "text": [
        "Loading: CAZy_GT2_page23000.html\r\n"
       ]
      },
      {
       "output_type": "stream",
       "stream": "stdout",
       "text": [
        "Loading: CAZy_GT2_page24000.html\r\n"
       ]
      },
      {
       "output_type": "stream",
       "stream": "stdout",
       "text": [
        "Loading: CAZy_GT2_page25000.html\r\n"
       ]
      },
      {
       "output_type": "stream",
       "stream": "stdout",
       "text": [
        "Loading: CAZy_GT2_page26000.html\r\n"
       ]
      },
      {
       "output_type": "stream",
       "stream": "stdout",
       "text": [
        "Loading: CAZy_GT2_page27000.html\r\n"
       ]
      },
      {
       "output_type": "stream",
       "stream": "stdout",
       "text": [
        "Loading: CAZy_GT2_page28000.html\r\n"
       ]
      },
      {
       "output_type": "stream",
       "stream": "stdout",
       "text": [
        "Loading: CAZy_GT2_page29000.html\r\n"
       ]
      },
      {
       "output_type": "stream",
       "stream": "stdout",
       "text": [
        "Loading: CAZy_GT2_page3000.html\r\n"
       ]
      },
      {
       "output_type": "stream",
       "stream": "stdout",
       "text": [
        "Loading: CAZy_GT2_page30000.html\r\n"
       ]
      },
      {
       "output_type": "stream",
       "stream": "stdout",
       "text": [
        "Loading: CAZy_GT2_page31000.html\r\n"
       ]
      },
      {
       "output_type": "stream",
       "stream": "stdout",
       "text": [
        "Loading: CAZy_GT2_page32000.html\r\n"
       ]
      },
      {
       "output_type": "stream",
       "stream": "stdout",
       "text": [
        "Loading: CAZy_GT2_page33000.html\r\n"
       ]
      },
      {
       "output_type": "stream",
       "stream": "stdout",
       "text": [
        "Loading: CAZy_GT2_page34000.html\r\n"
       ]
      },
      {
       "output_type": "stream",
       "stream": "stdout",
       "text": [
        "Loading: CAZy_GT2_page35000.html\r\n"
       ]
      },
      {
       "output_type": "stream",
       "stream": "stdout",
       "text": [
        "Loading: CAZy_GT2_page36000.html\r\n"
       ]
      },
      {
       "output_type": "stream",
       "stream": "stdout",
       "text": [
        "Loading: CAZy_GT2_page37000.html\r\n"
       ]
      },
      {
       "output_type": "stream",
       "stream": "stdout",
       "text": [
        "Loading: CAZy_GT2_page38000.html\r\n"
       ]
      },
      {
       "output_type": "stream",
       "stream": "stdout",
       "text": [
        "Loading: CAZy_GT2_page39000.html\r\n"
       ]
      },
      {
       "output_type": "stream",
       "stream": "stdout",
       "text": [
        "Loading: CAZy_GT2_page4000.html\r\n"
       ]
      },
      {
       "output_type": "stream",
       "stream": "stdout",
       "text": [
        "Loading: CAZy_GT2_page40000.html\r\n"
       ]
      },
      {
       "output_type": "stream",
       "stream": "stdout",
       "text": [
        "Loading: CAZy_GT2_page41000.html\r\n"
       ]
      },
      {
       "output_type": "stream",
       "stream": "stdout",
       "text": [
        "Loading: CAZy_GT2_page42000.html\r\n"
       ]
      },
      {
       "output_type": "stream",
       "stream": "stdout",
       "text": [
        "Loading: CAZy_GT2_page43000.html\r\n"
       ]
      },
      {
       "output_type": "stream",
       "stream": "stdout",
       "text": [
        "Loading: CAZy_GT2_page44000.html\r\n"
       ]
      },
      {
       "output_type": "stream",
       "stream": "stdout",
       "text": [
        "Loading: CAZy_GT2_page45000.html\r\n"
       ]
      },
      {
       "output_type": "stream",
       "stream": "stdout",
       "text": [
        "Loading: CAZy_GT2_page46000.html\r\n"
       ]
      },
      {
       "output_type": "stream",
       "stream": "stdout",
       "text": [
        "Loading: CAZy_GT2_page47000.html\r\n"
       ]
      },
      {
       "output_type": "stream",
       "stream": "stdout",
       "text": [
        "Loading: CAZy_GT2_page48000.html\r\n"
       ]
      },
      {
       "output_type": "stream",
       "stream": "stdout",
       "text": [
        "Loading: CAZy_GT2_page49000.html\r\n"
       ]
      },
      {
       "output_type": "stream",
       "stream": "stdout",
       "text": [
        "Loading: CAZy_GT2_page5000.html\r\n"
       ]
      },
      {
       "output_type": "stream",
       "stream": "stdout",
       "text": [
        "Loading: CAZy_GT2_page50000.html\r\n"
       ]
      },
      {
       "output_type": "stream",
       "stream": "stdout",
       "text": [
        "Loading: CAZy_GT2_page6000.html\r\n"
       ]
      },
      {
       "output_type": "stream",
       "stream": "stdout",
       "text": [
        "Loading: CAZy_GT2_page7000.html\r\n"
       ]
      },
      {
       "output_type": "stream",
       "stream": "stdout",
       "text": [
        "Loading: CAZy_GT2_page8000.html\r\n"
       ]
      },
      {
       "output_type": "stream",
       "stream": "stdout",
       "text": [
        "Loading: CAZy_GT2_page9000.html\r\n"
       ]
      },
      {
       "output_type": "stream",
       "stream": "stdout",
       "text": [
        "Loading: CAZy_GT30_page0.html\r\n"
       ]
      },
      {
       "output_type": "stream",
       "stream": "stdout",
       "text": [
        "Loading: CAZy_GT30_page1000.html\r\n"
       ]
      },
      {
       "output_type": "stream",
       "stream": "stdout",
       "text": [
        "Loading: CAZy_GT30_page2000.html\r\n"
       ]
      },
      {
       "output_type": "stream",
       "stream": "stdout",
       "text": [
        "Loading: CAZy_GT30_page3000.html\r\n"
       ]
      },
      {
       "output_type": "stream",
       "stream": "stdout",
       "text": [
        "Loading: CAZy_GT31_page0.html\r\n"
       ]
      },
      {
       "output_type": "stream",
       "stream": "stdout",
       "text": [
        "Loading: CAZy_GT32_page0.html\r\n"
       ]
      },
      {
       "output_type": "stream",
       "stream": "stdout",
       "text": [
        "Loading: CAZy_GT32_page1000.html\r\n"
       ]
      },
      {
       "output_type": "stream",
       "stream": "stdout",
       "text": [
        "Loading: CAZy_GT32_page2000.html\r\n"
       ]
      },
      {
       "output_type": "stream",
       "stream": "stdout",
       "text": [
        "Loading: CAZy_GT33_page0.html\r\n"
       ]
      },
      {
       "output_type": "stream",
       "stream": "stdout",
       "text": [
        "Loading: CAZy_GT34_page0.html\r\n"
       ]
      },
      {
       "output_type": "stream",
       "stream": "stdout",
       "text": [
        "Loading: CAZy_GT35_page0.html\r\n"
       ]
      },
      {
       "output_type": "stream",
       "stream": "stdout",
       "text": [
        "Loading: CAZy_GT35_page1000.html\r\n"
       ]
      },
      {
       "output_type": "stream",
       "stream": "stdout",
       "text": [
        "Loading: CAZy_GT35_page2000.html\r\n"
       ]
      },
      {
       "output_type": "stream",
       "stream": "stdout",
       "text": [
        "Loading: CAZy_GT35_page3000.html\r\n"
       ]
      },
      {
       "output_type": "stream",
       "stream": "stdout",
       "text": [
        "Loading: CAZy_GT35_page4000.html\r\n"
       ]
      },
      {
       "output_type": "stream",
       "stream": "stdout",
       "text": [
        "Loading: CAZy_GT36_page0.html\r\n"
       ]
      },
      {
       "output_type": "stream",
       "stream": "stdout",
       "text": [
        "Loading: CAZy_GT37_page0.html\r\n"
       ]
      },
      {
       "output_type": "stream",
       "stream": "stdout",
       "text": [
        "Loading: CAZy_GT38_page0.html\r\n"
       ]
      },
      {
       "output_type": "stream",
       "stream": "stdout",
       "text": [
        "Loading: CAZy_GT39_page0.html\r\n"
       ]
      },
      {
       "output_type": "stream",
       "stream": "stdout",
       "text": [
        "Loading: CAZy_GT3_page0.html\r\n"
       ]
      },
      {
       "output_type": "stream",
       "stream": "stdout",
       "text": [
        "Loading: CAZy_GT40_page0.html\r\n"
       ]
      },
      {
       "output_type": "stream",
       "stream": "stdout",
       "text": [
        "Loading: CAZy_GT41_page0.html\r\n"
       ]
      },
      {
       "output_type": "stream",
       "stream": "stdout",
       "text": [
        "Loading: CAZy_GT42_page0.html\r\n"
       ]
      },
      {
       "output_type": "stream",
       "stream": "stdout",
       "text": [
        "Loading: CAZy_GT43_page0.html\r\n"
       ]
      },
      {
       "output_type": "stream",
       "stream": "stdout",
       "text": [
        "Loading: CAZy_GT44_page0.html\r\n"
       ]
      },
      {
       "output_type": "stream",
       "stream": "stdout",
       "text": [
        "Loading: CAZy_GT45_page0.html\r\n"
       ]
      },
      {
       "output_type": "stream",
       "stream": "stdout",
       "text": [
        "Loading: CAZy_GT46_page0.html\r\n"
       ]
      },
      {
       "output_type": "stream",
       "stream": "stdout",
       "text": [
        "Loading: CAZy_GT47_page0.html\r\n"
       ]
      },
      {
       "output_type": "stream",
       "stream": "stdout",
       "text": [
        "Loading: CAZy_GT48_page0.html\r\n"
       ]
      },
      {
       "output_type": "stream",
       "stream": "stdout",
       "text": [
        "Loading: CAZy_GT49_page0.html\r\n"
       ]
      },
      {
       "output_type": "stream",
       "stream": "stdout",
       "text": [
        "Loading: CAZy_GT4_page0.html\r\n"
       ]
      },
      {
       "output_type": "stream",
       "stream": "stdout",
       "text": [
        "Loading: CAZy_GT4_page1000.html\r\n"
       ]
      },
      {
       "output_type": "stream",
       "stream": "stdout",
       "text": [
        "Loading: CAZy_GT4_page10000.html\r\n"
       ]
      },
      {
       "output_type": "stream",
       "stream": "stdout",
       "text": [
        "Loading: CAZy_GT4_page11000.html\r\n"
       ]
      },
      {
       "output_type": "stream",
       "stream": "stdout",
       "text": [
        "Loading: CAZy_GT4_page12000.html\r\n"
       ]
      },
      {
       "output_type": "stream",
       "stream": "stdout",
       "text": [
        "Loading: CAZy_GT4_page13000.html\r\n"
       ]
      },
      {
       "output_type": "stream",
       "stream": "stdout",
       "text": [
        "Loading: CAZy_GT4_page14000.html\r\n"
       ]
      },
      {
       "output_type": "stream",
       "stream": "stdout",
       "text": [
        "Loading: CAZy_GT4_page15000.html\r\n"
       ]
      },
      {
       "output_type": "stream",
       "stream": "stdout",
       "text": [
        "Loading: CAZy_GT4_page16000.html\r\n"
       ]
      },
      {
       "output_type": "stream",
       "stream": "stdout",
       "text": [
        "Loading: CAZy_GT4_page17000.html\r\n"
       ]
      },
      {
       "output_type": "stream",
       "stream": "stdout",
       "text": [
        "Loading: CAZy_GT4_page18000.html\r\n"
       ]
      },
      {
       "output_type": "stream",
       "stream": "stdout",
       "text": [
        "Loading: CAZy_GT4_page19000.html\r\n"
       ]
      },
      {
       "output_type": "stream",
       "stream": "stdout",
       "text": [
        "Loading: CAZy_GT4_page2000.html\r\n"
       ]
      },
      {
       "output_type": "stream",
       "stream": "stdout",
       "text": [
        "Loading: CAZy_GT4_page20000.html\r\n"
       ]
      },
      {
       "output_type": "stream",
       "stream": "stdout",
       "text": [
        "Loading: CAZy_GT4_page21000.html\r\n"
       ]
      },
      {
       "output_type": "stream",
       "stream": "stdout",
       "text": [
        "Loading: CAZy_GT4_page22000.html\r\n"
       ]
      },
      {
       "output_type": "stream",
       "stream": "stdout",
       "text": [
        "Loading: CAZy_GT4_page23000.html\r\n"
       ]
      },
      {
       "output_type": "stream",
       "stream": "stdout",
       "text": [
        "Loading: CAZy_GT4_page24000.html\r\n"
       ]
      },
      {
       "output_type": "stream",
       "stream": "stdout",
       "text": [
        "Loading: CAZy_GT4_page25000.html\r\n"
       ]
      },
      {
       "output_type": "stream",
       "stream": "stdout",
       "text": [
        "Loading: CAZy_GT4_page26000.html\r\n"
       ]
      },
      {
       "output_type": "stream",
       "stream": "stdout",
       "text": [
        "Loading: CAZy_GT4_page27000.html\r\n"
       ]
      },
      {
       "output_type": "stream",
       "stream": "stdout",
       "text": [
        "Loading: CAZy_GT4_page28000.html\r\n"
       ]
      },
      {
       "output_type": "stream",
       "stream": "stdout",
       "text": [
        "Loading: CAZy_GT4_page29000.html\r\n"
       ]
      },
      {
       "output_type": "stream",
       "stream": "stdout",
       "text": [
        "Loading: CAZy_GT4_page3000.html\r\n"
       ]
      },
      {
       "output_type": "stream",
       "stream": "stdout",
       "text": [
        "Loading: CAZy_GT4_page30000.html\r\n"
       ]
      },
      {
       "output_type": "stream",
       "stream": "stdout",
       "text": [
        "Loading: CAZy_GT4_page31000.html\r\n"
       ]
      },
      {
       "output_type": "stream",
       "stream": "stdout",
       "text": [
        "Loading: CAZy_GT4_page32000.html\r\n"
       ]
      },
      {
       "output_type": "stream",
       "stream": "stdout",
       "text": [
        "Loading: CAZy_GT4_page33000.html\r\n"
       ]
      },
      {
       "output_type": "stream",
       "stream": "stdout",
       "text": [
        "Loading: CAZy_GT4_page34000.html\r\n"
       ]
      },
      {
       "output_type": "stream",
       "stream": "stdout",
       "text": [
        "Loading: CAZy_GT4_page35000.html\r\n"
       ]
      },
      {
       "output_type": "stream",
       "stream": "stdout",
       "text": [
        "Loading: CAZy_GT4_page36000.html\r\n"
       ]
      },
      {
       "output_type": "stream",
       "stream": "stdout",
       "text": [
        "Loading: CAZy_GT4_page37000.html\r\n"
       ]
      },
      {
       "output_type": "stream",
       "stream": "stdout",
       "text": [
        "Loading: CAZy_GT4_page38000.html\r\n"
       ]
      },
      {
       "output_type": "stream",
       "stream": "stdout",
       "text": [
        "Loading: CAZy_GT4_page39000.html\r\n"
       ]
      },
      {
       "output_type": "stream",
       "stream": "stdout",
       "text": [
        "Loading: CAZy_GT4_page4000.html\r\n"
       ]
      },
      {
       "output_type": "stream",
       "stream": "stdout",
       "text": [
        "Loading: CAZy_GT4_page40000.html\r\n"
       ]
      },
      {
       "output_type": "stream",
       "stream": "stdout",
       "text": [
        "Loading: CAZy_GT4_page5000.html\r\n"
       ]
      },
      {
       "output_type": "stream",
       "stream": "stdout",
       "text": [
        "Loading: CAZy_GT4_page6000.html\r\n"
       ]
      },
      {
       "output_type": "stream",
       "stream": "stdout",
       "text": [
        "Loading: CAZy_GT4_page7000.html\r\n"
       ]
      },
      {
       "output_type": "stream",
       "stream": "stdout",
       "text": [
        "Loading: CAZy_GT4_page8000.html\r\n"
       ]
      },
      {
       "output_type": "stream",
       "stream": "stdout",
       "text": [
        "Loading: CAZy_GT4_page9000.html\r\n"
       ]
      },
      {
       "output_type": "stream",
       "stream": "stdout",
       "text": [
        "Loading: CAZy_GT50_page0.html\r\n"
       ]
      },
      {
       "output_type": "stream",
       "stream": "stdout",
       "text": [
        "Loading: CAZy_GT51_page0.html\r\n"
       ]
      },
      {
       "output_type": "stream",
       "stream": "stdout",
       "text": [
        "Loading: CAZy_GT51_page1000.html\r\n"
       ]
      },
      {
       "output_type": "stream",
       "stream": "stdout",
       "text": [
        "Loading: CAZy_GT51_page10000.html\r\n"
       ]
      },
      {
       "output_type": "stream",
       "stream": "stdout",
       "text": [
        "Loading: CAZy_GT51_page11000.html\r\n"
       ]
      },
      {
       "output_type": "stream",
       "stream": "stdout",
       "text": [
        "Loading: CAZy_GT51_page12000.html\r\n"
       ]
      },
      {
       "output_type": "stream",
       "stream": "stdout",
       "text": [
        "Loading: CAZy_GT51_page2000.html\r\n"
       ]
      },
      {
       "output_type": "stream",
       "stream": "stdout",
       "text": [
        "Loading: CAZy_GT51_page3000.html\r\n"
       ]
      },
      {
       "output_type": "stream",
       "stream": "stdout",
       "text": [
        "Loading: CAZy_GT51_page4000.html\r\n"
       ]
      },
      {
       "output_type": "stream",
       "stream": "stdout",
       "text": [
        "Loading: CAZy_GT51_page5000.html\r\n"
       ]
      },
      {
       "output_type": "stream",
       "stream": "stdout",
       "text": [
        "Loading: CAZy_GT51_page6000.html\r\n"
       ]
      },
      {
       "output_type": "stream",
       "stream": "stdout",
       "text": [
        "Loading: CAZy_GT51_page7000.html\r\n"
       ]
      },
      {
       "output_type": "stream",
       "stream": "stdout",
       "text": [
        "Loading: CAZy_GT51_page8000.html\r\n"
       ]
      },
      {
       "output_type": "stream",
       "stream": "stdout",
       "text": [
        "Loading: CAZy_GT51_page9000.html\r\n"
       ]
      },
      {
       "output_type": "stream",
       "stream": "stdout",
       "text": [
        "Loading: CAZy_GT52_page0.html\r\n"
       ]
      },
      {
       "output_type": "stream",
       "stream": "stdout",
       "text": [
        "Loading: CAZy_GT53_page0.html\r\n"
       ]
      },
      {
       "output_type": "stream",
       "stream": "stdout",
       "text": [
        "Loading: CAZy_GT54_page0.html\r\n"
       ]
      },
      {
       "output_type": "stream",
       "stream": "stdout",
       "text": [
        "Loading: CAZy_GT55_page0.html\r\n"
       ]
      },
      {
       "output_type": "stream",
       "stream": "stdout",
       "text": [
        "Loading: CAZy_GT56_page0.html\r\n"
       ]
      },
      {
       "output_type": "stream",
       "stream": "stdout",
       "text": [
        "Loading: CAZy_GT57_page0.html\r\n"
       ]
      },
      {
       "output_type": "stream",
       "stream": "stdout",
       "text": [
        "Loading: CAZy_GT58_page0.html\r\n"
       ]
      },
      {
       "output_type": "stream",
       "stream": "stdout",
       "text": [
        "Loading: CAZy_GT59_page0.html\r\n"
       ]
      },
      {
       "output_type": "stream",
       "stream": "stdout",
       "text": [
        "Loading: CAZy_GT5_page0.html\r\n"
       ]
      },
      {
       "output_type": "stream",
       "stream": "stdout",
       "text": [
        "Loading: CAZy_GT5_page1000.html\r\n"
       ]
      },
      {
       "output_type": "stream",
       "stream": "stdout",
       "text": [
        "Loading: CAZy_GT5_page2000.html\r\n"
       ]
      },
      {
       "output_type": "stream",
       "stream": "stdout",
       "text": [
        "Loading: CAZy_GT5_page3000.html\r\n"
       ]
      },
      {
       "output_type": "stream",
       "stream": "stdout",
       "text": [
        "Loading: CAZy_GT5_page4000.html\r\n"
       ]
      },
      {
       "output_type": "stream",
       "stream": "stdout",
       "text": [
        "Loading: CAZy_GT5_page5000.html\r\n"
       ]
      },
      {
       "output_type": "stream",
       "stream": "stdout",
       "text": [
        "Loading: CAZy_GT5_page6000.html\r\n"
       ]
      },
      {
       "output_type": "stream",
       "stream": "stdout",
       "text": [
        "Loading: CAZy_GT5_page7000.html\r\n"
       ]
      },
      {
       "output_type": "stream",
       "stream": "stdout",
       "text": [
        "Loading: CAZy_GT60_page0.html\r\n"
       ]
      },
      {
       "output_type": "stream",
       "stream": "stdout",
       "text": [
        "Loading: CAZy_GT61_page0.html\r\n"
       ]
      },
      {
       "output_type": "stream",
       "stream": "stdout",
       "text": [
        "Loading: CAZy_GT61_page1000.html\r\n"
       ]
      },
      {
       "output_type": "stream",
       "stream": "stdout",
       "text": [
        "Loading: CAZy_GT61_page2000.html\r\n"
       ]
      },
      {
       "output_type": "stream",
       "stream": "stdout",
       "text": [
        "Loading: CAZy_GT61_page3000.html\r\n"
       ]
      },
      {
       "output_type": "stream",
       "stream": "stdout",
       "text": [
        "Loading: CAZy_GT62_page0.html\r\n"
       ]
      },
      {
       "output_type": "stream",
       "stream": "stdout",
       "text": [
        "Loading: CAZy_GT63_page0.html\r\n"
       ]
      },
      {
       "output_type": "stream",
       "stream": "stdout",
       "text": [
        "Loading: CAZy_GT64_page0.html\r\n"
       ]
      },
      {
       "output_type": "stream",
       "stream": "stdout",
       "text": [
        "Loading: CAZy_GT65_page0.html\r\n"
       ]
      },
      {
       "output_type": "stream",
       "stream": "stdout",
       "text": [
        "Loading: CAZy_GT66_page0.html\r\n"
       ]
      },
      {
       "output_type": "stream",
       "stream": "stdout",
       "text": [
        "Loading: CAZy_GT67_page0.html\r\n"
       ]
      },
      {
       "output_type": "stream",
       "stream": "stdout",
       "text": [
        "Loading: CAZy_GT68_page0.html\r\n"
       ]
      },
      {
       "output_type": "stream",
       "stream": "stdout",
       "text": [
        "Loading: CAZy_GT69_page0.html\r\n"
       ]
      },
      {
       "output_type": "stream",
       "stream": "stdout",
       "text": [
        "Loading: CAZy_GT69_page1000.html\r\n"
       ]
      },
      {
       "output_type": "stream",
       "stream": "stdout",
       "text": [
        "Loading: CAZy_GT69_page2000.html\r\n"
       ]
      },
      {
       "output_type": "stream",
       "stream": "stdout",
       "text": [
        "Loading: CAZy_GT6_page0.html\r\n"
       ]
      },
      {
       "output_type": "stream",
       "stream": "stdout",
       "text": [
        "Loading: CAZy_GT70_page0.html\r\n"
       ]
      },
      {
       "output_type": "stream",
       "stream": "stdout",
       "text": [
        "Loading: CAZy_GT71_page0.html\r\n"
       ]
      },
      {
       "output_type": "stream",
       "stream": "stdout",
       "text": [
        "Loading: CAZy_GT72_page0.html\r\n"
       ]
      },
      {
       "output_type": "stream",
       "stream": "stdout",
       "text": [
        "Loading: CAZy_GT73_page0.html\r\n"
       ]
      },
      {
       "output_type": "stream",
       "stream": "stdout",
       "text": [
        "Loading: CAZy_GT74_page0.html\r\n"
       ]
      },
      {
       "output_type": "stream",
       "stream": "stdout",
       "text": [
        "Loading: CAZy_GT75_page0.html\r\n"
       ]
      },
      {
       "output_type": "stream",
       "stream": "stdout",
       "text": [
        "Loading: CAZy_GT76_page0.html\r\n"
       ]
      },
      {
       "output_type": "stream",
       "stream": "stdout",
       "text": [
        "Loading: CAZy_GT77_page0.html\r\n"
       ]
      },
      {
       "output_type": "stream",
       "stream": "stdout",
       "text": [
        "Loading: CAZy_GT78_page0.html\r\n"
       ]
      },
      {
       "output_type": "stream",
       "stream": "stdout",
       "text": [
        "Loading: CAZy_GT79_page0.html\r\n"
       ]
      },
      {
       "output_type": "stream",
       "stream": "stdout",
       "text": [
        "Loading: CAZy_GT7_page0.html\r\n"
       ]
      },
      {
       "output_type": "stream",
       "stream": "stdout",
       "text": [
        "Loading: CAZy_GT80_page0.html\r\n"
       ]
      },
      {
       "output_type": "stream",
       "stream": "stdout",
       "text": [
        "Loading: CAZy_GT81_page0.html\r\n"
       ]
      },
      {
       "output_type": "stream",
       "stream": "stdout",
       "text": [
        "Loading: CAZy_GT82_page0.html\r\n"
       ]
      },
      {
       "output_type": "stream",
       "stream": "stdout",
       "text": [
        "Loading: CAZy_GT83_page0.html\r\n"
       ]
      },
      {
       "output_type": "stream",
       "stream": "stdout",
       "text": [
        "Loading: CAZy_GT83_page1000.html\r\n"
       ]
      },
      {
       "output_type": "stream",
       "stream": "stdout",
       "text": [
        "Loading: CAZy_GT83_page2000.html\r\n"
       ]
      },
      {
       "output_type": "stream",
       "stream": "stdout",
       "text": [
        "Loading: CAZy_GT83_page3000.html\r\n"
       ]
      },
      {
       "output_type": "stream",
       "stream": "stdout",
       "text": [
        "Loading: CAZy_GT84_page0.html\r\n"
       ]
      },
      {
       "output_type": "stream",
       "stream": "stdout",
       "text": [
        "Loading: CAZy_GT85_page0.html\r\n"
       ]
      },
      {
       "output_type": "stream",
       "stream": "stdout",
       "text": [
        "Loading: CAZy_GT86_page0.html\r\n",
        "Loading: CAZy_GT87_page0.html\r\n"
       ]
      },
      {
       "output_type": "stream",
       "stream": "stdout",
       "text": [
        "Loading: CAZy_GT88_page0.html\r\n"
       ]
      },
      {
       "output_type": "stream",
       "stream": "stdout",
       "text": [
        "Loading: CAZy_GT89_page0.html\r\n"
       ]
      },
      {
       "output_type": "stream",
       "stream": "stdout",
       "text": [
        "Loading: CAZy_GT8_page0.html\r\n"
       ]
      },
      {
       "output_type": "stream",
       "stream": "stdout",
       "text": [
        "Loading: CAZy_GT8_page1000.html\r\n"
       ]
      },
      {
       "output_type": "stream",
       "stream": "stdout",
       "text": [
        "Loading: CAZy_GT8_page2000.html\r\n"
       ]
      },
      {
       "output_type": "stream",
       "stream": "stdout",
       "text": [
        "Loading: CAZy_GT8_page3000.html\r\n"
       ]
      },
      {
       "output_type": "stream",
       "stream": "stdout",
       "text": [
        "Loading: CAZy_GT8_page4000.html\r\n"
       ]
      },
      {
       "output_type": "stream",
       "stream": "stdout",
       "text": [
        "Loading: CAZy_GT90_page0.html\r\n"
       ]
      },
      {
       "output_type": "stream",
       "stream": "stdout",
       "text": [
        "Loading: CAZy_GT91_page0.html\r\n"
       ]
      },
      {
       "output_type": "stream",
       "stream": "stdout",
       "text": [
        "Loading: CAZy_GT92_page0.html\r\n"
       ]
      },
      {
       "output_type": "stream",
       "stream": "stdout",
       "text": [
        "Loading: CAZy_GT93_page0.html\r\n",
        "Loading: CAZy_GT94_page0.html\r\n"
       ]
      },
      {
       "output_type": "stream",
       "stream": "stdout",
       "text": [
        "Loading: CAZy_GT95_page0.html\r\n"
       ]
      },
      {
       "output_type": "stream",
       "stream": "stdout",
       "text": [
        "Loading: CAZy_GT96_page0.html\r\n"
       ]
      },
      {
       "output_type": "stream",
       "stream": "stdout",
       "text": [
        "Loading: CAZy_GT97_page0.html\r\n"
       ]
      },
      {
       "output_type": "stream",
       "stream": "stdout",
       "text": [
        "Loading: CAZy_GT9_page0.html\r\n"
       ]
      },
      {
       "output_type": "stream",
       "stream": "stdout",
       "text": [
        "Loading: CAZy_GT9_page1000.html\r\n"
       ]
      },
      {
       "output_type": "stream",
       "stream": "stdout",
       "text": [
        "Loading: CAZy_GT9_page2000.html\r\n"
       ]
      },
      {
       "output_type": "stream",
       "stream": "stdout",
       "text": [
        "Loading: CAZy_GT9_page3000.html\r\n"
       ]
      },
      {
       "output_type": "stream",
       "stream": "stdout",
       "text": [
        "Loading: CAZy_GT9_page4000.html\r\n"
       ]
      },
      {
       "output_type": "stream",
       "stream": "stdout",
       "text": [
        "Loading: CAZy_GT9_page5000.html\r\n"
       ]
      },
      {
       "output_type": "stream",
       "stream": "stdout",
       "text": [
        "Loading: CAZy_GT9_page6000.html\r\n"
       ]
      },
      {
       "output_type": "stream",
       "stream": "stdout",
       "text": [
        "Loading: CAZy_GT9_page7000.html\r\n"
       ]
      }
     ],
     "prompt_number": 3
    },
    {
     "cell_type": "code",
     "collapsed": false,
     "input": [
      "! python fastareader.py\n",
      "# Creaters various classes of NCBI-accessing objects, using their script."
     ],
     "language": "python",
     "metadata": {},
     "outputs": [],
     "prompt_number": 4
    },
    {
     "cell_type": "code",
     "collapsed": false,
     "input": [
      "! python refseq_seqs_from_db.py --db CAZy3.db -t CAZY_2015_03_11 -o CAZyOutput_GT_GH.fa\n",
      "# Extracts fasta sequences from the CAZy database we created from NCBI and stores them all in a file."
     ],
     "language": "python",
     "metadata": {},
     "outputs": [
      {
       "output_type": "stream",
       "stream": "stdout",
       "text": [
        "http://eutils.ncbi.nlm.nih.gov/entrez/eutils/efetch.fcgi?db=protein&id=ABW30314.1,AFZ59650.1,AFZ59649.1,AFW95054.1,ABA20233.1,BAM53457.1,AFZ00437.1,AFY36332.1,AFY89648.1,AFY86511.1,AFZ14855.1,ACK71184.1,ADN17291.1,AFZ24883.1,AFY68134.1,AGY59278.1,AFZ31946.1,AHK79028.1,ACX95089.1,AFZ17568.1,AFZ18010.1,AHJ30761.1,AHJ30762.1,ADI65910.1,CAD37134.1,CAD37133.1,AFY43673.1,CAD37132.1,CAC85155.1,AFY50636.1,AFY50494.1,AFY81778.1,AFY83178.1,AFY77157.1,AFY77428.1,ABM69639.1,ABX08294.1,ABV49969.1,ABO16976.1,ABM78918.1,ABB49394.1,CAE21822.1,ABM71568.1,ABM74983.1,AAZ59192.1,AAP99415.1,NP_892446.1,AIQ94397.1,AIQ96526.1,AFY55993.1,AFZ34268.1,AFZ37869.1,BAD79308.1,ABB56429.1,ABI47501.1,ABB34261.1,ABB26804.1,AII42517.1,AII47024.1,AII47582.1,AFY61783.1,AFY72653.1,CAK27350.1,AJD56525.1,CAK22962.1,CAD37137.1,AHF62922.1,AIE74031.1,CAD33848.1,BAL30722.1,BAL33891.1,BAL37060.1,AGA32692.1,ADC72803.1,ACL71799.1,AHE98782.1,ABE10815.1,ABE11023.1,ABE11469.1,AFO84094.1,ACJ07082.1,AFS17279.1,AFS17281.1,ACX33985.1,AAP40464.1,AAM53335.1,AAO64115.1,BAB09123.1,BAD44643.1,CAB80203.1,AAN13200.1,AAM65926.1,AAG52223.1,CAD19320.1,CBD34227.1,CBD34228.1,AHD25652.1,AHD25653.1,AJO70157.1,AJO70158.1,AJO70153.1,AIN45137.1,ABI17895.1,CAA76145.1,BAJ33980.1,CAW96415.1,CAW96409.1,CBD34231.1,ADP88917.1,ADC68260.1,ADC68261.1,AHF27220.1,AGU19630.1,AHF27219.1,BAJ89365.1,BAK00808.1,BAJ89009.1,BAJ97009.1,ABY82046.1,BAD18099.1,BAM74666.1,BAM74667.1,AAS79609.1,BAA04847.1,AFP23358.1,CAW96416.1,CAW96417.1,CAW96418.1,CAW96419.1,CAW96420.1,CAM32308.1,CAA05869.1,CAG30577.1,AFU56879.1,AEQ30068.1,AEP31948.1,AFA46813.1,AFH77958.1,AFH77952.1,AFH77953.1,AFH77954.1,ABA08442.1,AHA82517.1,AHA82519.1,AHA82516.1,AHA82518.1,ACJ83736.1,ACJ85837.1,ABE77865.1,ABE94613.1,AEY78488.1,AEY78489.1,AAZ80874.1,BAD83540.1,BAC21162.1,BAC21161.1,AII99811.1,ADF27782.1,ADF27783.1,CAW96431.1,CAW96432.1,CAW96433.1,CAW96436.1,AAO25633.1,AAV28809.1,AAV28813.1,AAV28810.1,AAV28816.1,AAV28811.1,AAV28812.1,AAV28814.1,CAH66504.1,BAD53496.1,BAD25614.1,CAE04897.2,BAD33266.1,AAX95795.1,CAE03041.3,BAD08010.1,CAW96410.1,AGX27491.1,ABF50704.1,ABF50705.1,ABF50706.1,ABF50707.1,ABF50708.1,ABF50709.1,AFI57905.1,AFI57906.1,CAL64380.1,AGG41118.1,AGG41113.1,AGG41114.1,AGG41115.1,AGG41116.1,AGG41119.1,AGG41120.1,AGG41121.1,AGG41122.1,AFV94466.1,ABQ28669.1,AFW90589.1,CAW96411.1,CAL26914.1,ABT28320.1,ACJ07081.1,ACJ07083.1,ABF50710.1,ABF50711.1,CAN63178.1,CAN76975.1,CAN82082.1,CAP59641.1,CAP59643.1,CAP59645.1,ACG29128.1,ACG44831.1,ACG45616.1,CAW96413.1,CAW96442.1,ACL54498.1,ACN34188.1,ACF78727.1,ACF83893.1,ACF84899.1,ACF88123.1,ACV29694.1,ADH93453.1,ABM10140.1,AFR28299.1,ACJ78453.1,ACJ81926.1,BAL17719.1,BAL17718.1,ACM12424.1,ADY21334.1,ADY21335.1,AFL03844.1,ABY89501.1,ABY89502.1,ADP35390.1,ADO52490.1,BAP82827.1,ABY89503.1,ABY89504.1,ABY89505.1,ABY89506.1,ACD98703.1,ABY89507.1,ABY89508.1,ABY89509.1,ABY89510.1,ABY89511.1,ABY89512.1,ABY89513.1,ABY89514.1,ABY89515.1,AAN24297.1,ABY89516.1,BAJ70304.1,ADQ02189.1,AIW43211.1,BAJ65838.1,AEI98294.1,ABG82921.1,BAB80399.1,ADX80393.1,AIL05443.1,AFO44416.1,AHI40914.1,BAG75105.1,AEA94196.1,CCO72686.1,AAO81568.1,AHH95510.1,BAL61496.1,AIQ23046.1,AIQ34688.1,AEE72811.1,AER04697.1,AFU41400.1,AAT83312.1,ADE01234.1,AEW81879.1,AEW84145.1,AEW79636.1,ABY23064.1,ABY23065.1,ADD40846.1,ADX75447.1,ADV06889.1,CBJ22778.1,CBZ01294.1,ABI03936.1,AFC91837.1,AFC91833.1,ADM90511.1,ACO16114.1,AGZ47178.1,ADM83985.1,CAR68195.1,ACB89616.1,ABJ53757.1,ACF55808.1,AFS42492.1,AGV15646.1,ACA37625.1,CBW36000.1,CBW33962.1,AGV15652.1,AGV15647.1,ACO19201.1,AFC91830.1,AFC91835.1,AGV15649.1,AFC91836.1,AGV15654.1,AFC91832.1,AFC91829.1,AFC91834.1,AFC91831.1,AFC91838.1,AGV15648.1,AGV15651.1,CBW32023.1,ACO21668.1,AAK99132.1,CCP37089.1,CCP32080.1,CCP30094.1,CCP34053.1,CCM08967.1,AFC94107.1,ACO22384.1,ADI68893.1,ABC75807.1,AGV15653.1,AGV15650.1,AHZ48366.1,AIA02993.1,AJE86251.1,AEW93515.1,CCB73866.1,CAA20079.1,AGK80319.1,BAG18774.1,CDR14726.1,AIJ12299.1,AJC59079.1,AIV38342.1,AEN12582.1,CCA58506.1,AJF69997.1,AJC69926.1,ABW28321.1,ADP13703.1,AIR49556.1,AHC44841.1,CCH05792.1,ABQ29367.1,BAJ79511.1,ADX48467.1,ABM35186.1,ACM34790.1,ABM44117.1,AFU48304.1,AIZ79081.1,ABY69382.1,ABN73912.1,ACE61525.1,ABR75136.1,AIJ31149.1,AFU19071.1,AHG62642.1,AHE49626.1,AJQ54611.1,AHX32708.1,AJE36485.1,AGM44032.1,AHX69506.1,ABK36561.1,AHV35267.1,AHX61003.1,ABO90016.1,AEB49939.1,AEW76141.1,ACX83268.1,AFI87763.1,AHN72948.1,ACS97759.1,AAL41040.1,ACM24814.1,ADY63006.1,AHJ99915.1,ACM34977.1,ADV01938.1,AEB86880.1,CAQ78372.1,CED70663.1,AFZ57412.1,AFZ58521.1,AFW92907.1,ABA19970.1,ABA20591.1,ACL63428.1,ABC79831.1,ABS24275.1,ACG71300.1,AGR78368.1,BAK71706.1,ABV68408.1,ADG94545.1,BAK74539.1,CAI08446.1,ADU11856.1,CAL93342.1,BAL23004.1,BAF90599.1,AIB13985.1,AIB13104.1,CCC96590.1,CCC99929.1,CBS87159.1,CBS88210.1,BAI72589.1,BAI73524.1,BAM54471.1,AIL32116.1,ACB96673.1,AGG32723.1,AHG81915.1,AHG84212.1,AHG86277.1,AGH38285.1,CCA81440.1,CAJ50841.1,CCJ55715.1,CCJ61054.1,CAE34984.1,BAO71123.1,AIT26395.1,AHV94016.1,CAE39431.1,CCJ51555.1,AJB27745.1,CCJ61719.1,AIW96983.1,AEE68430.1,CAE43534.1,CAP40656.1,BAC45908.1,AJA59497.1,AHY55691.1,BAL05906.1,BAM86236.1,ABQ32452.1,CAL74170.1,BAL73419.1,ADK99668.1,CAJ12032.1,AIK04104.1,AIJ80261.1,AEW16783.1,AIJ53353.1,AIJ54049.1,AIJ77267.1,AAX75351.1,AIJ93233.1,AIJ63990.1,AIJ61452.1,AIJ58229.1,ACD73426.1,AIN91452.1,ABX63105.1,AEW14199.1,AIJ82179.1,CDL77446.1,AHZ82190.1,AHB00365.1,AHB02834.1,ACO01785.1,AAL53233.1,AIJ96782.1,AIJ84994.1,ADZ67138.1,ADZ88004.1,AEQ09595.1,ACU49035.1,ABQ61114.1,AIJ73416.1,AEK55354.1,AAN30965.1,AIJ67870.1,ABY38927.1,AIJ98925.1,AHN47656.1,AIB28710.1,AIB32078.1,AIB18576.1,AIB21963.1&rettype=fasta&retmode=text\r\n"
       ]
      }
     ]
    },
    {
     "cell_type": "code",
     "collapsed": false,
     "input": [],
     "language": "python",
     "metadata": {},
     "outputs": []
    }
   ],
   "metadata": {}
  }
 ]
}