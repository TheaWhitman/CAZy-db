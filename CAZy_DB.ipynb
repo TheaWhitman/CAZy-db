{
 "metadata": {
  "name": "",
  "signature": "sha256:3a24e3d05c7c1e23aa262db5170af334f55d618fe830595ab3584db0d3006fff"
 },
 "nbformat": 3,
 "nbformat_minor": 0,
 "worksheets": [
  {
   "cells": [
    {
     "cell_type": "code",
     "collapsed": false,
     "input": [
      "    import re\n",
      "    import sys\n",
      "    import os\n",
      "    import types\n",
      "    import argparse\n",
      "    from bs4 import *\n",
      "    import html5lib\n",
      "    import urllib2\n",
      "    import time\n",
      "    import sqlite3\n",
      "    # Had to install a few of these (bs4, html5lib) with pip first."
     ],
     "language": "python",
     "metadata": {},
     "outputs": [],
     "prompt_number": 88
    },
    {
     "cell_type": "code",
     "collapsed": false,
     "input": [
      "# https://github.com/nielshanson/CAZy_utils/blob/master/download_cazy_pages.py\n",
      "\n",
      "#!/usr/bin/python\n",
      "\n",
      "import urllib2\n",
      "import time\n",
      "import difflib\n",
      "## http://www.cazy.org/GH1_all.html\n",
      "## http://www.cazy.org/GH1_all.html?debut_PRINC=1000#pagination_PRINC\n",
      "\n",
      "CAZY_base = \"http://www.cazy.org/\"\n",
      "Families = {\"GH\":133, \"GT\":97, \"PL\":23, \"CE\":16, \"AA\":13, \"CBM\":71}\n",
      "# Creates a dictionary wtih the keys being the family name IDs and the values being the number of sub-families there are.\n",
      "\n",
      "def write_html(html_text, file_name):\n",
      "# defining a function, write_html, with the parameters html_text and file_name.\n",
      "try:\n",
      "        output_handle = open(file_name,\"w\")\n",
      "# define the output_handle variable as the contents of the file_name that goes into the function, open in \"write\" mode.\n",
      "    except:\n",
      "        \"couldn't open file \" + file_name\n",
      "# if this doesn't work, report this.\n",
      "\n",
      "    output_handle.write(html_text)\n",
      "# Then, we will take the opened file, and write the html_text to it. This overwrites whatever was there (\"a\" appends)\n",
      "    output_handle.close()\n",
      "# Then we close the now modified file.\n",
      "    return\n",
      "\n",
      "\n",
      "\n",
      "# find all gh families\n",
      "for fam in Families.keys():\n",
      "# We will do this for each family key that we put in the dictionary\n",
      "    for i in range(1,Families[fam]+1):\n",
      "# We do this for each sub family, from 1 to the total number of sub families +1. Not sure why it's +1... Python syntax maybe\n",
      "        link = CAZY_base + fam + str(i) + \"_all.html\"\n",
      "        # We define the link as the CAZy website + fam ID + the sub family number as a string + \"_all.html\"\n",
      "        # giving for example, http://www.cazy.org/AA10_all.html\n",
      "        html_old = \"\"\n",
      "        # We define a blank variable for html_old\n",
      "        for j in range(0,50001,1000):\n",
      "# We will do this for 0-50001, counting by 1000's. This allows us to collect up to 50 pages' worth of ref sequence IDs.\n",
      "            download_link = link + \"?debut_PRINC=\" + str(j) + \"#pagination_PRINC\"\n",
      "            # We create the value for the download link we want\n",
      "            # For example, http://www.cazy.org/AA10_all.html?debut_PRINC=1000#pagination_PRINC\n",
      "            html = None\n",
      "            # defines the variable html as being a blank variable\n",
      "            try :\n",
      "                response = urllib2.urlopen(download_link)\n",
      "                html = response.read()\n",
      "            # it defines the variable response as opening the url we defined above.\n",
      "            # then, it fills our html variable as \"reading\" the response - i.e., the page we just opened.\n",
      "            \n",
      "            except ValueError:\n",
      "                print \"couldn't download file \"  + download_link\n",
      "            # If this doesn't work, report it.\n",
      "            \n",
      "            if html:\n",
      "                seq=difflib.SequenceMatcher(a=html, b=html_old)\n",
      "                # SequenceMatcher is a function from the difflib library, that turns our two html page files into comparable\n",
      "                ratio = seq.real_quick_ratio()\n",
      "                # returns a quick estimate of the similarity of our two items\n",
      "                cazy_file = \"CAZy\" + \"_\" + fam + str(i) + \"_\" + \"page\" + str(j) + \".html\"\n",
      "                # defining the name of the file to be informative\n",
      "                if ratio != 1.0:\n",
      "                    write_html(html, cazy_file)\n",
      "                else:\n",
      "                    break\n",
      "                html_old = html\n",
      "                # Sets the page we just processed to be the old page, to which we will compare the next one.\n",
      "            # This takes advantage of the fact that if you input a higher number than number of sequences exists,\n",
      "            # the last page just shows up. Then, we can compare the two files, and if they are the same, end the loop\n",
      "            # and go on to the next family. However, if it's a new file, then we write it as an html file,\n",
      "            # with the name as defined above.\n",
      "            time.sleep(1)\n",
      "            # Takes a 1 second break."
     ],
     "language": "python",
     "metadata": {},
     "outputs": [],
     "prompt_number": 111
    },
    {
     "cell_type": "code",
     "collapsed": false,
     "input": [
      "#Should create necessary table in SQLite\n",
      "# Need to make new db each time - change name here and in subsequent steps here.\n",
      "\n",
      "import sqlite3\n",
      "\n",
      "conn = sqlite3.connect('CAZy2.db')\n",
      "print \"Opened database successfully\";\n",
      "\n",
      "conn.execute('''CREATE TABLE `CAZY_2015_03_11` (\n",
      "    `fam`   TEXT,\n",
      "    `num`   TEXT,\n",
      "    `super` TEXT,\n",
      "    `org`   TEXT,\n",
      "    `protein`   TEXT,\n",
      "    `ec`    TEXT,\n",
      "    `genbank`   TEXT,\n",
      "    `uniprot`   TEXT,\n",
      "    `pdb`   TEXT,\n",
      "    `subf`  TEXT\n",
      ");''')\n",
      "print \"Table created successfully\";\n",
      "\n",
      "conn.close()"
     ],
     "language": "python",
     "metadata": {},
     "outputs": [
      {
       "output_type": "stream",
       "stream": "stdout",
       "text": [
        "Opened database successfully\n",
        "Table created successfully\n"
       ]
      }
     ],
     "prompt_number": 117
    },
    {
     "cell_type": "code",
     "collapsed": false,
     "input": [
      "ls *html"
     ],
     "language": "python",
     "metadata": {},
     "outputs": [
      {
       "output_type": "stream",
       "stream": "stdout",
       "text": [
        "CAZy_AA11_page0.html      CAZy_GH34_page21000.html  CAZy_GT2_page20000.html\r\n",
        "CAZy_AA12_page0.html      CAZy_GH34_page22000.html  CAZy_GT2_page21000.html\r\n",
        "CAZy_AA13_page0.html      CAZy_GH34_page23000.html  CAZy_GT2_page22000.html\r\n",
        "CAZy_CE10_page0.html      CAZy_GH34_page24000.html  CAZy_GT2_page23000.html\r\n",
        "CAZy_CE11_page0.html      CAZy_GH34_page25000.html  CAZy_GT2_page24000.html\r\n",
        "CAZy_CE11_page1000.html   CAZy_GH34_page26000.html  CAZy_GT2_page25000.html\r\n",
        "CAZy_CE11_page2000.html   CAZy_GH34_page27000.html  CAZy_GT2_page26000.html\r\n",
        "CAZy_CE11_page3000.html   CAZy_GH34_page28000.html  CAZy_GT2_page27000.html\r\n",
        "CAZy_CE12_page0.html      CAZy_GH34_page29000.html  CAZy_GT2_page28000.html\r\n",
        "CAZy_CE13_page0.html      CAZy_GH34_page3000.html   CAZy_GT2_page29000.html\r\n",
        "CAZy_CE14_page0.html      CAZy_GH34_page30000.html  CAZy_GT2_page3000.html\r\n",
        "CAZy_CE14_page1000.html   CAZy_GH34_page31000.html  CAZy_GT2_page30000.html\r\n",
        "CAZy_CE14_page2000.html   CAZy_GH34_page32000.html  CAZy_GT2_page31000.html\r\n",
        "CAZy_CE14_page3000.html   CAZy_GH34_page33000.html  CAZy_GT2_page32000.html\r\n",
        "CAZy_CE15_page0.html      CAZy_GH34_page34000.html  CAZy_GT2_page33000.html\r\n",
        "CAZy_CE16_page0.html      CAZy_GH34_page35000.html  CAZy_GT2_page34000.html\r\n",
        "CAZy_CE1_page0.html       CAZy_GH34_page36000.html  CAZy_GT2_page35000.html\r\n",
        "CAZy_CE1_page1000.html    CAZy_GH34_page37000.html  CAZy_GT2_page36000.html\r\n",
        "CAZy_CE1_page2000.html    CAZy_GH34_page38000.html  CAZy_GT2_page37000.html\r\n",
        "CAZy_CE1_page3000.html    CAZy_GH34_page39000.html  CAZy_GT2_page38000.html\r\n",
        "CAZy_CE1_page4000.html    CAZy_GH34_page4000.html   CAZy_GT2_page39000.html\r\n",
        "CAZy_CE2_page0.html       CAZy_GH34_page40000.html  CAZy_GT2_page4000.html\r\n",
        "CAZy_CE3_page0.html       CAZy_GH34_page41000.html  CAZy_GT2_page40000.html\r\n",
        "CAZy_CE4_page0.html       CAZy_GH34_page42000.html  CAZy_GT2_page41000.html\r\n",
        "CAZy_CE4_page1000.html    CAZy_GH34_page43000.html  CAZy_GT2_page42000.html\r\n",
        "CAZy_CE4_page2000.html    CAZy_GH34_page44000.html  CAZy_GT2_page43000.html\r\n",
        "CAZy_CE4_page3000.html    CAZy_GH34_page45000.html  CAZy_GT2_page44000.html\r\n",
        "CAZy_CE4_page4000.html    CAZy_GH34_page46000.html  CAZy_GT2_page45000.html\r\n",
        "CAZy_CE4_page5000.html    CAZy_GH34_page47000.html  CAZy_GT2_page46000.html\r\n",
        "CAZy_CE4_page6000.html    CAZy_GH34_page48000.html  CAZy_GT2_page47000.html\r\n",
        "CAZy_CE4_page7000.html    CAZy_GH34_page49000.html  CAZy_GT2_page48000.html\r\n",
        "CAZy_CE4_page8000.html    CAZy_GH34_page5000.html   CAZy_GT2_page49000.html\r\n",
        "CAZy_CE4_page9000.html    CAZy_GH34_page50000.html  CAZy_GT2_page5000.html\r\n",
        "CAZy_CE5_page0.html       CAZy_GH34_page6000.html   CAZy_GT2_page50000.html\r\n",
        "CAZy_CE5_page1000.html    CAZy_GH34_page7000.html   CAZy_GT2_page6000.html\r\n",
        "CAZy_CE5_page2000.html    CAZy_GH34_page8000.html   CAZy_GT2_page7000.html\r\n",
        "CAZy_CE6_page0.html       CAZy_GH34_page9000.html   CAZy_GT2_page8000.html\r\n",
        "CAZy_CE7_page0.html       CAZy_GH35_page0.html      CAZy_GT2_page9000.html\r\n",
        "CAZy_CE8_page0.html       CAZy_GH36_page0.html      CAZy_GT30_page0.html\r\n",
        "CAZy_CE8_page1000.html    CAZy_GH36_page1000.html   CAZy_GT30_page1000.html\r\n",
        "CAZy_CE8_page2000.html    CAZy_GH36_page2000.html   CAZy_GT30_page2000.html\r\n",
        "CAZy_CE9_page0.html       CAZy_GH37_page0.html      CAZy_GT30_page3000.html\r\n",
        "CAZy_CE9_page1000.html    CAZy_GH37_page1000.html   CAZy_GT31_page0.html\r\n",
        "CAZy_CE9_page2000.html    CAZy_GH37_page2000.html   CAZy_GT32_page0.html\r\n",
        "CAZy_CE9_page3000.html    CAZy_GH38_page0.html      CAZy_GT32_page1000.html\r\n",
        "CAZy_CE9_page4000.html    CAZy_GH38_page1000.html   CAZy_GT32_page2000.html\r\n",
        "CAZy_GH100_page0.html     CAZy_GH38_page2000.html   CAZy_GT33_page0.html\r\n",
        "CAZy_GH101_page0.html     CAZy_GH39_page0.html      CAZy_GT34_page0.html\r\n",
        "CAZy_GH102_page0.html     CAZy_GH3_page0.html       CAZy_GT35_page0.html\r\n",
        "CAZy_GH102_page1000.html  CAZy_GH3_page1000.html    CAZy_GT35_page1000.html\r\n",
        "CAZy_GH102_page2000.html  CAZy_GH3_page2000.html    CAZy_GT35_page2000.html\r\n",
        "CAZy_GH103_page0.html     CAZy_GH3_page3000.html    CAZy_GT35_page3000.html\r\n",
        "CAZy_GH103_page1000.html  CAZy_GH3_page4000.html    CAZy_GT35_page4000.html\r\n",
        "CAZy_GH103_page2000.html  CAZy_GH3_page5000.html    CAZy_GT36_page0.html\r\n",
        "CAZy_GH103_page3000.html  CAZy_GH3_page6000.html    CAZy_GT37_page0.html\r\n",
        "CAZy_GH104_page0.html     CAZy_GH3_page7000.html    CAZy_GT38_page0.html\r\n",
        "CAZy_GH105_page0.html     CAZy_GH3_page8000.html    CAZy_GT39_page0.html\r\n",
        "CAZy_GH105_page1000.html  CAZy_GH40_page0.html      CAZy_GT3_page0.html\r\n",
        "CAZy_GH105_page2000.html  CAZy_GH41_page0.html      CAZy_GT40_page0.html\r\n",
        "CAZy_GH106_page0.html     CAZy_GH42_page0.html      CAZy_GT41_page0.html\r\n",
        "CAZy_GH107_page0.html     CAZy_GH42_page1000.html   CAZy_GT42_page0.html\r\n",
        "CAZy_GH108_page0.html     CAZy_GH42_page2000.html   CAZy_GT43_page0.html\r\n",
        "CAZy_GH108_page1000.html  CAZy_GH43_page0.html      CAZy_GT44_page0.html\r\n",
        "CAZy_GH108_page2000.html  CAZy_GH43_page1000.html   CAZy_GT45_page0.html\r\n",
        "CAZy_GH109_page0.html     CAZy_GH43_page2000.html   CAZy_GT46_page0.html\r\n",
        "CAZy_GH10_page0.html      CAZy_GH43_page3000.html   CAZy_GT47_page0.html\r\n",
        "CAZy_GH10_page1000.html   CAZy_GH43_page4000.html   CAZy_GT48_page0.html\r\n",
        "CAZy_GH10_page2000.html   CAZy_GH43_page5000.html   CAZy_GT49_page0.html\r\n",
        "CAZy_GH110_page0.html     CAZy_GH44_page0.html      CAZy_GT4_page0.html\r\n",
        "CAZy_GH111_page0.html     CAZy_GH45_page0.html      CAZy_GT4_page1000.html\r\n",
        "CAZy_GH112_page0.html     CAZy_GH46_page0.html      CAZy_GT4_page10000.html\r\n",
        "CAZy_GH113_page0.html     CAZy_GH47_page0.html      CAZy_GT4_page11000.html\r\n",
        "CAZy_GH114_page0.html     CAZy_GH48_page0.html      CAZy_GT4_page12000.html\r\n",
        "CAZy_GH115_page0.html     CAZy_GH49_page0.html      CAZy_GT4_page13000.html\r\n",
        "CAZy_GH116_page0.html     CAZy_GH4_page0.html       CAZy_GT4_page14000.html\r\n",
        "CAZy_GH117_page0.html     CAZy_GH4_page1000.html    CAZy_GT4_page15000.html\r\n",
        "CAZy_GH118_page0.html     CAZy_GH4_page2000.html    CAZy_GT4_page16000.html\r\n",
        "CAZy_GH119_page0.html     CAZy_GH4_page3000.html    CAZy_GT4_page17000.html\r\n",
        "CAZy_GH11_page0.html      CAZy_GH50_page0.html      CAZy_GT4_page18000.html\r\n",
        "CAZy_GH11_page1000.html   CAZy_GH51_page0.html      CAZy_GT4_page19000.html\r\n",
        "CAZy_GH11_page2000.html   CAZy_GH51_page1000.html   CAZy_GT4_page2000.html\r\n",
        "CAZy_GH120_page0.html     CAZy_GH51_page2000.html   CAZy_GT4_page20000.html\r\n",
        "CAZy_GH121_page0.html     CAZy_GH52_page0.html      CAZy_GT4_page21000.html\r\n",
        "CAZy_GH122_page0.html     CAZy_GH53_page0.html      CAZy_GT4_page22000.html\r\n",
        "CAZy_GH123_page0.html     CAZy_GH54_page0.html      CAZy_GT4_page23000.html\r\n",
        "CAZy_GH124_page0.html     CAZy_GH55_page0.html      CAZy_GT4_page24000.html\r\n",
        "CAZy_GH125_page0.html     CAZy_GH56_page0.html      CAZy_GT4_page25000.html\r\n",
        "CAZy_GH126_page0.html     CAZy_GH57_page0.html      CAZy_GT4_page26000.html\r\n",
        "CAZy_GH127_page0.html     CAZy_GH57_page1000.html   CAZy_GT4_page27000.html\r\n",
        "CAZy_GH128_page0.html     CAZy_GH57_page2000.html   CAZy_GT4_page28000.html\r\n",
        "CAZy_GH129_page0.html     CAZy_GH58_page0.html      CAZy_GT4_page29000.html\r\n",
        "CAZy_GH12_page0.html      CAZy_GH59_page0.html      CAZy_GT4_page3000.html\r\n",
        "CAZy_GH130_page0.html     CAZy_GH5_page0.html       CAZy_GT4_page30000.html\r\n",
        "CAZy_GH131_page0.html     CAZy_GH5_page1000.html    CAZy_GT4_page31000.html\r\n",
        "CAZy_GH132_page0.html     CAZy_GH5_page2000.html    CAZy_GT4_page32000.html\r\n",
        "CAZy_GH133_page0.html     CAZy_GH5_page3000.html    CAZy_GT4_page33000.html\r\n",
        "CAZy_GH13_page0.html      CAZy_GH5_page4000.html    CAZy_GT4_page34000.html\r\n",
        "CAZy_GH13_page1000.html   CAZy_GH5_page5000.html    CAZy_GT4_page35000.html\r\n",
        "CAZy_GH13_page10000.html  CAZy_GH5_page6000.html    CAZy_GT4_page36000.html\r\n",
        "CAZy_GH13_page11000.html  CAZy_GH60_page0.html      CAZy_GT4_page37000.html\r\n",
        "CAZy_GH13_page12000.html  CAZy_GH61_page0.html      CAZy_GT4_page38000.html\r\n",
        "CAZy_GH13_page13000.html  CAZy_GH62_page0.html      CAZy_GT4_page39000.html\r\n",
        "CAZy_GH13_page14000.html  CAZy_GH63_page0.html      CAZy_GT4_page4000.html\r\n",
        "CAZy_GH13_page15000.html  CAZy_GH64_page0.html      CAZy_GT4_page40000.html\r\n",
        "CAZy_GH13_page16000.html  CAZy_GH65_page0.html      CAZy_GT4_page5000.html\r\n",
        "CAZy_GH13_page17000.html  CAZy_GH65_page1000.html   CAZy_GT4_page6000.html\r\n",
        "CAZy_GH13_page18000.html  CAZy_GH65_page2000.html   CAZy_GT4_page7000.html\r\n",
        "CAZy_GH13_page19000.html  CAZy_GH66_page0.html      CAZy_GT4_page8000.html\r\n",
        "CAZy_GH13_page2000.html   CAZy_GH67_page0.html      CAZy_GT4_page9000.html\r\n",
        "CAZy_GH13_page20000.html  CAZy_GH68_page0.html      CAZy_GT50_page0.html\r\n",
        "CAZy_GH13_page21000.html  CAZy_GH69_page0.html      CAZy_GT51_page0.html\r\n",
        "CAZy_GH13_page22000.html  CAZy_GH6_page0.html       CAZy_GT51_page1000.html\r\n",
        "CAZy_GH13_page23000.html  CAZy_GH70_page0.html      CAZy_GT51_page10000.html\r\n",
        "CAZy_GH13_page24000.html  CAZy_GH71_page0.html      CAZy_GT51_page11000.html\r\n",
        "CAZy_GH13_page3000.html   CAZy_GH72_page0.html      CAZy_GT51_page12000.html\r\n",
        "CAZy_GH13_page4000.html   CAZy_GH73_page0.html      CAZy_GT51_page2000.html\r\n",
        "CAZy_GH13_page5000.html   CAZy_GH73_page1000.html   CAZy_GT51_page3000.html\r\n",
        "CAZy_GH13_page6000.html   CAZy_GH73_page2000.html   CAZy_GT51_page4000.html\r\n",
        "CAZy_GH13_page7000.html   CAZy_GH73_page3000.html   CAZy_GT51_page5000.html\r\n",
        "CAZy_GH13_page8000.html   CAZy_GH73_page4000.html   CAZy_GT51_page6000.html\r\n",
        "CAZy_GH13_page9000.html   CAZy_GH73_page5000.html   CAZy_GT51_page7000.html\r\n",
        "CAZy_GH14_page0.html      CAZy_GH74_page0.html      CAZy_GT51_page8000.html\r\n",
        "CAZy_GH15_page0.html      CAZy_GH75_page0.html      CAZy_GT51_page9000.html\r\n",
        "CAZy_GH15_page1000.html   CAZy_GH76_page0.html      CAZy_GT52_page0.html\r\n",
        "CAZy_GH15_page2000.html   CAZy_GH77_page0.html      CAZy_GT53_page0.html\r\n",
        "CAZy_GH16_page0.html      CAZy_GH77_page1000.html   CAZy_GT54_page0.html\r\n",
        "CAZy_GH16_page1000.html   CAZy_GH77_page2000.html   CAZy_GT55_page0.html\r\n",
        "CAZy_GH16_page2000.html   CAZy_GH77_page3000.html   CAZy_GT56_page0.html\r\n",
        "CAZy_GH16_page3000.html   CAZy_GH78_page0.html      CAZy_GT57_page0.html\r\n",
        "CAZy_GH16_page4000.html   CAZy_GH79_page0.html      CAZy_GT58_page0.html\r\n",
        "CAZy_GH17_page0.html      CAZy_GH7_page0.html       CAZy_GT59_page0.html\r\n",
        "CAZy_GH17_page1000.html   CAZy_GH7_page1000.html    CAZy_GT5_page0.html\r\n",
        "CAZy_GH17_page2000.html   CAZy_GH7_page2000.html    CAZy_GT5_page1000.html\r\n",
        "CAZy_GH18_page0.html      CAZy_GH7_page3000.html    CAZy_GT5_page2000.html\r\n",
        "CAZy_GH18_page1000.html   CAZy_GH7_page4000.html    CAZy_GT5_page3000.html\r\n",
        "CAZy_GH18_page2000.html   CAZy_GH7_page5000.html    CAZy_GT5_page4000.html\r\n",
        "CAZy_GH18_page3000.html   CAZy_GH7_page6000.html    CAZy_GT5_page5000.html\r\n",
        "CAZy_GH18_page4000.html   CAZy_GH80_page0.html      CAZy_GT5_page6000.html\r\n",
        "CAZy_GH18_page5000.html   CAZy_GH81_page0.html      CAZy_GT5_page7000.html\r\n",
        "CAZy_GH18_page6000.html   CAZy_GH82_page0.html      CAZy_GT60_page0.html\r\n",
        "CAZy_GH18_page7000.html   CAZy_GH83_page0.html      CAZy_GT61_page0.html\r\n",
        "CAZy_GH18_page8000.html   CAZy_GH83_page1000.html   CAZy_GT61_page1000.html\r\n",
        "CAZy_GH19_page0.html      CAZy_GH83_page2000.html   CAZy_GT61_page2000.html\r\n",
        "CAZy_GH19_page1000.html   CAZy_GH84_page0.html      CAZy_GT61_page3000.html\r\n",
        "CAZy_GH19_page2000.html   CAZy_GH85_page0.html      CAZy_GT62_page0.html\r\n",
        "CAZy_GH19_page3000.html   CAZy_GH86_page0.html      CAZy_GT63_page0.html\r\n",
        "CAZy_GH1_page0.html       CAZy_GH87_page0.html      CAZy_GT64_page0.html\r\n",
        "CAZy_GH1_page1000.html    CAZy_GH88_page0.html      CAZy_GT65_page0.html\r\n",
        "CAZy_GH1_page2000.html    CAZy_GH89_page0.html      CAZy_GT66_page0.html\r\n",
        "CAZy_GH1_page3000.html    CAZy_GH8_page0.html       CAZy_GT67_page0.html\r\n",
        "CAZy_GH1_page4000.html    CAZy_GH8_page1000.html    CAZy_GT68_page0.html\r\n",
        "CAZy_GH1_page5000.html    CAZy_GH8_page2000.html    CAZy_GT69_page0.html\r\n",
        "CAZy_GH1_page6000.html    CAZy_GH90_page0.html      CAZy_GT69_page1000.html\r\n",
        "CAZy_GH1_page7000.html    CAZy_GH91_page0.html      CAZy_GT69_page2000.html\r\n",
        "CAZy_GH1_page8000.html    CAZy_GH92_page0.html      CAZy_GT6_page0.html\r\n",
        "CAZy_GH20_page0.html      CAZy_GH92_page1000.html   CAZy_GT70_page0.html\r\n",
        "CAZy_GH20_page1000.html   CAZy_GH92_page2000.html   CAZy_GT71_page0.html\r\n",
        "CAZy_GH20_page2000.html   CAZy_GH93_page0.html      CAZy_GT72_page0.html\r\n",
        "CAZy_GH21_page0.html      CAZy_GH94_page0.html      CAZy_GT73_page0.html\r\n",
        "CAZy_GH22_page0.html      CAZy_GH95_page0.html      CAZy_GT74_page0.html\r\n",
        "CAZy_GH23_page0.html      CAZy_GH96_page0.html      CAZy_GT75_page0.html\r\n",
        "CAZy_GH23_page1000.html   CAZy_GH97_page0.html      CAZy_GT76_page0.html\r\n",
        "CAZy_GH23_page10000.html  CAZy_GH98_page0.html      CAZy_GT77_page0.html\r\n",
        "CAZy_GH23_page11000.html  CAZy_GH99_page0.html      CAZy_GT78_page0.html\r\n",
        "CAZy_GH23_page12000.html  CAZy_GH9_page0.html       CAZy_GT79_page0.html\r\n",
        "CAZy_GH23_page13000.html  CAZy_GH9_page1000.html    CAZy_GT7_page0.html\r\n",
        "CAZy_GH23_page14000.html  CAZy_GH9_page2000.html    CAZy_GT80_page0.html\r\n",
        "CAZy_GH23_page15000.html  CAZy_GT10_page0.html      CAZy_GT81_page0.html\r\n",
        "CAZy_GH23_page16000.html  CAZy_GT11_page0.html      CAZy_GT82_page0.html\r\n",
        "CAZy_GH23_page17000.html  CAZy_GT12_page0.html      CAZy_GT83_page0.html\r\n",
        "CAZy_GH23_page2000.html   CAZy_GT13_page0.html      CAZy_GT83_page1000.html\r\n",
        "CAZy_GH23_page3000.html   CAZy_GT14_page0.html      CAZy_GT83_page2000.html\r\n",
        "CAZy_GH23_page4000.html   CAZy_GT15_page0.html      CAZy_GT83_page3000.html\r\n",
        "CAZy_GH23_page5000.html   CAZy_GT16_page0.html      CAZy_GT84_page0.html\r\n",
        "CAZy_GH23_page6000.html   CAZy_GT17_page0.html      CAZy_GT85_page0.html\r\n",
        "CAZy_GH23_page7000.html   CAZy_GT18_page0.html      CAZy_GT86_page0.html\r\n",
        "CAZy_GH23_page8000.html   CAZy_GT19_page0.html      CAZy_GT87_page0.html\r\n",
        "CAZy_GH23_page9000.html   CAZy_GT19_page1000.html   CAZy_GT88_page0.html\r\n",
        "CAZy_GH24_page0.html      CAZy_GT19_page2000.html   CAZy_GT89_page0.html\r\n",
        "CAZy_GH24_page1000.html   CAZy_GT19_page3000.html   CAZy_GT8_page0.html\r\n",
        "CAZy_GH24_page2000.html   CAZy_GT1_page0.html       CAZy_GT8_page1000.html\r\n",
        "CAZy_GH24_page3000.html   CAZy_GT1_page1000.html    CAZy_GT8_page2000.html\r\n",
        "CAZy_GH25_page0.html      CAZy_GT1_page2000.html    CAZy_GT8_page3000.html\r\n",
        "CAZy_GH25_page1000.html   CAZy_GT1_page3000.html    CAZy_GT8_page4000.html\r\n",
        "CAZy_GH25_page2000.html   CAZy_GT1_page4000.html    CAZy_GT90_page0.html\r\n",
        "CAZy_GH25_page3000.html   CAZy_GT1_page5000.html    CAZy_GT91_page0.html\r\n",
        "CAZy_GH26_page0.html      CAZy_GT1_page6000.html    CAZy_GT92_page0.html\r\n",
        "CAZy_GH27_page0.html      CAZy_GT1_page7000.html    CAZy_GT93_page0.html\r\n",
        "CAZy_GH28_page0.html      CAZy_GT1_page8000.html    CAZy_GT94_page0.html\r\n",
        "CAZy_GH28_page1000.html   CAZy_GT1_page9000.html    CAZy_GT95_page0.html\r\n",
        "CAZy_GH28_page2000.html   CAZy_GT20_page0.html      CAZy_GT96_page0.html\r\n",
        "CAZy_GH28_page3000.html   CAZy_GT20_page1000.html   CAZy_GT97_page0.html\r\n",
        "CAZy_GH29_page0.html      CAZy_GT20_page2000.html   CAZy_GT9_page0.html\r\n",
        "CAZy_GH2_page0.html       CAZy_GT20_page3000.html   CAZy_GT9_page1000.html\r\n",
        "CAZy_GH2_page1000.html    CAZy_GT21_page0.html      CAZy_GT9_page2000.html\r\n",
        "CAZy_GH2_page2000.html    CAZy_GT22_page0.html      CAZy_GT9_page3000.html\r\n",
        "CAZy_GH2_page3000.html    CAZy_GT23_page0.html      CAZy_GT9_page4000.html\r\n",
        "CAZy_GH2_page4000.html    CAZy_GT24_page0.html      CAZy_GT9_page5000.html\r\n",
        "CAZy_GH2_page5000.html    CAZy_GT25_page0.html      CAZy_GT9_page6000.html\r\n",
        "CAZy_GH30_page0.html      CAZy_GT25_page1000.html   CAZy_GT9_page7000.html\r\n",
        "CAZy_GH31_page0.html      CAZy_GT25_page2000.html   CAZy_PL10_page0.html\r\n",
        "CAZy_GH31_page1000.html   CAZy_GT26_page0.html      CAZy_PL11_page0.html\r\n",
        "CAZy_GH31_page2000.html   CAZy_GT26_page1000.html   CAZy_PL12_page0.html\r\n",
        "CAZy_GH31_page3000.html   CAZy_GT26_page2000.html   CAZy_PL13_page0.html\r\n",
        "CAZy_GH31_page4000.html   CAZy_GT26_page3000.html   CAZy_PL14_page0.html\r\n",
        "CAZy_GH32_page0.html      CAZy_GT27_page0.html      CAZy_PL15_page0.html\r\n",
        "CAZy_GH32_page1000.html   CAZy_GT28_page0.html      CAZy_PL16_page0.html\r\n",
        "CAZy_GH32_page2000.html   CAZy_GT28_page1000.html   CAZy_PL17_page0.html\r\n",
        "CAZy_GH32_page3000.html   CAZy_GT28_page2000.html   CAZy_PL18_page0.html\r\n",
        "CAZy_GH32_page4000.html   CAZy_GT28_page3000.html   CAZy_PL19_page0.html\r\n",
        "CAZy_GH33_page0.html      CAZy_GT28_page4000.html   CAZy_PL1_page0.html\r\n",
        "CAZy_GH33_page1000.html   CAZy_GT28_page5000.html   CAZy_PL1_page1000.html\r\n",
        "CAZy_GH33_page2000.html   CAZy_GT28_page6000.html   CAZy_PL1_page2000.html\r\n",
        "CAZy_GH34_page0.html      CAZy_GT29_page0.html      CAZy_PL20_page0.html\r\n",
        "CAZy_GH34_page1000.html   CAZy_GT2_page0.html       CAZy_PL21_page0.html\r\n",
        "CAZy_GH34_page10000.html  CAZy_GT2_page1000.html    CAZy_PL22_page0.html\r\n",
        "CAZy_GH34_page11000.html  CAZy_GT2_page10000.html   CAZy_PL23_page0.html\r\n",
        "CAZy_GH34_page12000.html  CAZy_GT2_page11000.html   CAZy_PL2_page0.html\r\n",
        "CAZy_GH34_page13000.html  CAZy_GT2_page12000.html   CAZy_PL3_page0.html\r\n",
        "CAZy_GH34_page14000.html  CAZy_GT2_page13000.html   CAZy_PL4_page0.html\r\n",
        "CAZy_GH34_page15000.html  CAZy_GT2_page14000.html   CAZy_PL5_page0.html\r\n",
        "CAZy_GH34_page16000.html  CAZy_GT2_page15000.html   CAZy_PL6_page0.html\r\n",
        "CAZy_GH34_page17000.html  CAZy_GT2_page16000.html   CAZy_PL7_page0.html\r\n",
        "CAZy_GH34_page18000.html  CAZy_GT2_page17000.html   CAZy_PL8_page0.html\r\n",
        "CAZy_GH34_page19000.html  CAZy_GT2_page18000.html   CAZy_PL9_page0.html\r\n",
        "CAZy_GH34_page2000.html   CAZy_GT2_page19000.html\r\n",
        "CAZy_GH34_page20000.html  CAZy_GT2_page2000.html\r\n"
       ]
      }
     ],
     "prompt_number": 113
    },
    {
     "cell_type": "code",
     "collapsed": false,
     "input": [
      "!python load_cazy_db.py -i *html --db CAZy2.db\n",
      "# Running script where I modified the name of the database file to match the one we defined above.\n",
      "# We are running this script for each of the html files we just downloaded, and extracting the relevant bits."
     ],
     "language": "python",
     "metadata": {},
     "outputs": [
      {
       "output_type": "stream",
       "stream": "stdout",
       "text": [
        "Loading: CAZy_AA11_page0.html\r\n"
       ]
      },
      {
       "output_type": "stream",
       "stream": "stdout",
       "text": [
        "Loading: CAZy_AA12_page0.html\r\n"
       ]
      },
      {
       "output_type": "stream",
       "stream": "stdout",
       "text": [
        "Loading: CAZy_AA13_page0.html\r\n"
       ]
      },
      {
       "output_type": "stream",
       "stream": "stdout",
       "text": [
        "Loading: CAZy_CE10_page0.html\r\n",
        "Loading: CAZy_CE11_page0.html\r\n"
       ]
      },
      {
       "output_type": "stream",
       "stream": "stdout",
       "text": [
        "Loading: CAZy_CE11_page1000.html\r\n"
       ]
      },
      {
       "output_type": "stream",
       "stream": "stdout",
       "text": [
        "Loading: CAZy_CE11_page2000.html\r\n"
       ]
      },
      {
       "output_type": "stream",
       "stream": "stdout",
       "text": [
        "Loading: CAZy_CE11_page3000.html\r\n"
       ]
      },
      {
       "output_type": "stream",
       "stream": "stdout",
       "text": [
        "Loading: CAZy_CE12_page0.html\r\n"
       ]
      },
      {
       "output_type": "stream",
       "stream": "stdout",
       "text": [
        "Loading: CAZy_CE13_page0.html\r\n"
       ]
      },
      {
       "output_type": "stream",
       "stream": "stdout",
       "text": [
        "Loading: CAZy_CE14_page0.html\r\n"
       ]
      },
      {
       "output_type": "stream",
       "stream": "stdout",
       "text": [
        "Loading: CAZy_CE14_page1000.html\r\n"
       ]
      },
      {
       "output_type": "stream",
       "stream": "stdout",
       "text": [
        "Loading: CAZy_CE14_page2000.html\r\n"
       ]
      },
      {
       "output_type": "stream",
       "stream": "stdout",
       "text": [
        "Loading: CAZy_CE14_page3000.html\r\n"
       ]
      },
      {
       "output_type": "stream",
       "stream": "stdout",
       "text": [
        "Loading: CAZy_CE15_page0.html\r\n"
       ]
      },
      {
       "output_type": "stream",
       "stream": "stdout",
       "text": [
        "Loading: CAZy_CE16_page0.html\r\n"
       ]
      },
      {
       "output_type": "stream",
       "stream": "stdout",
       "text": [
        "Loading: CAZy_CE1_page0.html\r\n"
       ]
      },
      {
       "output_type": "stream",
       "stream": "stdout",
       "text": [
        "Loading: CAZy_CE1_page1000.html\r\n"
       ]
      },
      {
       "output_type": "stream",
       "stream": "stdout",
       "text": [
        "Loading: CAZy_CE1_page2000.html\r\n"
       ]
      },
      {
       "output_type": "stream",
       "stream": "stdout",
       "text": [
        "Loading: CAZy_CE1_page3000.html\r\n"
       ]
      },
      {
       "output_type": "stream",
       "stream": "stdout",
       "text": [
        "Loading: CAZy_CE1_page4000.html\r\n"
       ]
      },
      {
       "output_type": "stream",
       "stream": "stdout",
       "text": [
        "Loading: CAZy_CE2_page0.html\r\n"
       ]
      },
      {
       "output_type": "stream",
       "stream": "stdout",
       "text": [
        "Loading: CAZy_CE3_page0.html\r\n"
       ]
      },
      {
       "output_type": "stream",
       "stream": "stdout",
       "text": [
        "Loading: CAZy_CE4_page0.html\r\n"
       ]
      },
      {
       "output_type": "stream",
       "stream": "stdout",
       "text": [
        "Loading: CAZy_CE4_page1000.html\r\n"
       ]
      },
      {
       "output_type": "stream",
       "stream": "stdout",
       "text": [
        "Loading: CAZy_CE4_page2000.html\r\n"
       ]
      },
      {
       "output_type": "stream",
       "stream": "stdout",
       "text": [
        "Loading: CAZy_CE4_page3000.html\r\n"
       ]
      },
      {
       "output_type": "stream",
       "stream": "stdout",
       "text": [
        "Loading: CAZy_CE4_page4000.html\r\n"
       ]
      },
      {
       "output_type": "stream",
       "stream": "stdout",
       "text": [
        "Loading: CAZy_CE4_page5000.html\r\n"
       ]
      },
      {
       "output_type": "stream",
       "stream": "stdout",
       "text": [
        "Loading: CAZy_CE4_page6000.html\r\n"
       ]
      },
      {
       "output_type": "stream",
       "stream": "stdout",
       "text": [
        "Loading: CAZy_CE4_page7000.html\r\n"
       ]
      },
      {
       "output_type": "stream",
       "stream": "stdout",
       "text": [
        "Loading: CAZy_CE4_page8000.html\r\n"
       ]
      },
      {
       "output_type": "stream",
       "stream": "stdout",
       "text": [
        "Loading: CAZy_CE4_page9000.html\r\n"
       ]
      },
      {
       "output_type": "stream",
       "stream": "stdout",
       "text": [
        "Loading: CAZy_CE5_page0.html\r\n"
       ]
      },
      {
       "output_type": "stream",
       "stream": "stdout",
       "text": [
        "Loading: CAZy_CE5_page1000.html\r\n"
       ]
      },
      {
       "output_type": "stream",
       "stream": "stdout",
       "text": [
        "Loading: CAZy_CE5_page2000.html\r\n"
       ]
      },
      {
       "output_type": "stream",
       "stream": "stdout",
       "text": [
        "Loading: CAZy_CE6_page0.html\r\n"
       ]
      },
      {
       "output_type": "stream",
       "stream": "stdout",
       "text": [
        "Loading: CAZy_CE7_page0.html\r\n"
       ]
      },
      {
       "output_type": "stream",
       "stream": "stdout",
       "text": [
        "Loading: CAZy_CE8_page0.html\r\n"
       ]
      },
      {
       "output_type": "stream",
       "stream": "stdout",
       "text": [
        "Loading: CAZy_CE8_page1000.html\r\n"
       ]
      },
      {
       "output_type": "stream",
       "stream": "stdout",
       "text": [
        "Loading: CAZy_CE8_page2000.html\r\n"
       ]
      },
      {
       "output_type": "stream",
       "stream": "stdout",
       "text": [
        "Loading: CAZy_CE9_page0.html\r\n"
       ]
      },
      {
       "output_type": "stream",
       "stream": "stdout",
       "text": [
        "Loading: CAZy_CE9_page1000.html\r\n"
       ]
      },
      {
       "output_type": "stream",
       "stream": "stdout",
       "text": [
        "Loading: CAZy_CE9_page2000.html\r\n"
       ]
      },
      {
       "output_type": "stream",
       "stream": "stdout",
       "text": [
        "Loading: CAZy_CE9_page3000.html\r\n"
       ]
      },
      {
       "output_type": "stream",
       "stream": "stdout",
       "text": [
        "Loading: CAZy_CE9_page4000.html\r\n"
       ]
      },
      {
       "output_type": "stream",
       "stream": "stdout",
       "text": [
        "Loading: CAZy_PL10_page0.html\r\n"
       ]
      },
      {
       "output_type": "stream",
       "stream": "stdout",
       "text": [
        "Loading: CAZy_PL11_page0.html\r\n"
       ]
      },
      {
       "output_type": "stream",
       "stream": "stdout",
       "text": [
        "Loading: CAZy_PL12_page0.html\r\n"
       ]
      },
      {
       "output_type": "stream",
       "stream": "stdout",
       "text": [
        "Loading: CAZy_PL13_page0.html\r\n"
       ]
      },
      {
       "output_type": "stream",
       "stream": "stdout",
       "text": [
        "Loading: CAZy_PL14_page0.html\r\n"
       ]
      },
      {
       "output_type": "stream",
       "stream": "stdout",
       "text": [
        "Loading: CAZy_PL15_page0.html\r\n"
       ]
      },
      {
       "output_type": "stream",
       "stream": "stdout",
       "text": [
        "Loading: CAZy_PL16_page0.html\r\n"
       ]
      },
      {
       "output_type": "stream",
       "stream": "stdout",
       "text": [
        "Loading: CAZy_PL17_page0.html\r\n"
       ]
      },
      {
       "output_type": "stream",
       "stream": "stdout",
       "text": [
        "Loading: CAZy_PL18_page0.html\r\n"
       ]
      },
      {
       "output_type": "stream",
       "stream": "stdout",
       "text": [
        "Loading: CAZy_PL19_page0.html\r\n"
       ]
      },
      {
       "output_type": "stream",
       "stream": "stdout",
       "text": [
        "Loading: CAZy_PL1_page0.html\r\n"
       ]
      },
      {
       "output_type": "stream",
       "stream": "stdout",
       "text": [
        "Loading: CAZy_PL1_page1000.html\r\n"
       ]
      },
      {
       "output_type": "stream",
       "stream": "stdout",
       "text": [
        "Loading: CAZy_PL1_page2000.html\r\n"
       ]
      },
      {
       "output_type": "stream",
       "stream": "stdout",
       "text": [
        "Loading: CAZy_PL20_page0.html\r\n"
       ]
      },
      {
       "output_type": "stream",
       "stream": "stdout",
       "text": [
        "Loading: CAZy_PL21_page0.html\r\n"
       ]
      },
      {
       "output_type": "stream",
       "stream": "stdout",
       "text": [
        "Loading: CAZy_PL22_page0.html\r\n"
       ]
      },
      {
       "output_type": "stream",
       "stream": "stdout",
       "text": [
        "Loading: CAZy_PL23_page0.html\r\n"
       ]
      },
      {
       "output_type": "stream",
       "stream": "stdout",
       "text": [
        "Loading: CAZy_PL2_page0.html\r\n"
       ]
      },
      {
       "output_type": "stream",
       "stream": "stdout",
       "text": [
        "Loading: CAZy_PL3_page0.html\r\n"
       ]
      },
      {
       "output_type": "stream",
       "stream": "stdout",
       "text": [
        "Loading: CAZy_PL4_page0.html\r\n"
       ]
      },
      {
       "output_type": "stream",
       "stream": "stdout",
       "text": [
        "Loading: CAZy_PL5_page0.html\r\n"
       ]
      },
      {
       "output_type": "stream",
       "stream": "stdout",
       "text": [
        "Loading: CAZy_PL6_page0.html\r\n"
       ]
      },
      {
       "output_type": "stream",
       "stream": "stdout",
       "text": [
        "Loading: CAZy_PL7_page0.html\r\n"
       ]
      },
      {
       "output_type": "stream",
       "stream": "stdout",
       "text": [
        "Loading: CAZy_PL8_page0.html\r\n"
       ]
      },
      {
       "output_type": "stream",
       "stream": "stdout",
       "text": [
        "Loading: CAZy_PL9_page0.html\r\n"
       ]
      }
     ],
     "prompt_number": 118
    },
    {
     "cell_type": "code",
     "collapsed": false,
     "input": [
      "! python fastareader.py\n",
      "# Creaters various classes of NCBI-accessing objects, using their script."
     ],
     "language": "python",
     "metadata": {},
     "outputs": [],
     "prompt_number": 115
    },
    {
     "cell_type": "code",
     "collapsed": false,
     "input": [
      "!python refseq_seqs_from_db.py --db CAZy2.db -t CAZY_2015_03_11 -o CAZyOutputPL_CE_AA11_AA13.fa\n",
      "# Extracts fasta sequences from the CAZy database we created from NCBI and stores them all in a file.\n",
      "# Overwrites any previously existing text, so be sure to provide a new filename for the -o"
     ],
     "language": "python",
     "metadata": {},
     "outputs": [
      {
       "output_type": "stream",
       "stream": "stdout",
       "text": [
        "http://eutils.ncbi.nlm.nih.gov/entrez/eutils/efetch.fcgi?db=protein&id=AIA15627.1,CBF74037.1,CBF89147.1,CAK40369.1,CAK42338.1,CAK45829.1,BAE61530.1,BAE62598.1,XP_001827392.2,BAE59063.1,BAE66259.1,CCD52974.1,CCD54857.1,ADK37848.1,CCT75452.1,CCT62801.1,CCT69101.1,CCT67099.1,CEF86154.1,CEF78718.1,CEF72610.1,CEF74713.1,CBX92880.1,CBX94475.1,CBX93554.1,EHA52406.1,EHA51197.1,EHA52778.1,EHA52554.1,EHA57166.1,EHA53425.1,XP_003708917.1,AEO56313.1,AEO55680.1,AEO61991.1,AEO53721.1,EAA28891.1,EAA34256.1,EAA35129.1,EAA31701.1,CAP79499.1,CAP79288.1,CAP79267.1,CAP99959.1,CAP86617.1,CAP96550.1,CAP79436.1,CAP96976.1,CAP86936.1,CAP73493.1,CAP70884.1,CAP73406.1,CAP67048.1,CAP60218.1,CDR36663.1,CDR47410.1,AEO63862.1,AEO71776.1,AEO62747.1,AEO63051.1,AEO70619.1,BAP91034.1,EAU83856.1,CCT64621.1,CEF82837.1,CEF78754.1,ESU15820.1,EJT78573.1,CBX95260.1,CBX92031.1,CBX92733.1,EHA48884.1,EHA51243.1,EHA52621.1,EHA52355.1,XP_003712162.1,AEO58955.1,AEO55799.1,AEO59868.1,EAA28613.2,EAA30888.1,EAA28445.2,EAA28445.3,EAA28613.3,CCA70091.1,CAP67040.1,CAP66770.1,CDP24917.1,CAP61017.1,EIN09066.1,AEO64217.1,EGR46829.1,EAA62623.1,EAA58078.1,XP_001823115.2,CCD56877.1,CCT72014.1,CEF86045.1,CBX99030.1,XP_365988.1,AEO62162.1,EAA34371.2,CAP92263.1,CAP86689.1,CAP61339.1,ABW25636.1,CCT58918.1,BAI00031.1,BAI18252.1,BAI03084.1,BAI06129.1,BAI21303.1,BAI09179.1,BAI12227.1,BAI15273.1,ADL13679.1,ADP14145.1,AIR49973.1,AHC45288.1,CCH05310.1,ADB48045.1,AEQ22979.1,ABQ29776.1,BAJ79973.1,AIA56337.1,AEK59293.1,AEM48880.1,ACK80426.1,ACH82653.1,ACO32681.1,ADW70715.1,ADX44681.1,ABM31425.1,ACM34406.1,ABM43774.1,AFU44480.1,CAM85140.1,CAP02729.1,ADX05213.1,AJB65457.1,AJB46729.1,AJF83452.1,ACJ43132.1,ACJ43133.1,AIL79621.1,AIL73887.1,ACJ57401.1,AIS08194.1,AHX27998.1,AIA51613.1,AHX63795.1,ACC58837.1,ABO13719.2,AGQ15990.1,AGQ08357.1,AGQ12124.1,AGH37108.1,BAP64986.1,AIY35522.1,AFI93820.1,AEP08180.1,BAN86134.1,AHJ95124.1,ADX94153.1,AFU36164.1,AHB89878.1,ADY83383.1,BAP35108.1,ADI89050.1,CAG70156.1,AIZ79592.1,ABY68631.1,ABN73132.1,ACE60676.1,ABR75274.1,AIJ31690.1,AFU19552.1,AFK63573.1,AHG63081.1,AFL82102.1,AHE51181.1,AJQ56246.1,AHX34483.1,AJE34777.1,AGM45870.1,AHX71283.1,ABK36113.1,AHV37666.1,AHX59355.1,ABO88583.1,AEB48385.1,AEW77102.1,ACX82189.1,AFI87239.1,AHN71321.1,ACS96662.1,AAL43076.1,ACM27039.1,ADY65000.1,AHK01912.1,ACM37076.1,ACD05731.1,CAL16052.1,AFT71749.1,AJD47391.1,BAP13472.1,ADV01409.1,AEB86365.1,CAQ80323.1,CED70496.1,AFL76499.1,CBK62802.1,ABI57528.1,ADC61109.1,AFS46975.1,AFS48223.1,AJP44755.1,AIF99780.1,AFV86510.1,AFS38336.1,AGP82799.1,AFT96399.1,AFT79371.1,AEA99158.2,AGP78880.1,AFT75579.1,AGP86659.1,AGP90780.1,AGP94617.1,AGQ02739.1,AGP98521.1,AEF02001.1,ADE57621.1,AFZ59338.1,AFW96834.1,ABA19721.1,AFM20969.1,ACL64364.1,ABC80730.1,ABS25210.1,ACG72251.1,AAC07605.1,AGR78222.1,BAK71563.1,ABV68256.1,ADG92141.1,BAK74430.1,CAI06909.1,CBA74798.1,BAI92614.1,CDM96822.1,ADU13337.1,CAL93507.1,BAL26004.1,BAF90563.1,AIB10957.1,CCC99040.1,CBS87368.1,BAI72727.1,AJE22348.1,AGK13199.1,AGK18229.1,ACO77558.1,BAM50720.1,CBW28081.1,AGX07773.1,AII64624.1,AII66294.1,CBW21457.1,CAH06571.1,BAD47657.1,ADV43390.1,ADY37911.1,AAO79311.1,ABR37828.1,CBK68310.1,AHF11656.1,AGF74709.1,ABM45599.1,CBI76672.1,ACS51596.1,CDO40448.1,CDO47154.1,CAF27902.1,AFR26551.1,CAF26358.1,CBI78108.1,CDP80365.1,CBI82474.1,CBI81144.1,CBI79630.1,CDO49178.1,CAK01923.1,AGF76058.1,AIL32326.1,AHZ84994.1,CAE80287.1,AFY02108.1,AHI06333.1,AGH95185.1,AFL86206.1,AGG32747.1,AHG82359.1,AHG84675.1,AHG85825.1,AGH37841.1,AFJ91013.1,AGD97952.1,ACY40072.1,AEU09106.1,AER40849.1,AGW85821.1,ACX84197.1,CCA81481.1,CAJ50483.1,CCJ56137.1,CCJ60630.1,CAE34556.1,BAO70695.1,AIT26818.1,AHV93300.1,CAE39029.1,CCJ48271.1,AJB26952.1,CCJ64564.1,AIW91312.1,AEE68213.1,CAE43288.1,CAP41035.1,ACN83743.1,AEM21218.1,ADG71028.1,ADK30641.1,AFR70078.1,AGA67532.1,CCG57404.1,NP_773235.1,AJA61342.1,AHY53709.1,BAL08110.1,BAM87971.1,ABQ38089.1,CAL79322.1,BAL74942.1,ADL01992.1,CAJ11399.1,AIK04492.1,AIJ81369.1,AEW17419.1,AIJ53225.1,AIJ54890.1,AIJ76687.1,AAX74749.1,AIJ93341.1,AIJ64921.1,AIJ61483.1,AIJ56972.1,ACD72844.1,AIN90834.1,ABX62488.1,AEW14826.1,AIJ81924.1,CDL76810.1,AHZ81632.1,AHA99155.1,AHB01724.1,ACO01185.1,NP_539503.1,AIJ96490.1,AIJ86105.1,ADZ66512.1,ADZ87368.1,AEQ08996.1,ACU48402.1,ABQ60855.1,AIJ73322.1,AEK54729.1,AAN30337.1,AIJ67583.1,ABY38513.1,AIJ99535.1,AHN47039.1,AIB28290.1,AIB31656.1,AIB18155.1,AIB21541.1,AIB24895.1,AIJ70279.1,AJM85198.1,AEU06421.1,AIN84609.1,AIN87650.1,ABI86029.1,ACB62992.1,ABF74999.1,ABF75212.1,AIO32969.1,AIO41072.1,CDN59160.1,CDN58943.1,ABK07320.1,ABK07536.1,CAR53545.1,CAR53778.1,ACA89715.1,ACA89930.1,AIO47067.1,AIO50267.1,AFQ49140.1,AFQ49349.1,AEA59199.1,AEA59401.1,ACR27666.1,ACR27859.1,AJK45184.1,AJK44993.1,AIS27750.1,AIS29415.1,AIO50269.1,AIO50295.1,AAU49852.1,AAU50066.1,AAK26475.1,AIO79500.1,AIO81927.1,AIO62695.1,AIO64371.1,AIO58737.1,AIO57816.1,AIP75669.1,AIP75148.1,ABN02012.1,ABN03492.1,ABO06573.1,ABO07106.1,ABM49950.1,ABM52687.1,ABX16513.1,AIO74744.1,AIO65729.1,AIO65920.1,AFT87199.1,ACC71838.1,ACD17853.1,AFI64955.1,AFI65187.1,ABN88989.1,ABN90702.1,ABA48603.1,ABA49099.1,CDU29658.1,CDU29426.1,ABN81917.1,ABN85006.1,AIV96361.1,AIV96253.1,AIV92018.1,AIV89392.1,AIP80701.1,AIP78196.1,AIO88418.1,AIO87288.1,AIO88494.1,AIO91121.1,AIO97274.1,AIO94472.1,AIP05803.1,AIP03543.1,AIP09736.1,AIP08743.1,AIP13520.1,AIP12172.1,AFR17163.1,AFR17439.1,AIP71938.1,AIP72134.1,AIP52091.1,AIP51567.1,AIP60820.1,AIP59231.1,AIV63625.1,AIV62507.1,CAH36797.1,CAH37030.1,AIO15087.1,AIO14989.1,AIV50760.1,AIV53237.1,AHG69072.1,AHG66847.1,AIV58825.1,AIV61433.1,AGR71392.1,AGR70433.1,ACQ97603.1,ACQ98130.1,AIV85714.1,AIV84226.1,AHG35413.1,AHG35613.1&rettype=fasta&retmode=text\r\n"
       ]
      },
      {
       "output_type": "stream",
       "stream": "stdout",
       "text": [
        "http://eutils.ncbi.nlm.nih.gov/entrez/eutils/efetch.fcgi?db=protein&id=AHK64292.1,AHK64163.1,AIP39365.1,AIP40579.1,AIP20774.1,AIP20956.1,AIP49406.1,AIP47497.1,AIV72893.1,AIV71229.1,AHE32273.1,AHE34085.1,AIS87897.1,AIS87675.1,AHE28436.1,AHE25974.1,AGZ27128.1,AGZ29856.1,AIV47163.1,AIV49318.1,CBW73846.1,ABB07253.1,ABB07473.1,AIS47359.1,AIS48242.1,ADX56516.1,ADG16768.1,ADN58998.1,AFJ84846.1,BAN24164.1,BAO94082.1,BAO87413.1,AIV79867.1,AIV78597.1,AET90120.1,AHI74766.1,AHI72072.1,AIT21959.1,AIT20403.1,ABC36485.1,ABC38150.1,AHI77805.1,AHI77674.1,AHI63086.1,AHI65517.1,AGK48804.1,AGK48883.1,AIS95700.1,AIS96010.1,AIC88759.1,AIC87458.1,ABO53554.1,AIP30702.1,ABE32440.1,BAP89486.1,ADR18020.1,AFZ04291.1,AFY33978.1,AGZ21988.1,CDG56538.1,AGV10678.1,AHK74100.1,AHK77664.1,AHK75815.1,EAT97231.2,EAT99422.2,AIR79370.1,ABK82695.1,AGZ82301.1,AJB46024.1,AIR81229.1,AHE94812.1,CDF65543.1,ABS52292.1,AII14242.1,AJC87212.1,AGQ94916.1,CDH61963.1,AAW34722.1,ABS43647.1,AJK83959.1,AJK70320.1,AGV55926.1,AGV50459.1,AGV48745.1,AGV46982.1,AJK72039.1,AJK82074.1,AJP34647.1,EAQ73166.1,ABV51724.1,AHY39404.1,AIW09411.1,ADC27777.1,ADT65549.1,ADN90359.1,AII23878.1,CAB72616.1,CCK66280.1,AHK58151.1,AHK51491.1,AHK53156.1,AHK54822.1,AHK56487.1,AFU42266.1,AHW91089.1,ADT71901.1,AJA54252.1,AJD02803.1,AJD01121.1,AJD04294.1,AJD05767.1,ACM63581.1,AJC88662.1,AJC84090.1,AJC85732.1,AJC90122.1,AJC91789.1,AJC93557.1,ACV33914.1,ACE05727.1,ADB95109.1,BAG83743.1,AIN47431.1,AGC03433.1,CAD83668.1,AAZ40791.1,ADV33555.1,AIL12823.1,AEP12671.1,CAO81234.1,AFX99381.1,AHC73865.1,ACQ68373.1,AFZ83872.1,AGF49991.1,AFZ82490.1,AGF47849.1,AGF47117.1,AGF49269.1,ABF39090.1,CAJ70780.1,AGH17408.1,BAP26942.1,ACT57648.1,ADR52571.1,CBE69824.1,AEI88494.1,AEI74869.1,AGJ61115.1,CBK39948.1,BAO00441.1,AIK95529.1,AEA81241.1,AAZ20843.1,CDO58671.1,CAF23125.1,ADE40570.1,AFC69460.1,ABL02203.1,AHF73979.1,ABJ82147.1,AFV96765.1,AGX88340.1,BAF61529.1,AEK23494.1,ACU93301.1,CCM10028.1,CDM25773.1,AAK23960.1,ACL95529.1,ADG09932.1,ABZ72228.1,AIR04697.1,AIR60787.1,AIR65224.1,AIR70652.1,AJE47911.1,ADV51409.1,AIZ43136.1,AIY14762.1,ADY30785.1,AIM61765.1,ACE85301.1,AFY94555.1,ABG63393.1,ACU58777.1,AHK63739.1,AIT90972.1,AJR10886.1,AAF39622.1,AID38333.1,AHH24132.1,AHH23206.1,AGW39443.1,AGW37597.1,AGW38518.1,CCO01613.1,ADZ18262.1,AFS19083.1,AFS26519.1,AFS20200.1,AFS24438.1,AGE74663.1,AFS21974.1,AFS27629.1,CBY16631.1,AFS22280.1,AFS25880.1,AFS24164.1,CAP04233.1,CCP47928.1,CCP48827.1,CCP49725.1,AAX50808.1,AEP35397.1,AHC17386.1,ADI51209.1,ADI52221.1,AGT69143.1,AGT70069.1,CCP52726.1,CCP53618.1,CCP54508.1,AAC68135.1,ADH21011.1,AGT68221.1,ADH17316.1,CCP60792.1,CDG43433.1,CCP55399.1,CCP56298.1,CCE12816.1,AGT64506.1,AGT67290.1,AGT65436.1,AGT66361.1,CCP57215.1,CCE13705.1,CCE14594.1,CDG42544.1,ADH20088.1,ADH19164.1,ADH97185.1,ADH18240.1,CCP58108.1,CCP59002.1,CCP59896.1,AGT70989.1,CCP28330.1,CCP29231.1,AGT71910.1,AGT72831.1,AGS02347.1,CCP50708.1,CCP64355.1,CCP63465.1,CCP65244.1,CCP62576.1,CCP66136.1,AGJ65849.1,AGJ64908.1,CCP61682.1,CCP51828.1,CCP70583.1,CCP90638.1,CCP91528.1,CCP93314.1,CCP94204.1,CCP92419.1,CCP68802.1,CCP71473.1,CCP69693.1,CAP07187.1,CCP67911.1,AEJ77109.1,CCP67024.1,AGR99529.1,AGR95811.1,AGR93966.1,AGS00477.1,AGR96768.1,AGR97693.1,AGS01421.1,AGS03303.1,AGR98609.1,AGR94889.1,AGS04229.1,CBJ15056.1,CED80150.1,CAH63545.1,AAP04840.1,BAE81690.1,AEB41391.1,AAF37979.1,AAD18791.1,BAA98859.1,ACZ32536.1,AAP98607.1,AEG86122.1,AEG87096.1,AEG88075.1,AEG85144.1,ACF10950.1,ABB27440.1,ACD89651.1,ABB24494.1,ACE03508.1,ABL64598.1,ABP37440.1,AAM72887.1,ACF14400.1,AAQ61996.1,ABE59535.1,AFY87759.1,BAP33014.1,CCW36038.1,AHY11861.1,CDZ84924.1,ABV14363.1,CBG86882.1,AIY43643.1,AEK63757.1,AAZ25459.1,BAO81850.1,BAO84244.1,ACY34854.1,AIJ48990.1,ADE54630.1,AFE09255.1,ACJ19123.1,ACJ21022.1,ABS77381.1,ABX77639.1,AAO89706.1,AIT64102.1,AJC50400.1,AFZ12074.1,EAP85992.1,ABU78464.1,AHB71765.1,AFK00800.1,AGE87574.1,CBA28042.1,AJG21038.1,ABF09993.1,AEI78514.1,CAQ70652.1,CBA27145.1,CBA27147.1,AFZ52922.1,BAP18026.1,AFZ48561.1,AFY30196.1,ACB51727.1,ACK71021.1,ACL46808.1,ADN16183.1,ACK64451.1,ACU99320.1,AEL24696.1,AFT66412.1,AGS40588.1,AFZ25243.1,ABG58314.1,AFZ51544.1,AAZ48221.1,AEV24651.1,BAI79545.1,ABX34120.1,AEF92026.1,ADD69525.1,ADK84036.1,ACL06950.1,AEB09875.1,ACN14231.1,CCK78776.1,ADW17737.1,AGF79773.1,ABW68539.1,ACV69365.1,ACU90865.1,AFM26684.1,AIE19432.1,CAG36668.1,ACV62022.1,ADU62370.1,EGJ48589.1,ABB39780.1,EGB13884.1,CCO24966.1,CCO00959.1,CCH47415.1,ACS80659.1,ABM27472.1,ADP87837.1,ACL08394.1,AAS97389.1,AHF96871.1,ADU66397.1,ADH85773.1,ADY73599.1,ABQ13315.1,ADN00038.1,ACZ78356.1,ACS84465.1,AJC67659.1,ACT05498.1,ACI20066.1,ACK42101.1,ABV94149.1,AEE20521.1,EAQ40046.1,AHW59175.1,ACT94230.1,AIF46912.1,AHX14627.1,AGA78509.1,ACR67963.1,AGH72754.1,AIJ08851.1,ACY83490.1,ADM40712.1,AIL46630.1,ACC97643.1,AFK04109.1,AIF81866.1,AIF81867.1,BAN68409.1,AHK44862.1,CCG31727.1,AEG97172.1,AHW95638.1,AEN63447.1,ABH76381.1,ABH79610.1,AJB80506.1,AJB64327.1,AJB61298.1,AJB69727.1,AIE62673.1,AIN21440.1,AIX56230.1,AIX57915.1,AIN26782.1,AEW72149.1,AIV28371.1,AHE71780.1,ADF60456.1,AFP68663.1,CBK87690.1,AFM58488.1,ADO49871.1,ABP59329.1,AGN87184.1,AJR00559.1,AGB79682.1,CBJ45379.1,CBX81770.1,CBA22602.1,CAX58257.1,CAY73169.1,CAX54528.1,ADP10026.1,CAO95807.1,AHE59221.1,CBG32931.1,AJF54875.1,ABG68138.1,AJB50244.1,AJE54395.1,AIZ85674.1,ADN44715.1,AJB37907.1,ABI99580.1,AGC85523.1,AIL17340.1,ACA79175.1,ACT37790.1,AIF62117.1,CAQ30613.1,AJH09055.1,ACT30520.1,AIN30628.1,ACR65734.1,AJF75498.1,AAN78612.1,ACX41119.1,AJG07097.1,AIX61821.1,CAR06320.1,AIZ31436.1,CBI99595.1,AIT33349.1,ABV04502.1,CCQ26975.2,CAQ96985.1,CAR16240.1,ADE89036.1,AGY83138.1&rettype=fasta&retmode=text\r\n"
       ]
      },
      {
       "output_type": "stream",
       "stream": "stdout",
       "text": [
        "http://eutils.ncbi.nlm.nih.gov/entrez/eutils/efetch.fcgi?db=protein&id=AIZ54761.1,CDY54675.1,CDZ19001.1,AIF35493.1,ADX52391.1,CAP74665.1,ACY27496.1,AGW07567.1,AJO82022.1,AEG34911.1,AID77153.1,BAI28976.1,AFS58856.1,AFS84636.1,AFS76078.1,BAI34100.1,CAS07649.1,ABV18424.1,AHY68630.1,AHY63140.1,AHG06804.1,AHG12799.1,ACI36583.1,AAG54400.1,BAB33523.1,AIF91705.1,AJA24016.1,ACT69994.1,CDN80472.1,BAI23460.1,ADD54755.1,AEZ38729.1,AEQ10953.1,ADR25529.1,AFG38979.1,CDH63632.1,AIZ81119.1,CAR01465.1,BAG75622.1,BAI53646.1,ACB17071.1,AHM42261.1,AHM29083.1,AER87622.1,AER82703.1,ACB01277.1,CDJ70679.1,BAL37408.1,AAC73207.1,ACI71552.1,ADN73974.1,CAR11319.1,AEJ54755.1,AEE54762.1,ABE05615.1,ADT73646.1,AFJ27149.1,CAQ87701.1,ADN74566.1,CCH01882.1,AIE85180.1,ACU08355.1,CCB70492.1,AEW84907.1,CCG53369.1,ABQ05924.1,AIT65162.1,AIJ37872.1,AIN71634.1,AIN74706.1,CAL43071.1,AIG32066.1,AIG34221.1,AIG29789.1,AIG36584.1,AIG38849.1,AIG41115.1,AFM03927.1,AEI15769.1,AEA42277.1,CDF79180.1,AEB27109.1,AEB28007.1,AJC48465.1,AHB97846.1,AFJ42702.1,AJI53167.1,AJI57945.1,AJI47601.1,AJI48033.1,AJI55653.1,AJI55142.1,AJI49997.1,AJI48732.1,AJI74283.1,AJI74610.1,ABZ86879.1,ABZ87381.1,AIT09740.1,AEI35086.1,AEI35676.1,AJI66544.1,AFX71515.1,AFT93449.1,ABU62488.1,AJI52207.1,CAJ80345.1,AJI60110.1,ABI83579.1,AHH47111.1,AJI64195.1,ACD31451.1,AJI73260.1,AJI44797.1,ABK89075.1,CAL08205.1,ADA77877.1,AJI63593.1,AJI70859.1,CAG44822.1,AJI69468.1,AFB79934.1,AFB78310.1,AJJ47290.1,ABO47551.1,AFC84867.1,AFC87166.1,AJA45521.1,AGM23876.1,EEO42403.2,AAL94789.1,EFG34855.1,EEU32050.1,AEC16501.1,ADL54385.1,CBL44260.1,AFY66891.1,AHG90758.1,BAH38630.1,AJF07164.1,ACH37922.1,ACM20669.1,ACM20649.1,ACD96326.1,ABB32826.1,AJE02841.1,AJE02614.1,ADW12279.1,ACT19385.1,ADI83573.1,AAR34061.1,ABQ25588.1,ABQ27125.1,AHN25079.1,AEE21814.1,AEP30787.1,AGH43035.1,AGY58576.1,BAC89806.1,AFZ31057.1,CAP57140.1,AAW59958.1,AHK70118.1,AFW01876.1,CAL66745.1,ABI61320.1,AHJ67435.1,AHJ62190.1,AHJ64815.1,AEU34400.1,AJQ94436.1,AAP95715.1,CBW29488.1,AJO87630.1,AJO90963.1,AAX88145.1,AJO90277.1,AIB46129.1,CBY81261.1,CBY87439.1,AIT68204.1,AGV12274.1,ABQ98614.1,ABR00674.1,ADO96590.1,ADO81194.1,AAC22799.1,CBW15361.1,AIK89775.1,ACL31824.1,AIK17271.1,AGO16466.1,ABI24642.1,ACA32290.1,AIU74128.1,ABC32526.1,ADQ13894.1,ADO78070.1,AEE52543.1,AGB42301.1,AIA76548.1,CBV41852.1,AHK78265.1,ABM62848.1,AFZ44645.1,ACL70506.1,ACX96823.1,CAJ99922.1,CCB79620.1,AFI03977.1,AFI06614.1,BAM31334.1,BAM14927.1,CBY82518.1,CCM10942.1,AAP77612.1,CBG39435.1,ADZ49486.1,ADZ51087.1,AAD08098.1,AJF09286.1,AJF10826.1,ADU40767.1,ACX97594.1,ACX99008.1,AEE70059.1,ADN79541.1,AFX90800.1,AFX89620.1,CAX28940.1,CBI66728.1,AHA88597.1,AHZ28769.1,AHA90171.1,AHZ26544.1,AHZ29470.1,ADO03635.1,AFF20491.1,BAJ54996.1,BAJ56999.1,BAJ58495.1,BAJ59521.1,ACI27141.1,ADU81274.1,AJD65431.1,ABF84462.1,AFI07096.1,ADU79620.1,AHZ25094.1,AAD05952.1,ADU82842.1,BAO98031.1,BAM96310.1,BAM97826.1,AHN34443.1,AHN35916.1,AHN37353.1,AHN38759.1,AHN40223.1,AHN41665.1,AHN43103.1,AHN44584.1,ACJ07549.1,AFI02178.1,ADO06641.1,AEN15033.1,AEN18105.1,AFV43859.1,AFV45451.1,ADO05144.1,AFI00669.1,AFH99132.1,AFH97549.1,ACD47862.1,ADO02013.1,AEN16594.1,AGT73681.1,ADU84418.1,AGL66003.1,AGL69660.1,AGL71651.1,AGR62273.1,AGL68108.1,ADI34503.1,AFJ81380.1,ADJ61869.1,CAL62917.1,AEA33949.1,ACT58109.1,BAI70287.1,AEF19028.1,AGG14960.1,AEG46315.1,AGH93256.1,ACG57328.1,AII50504.1,AIZ63827.1,AHJ97483.1,AGK56442.1,ADJ22075.1,AHB49619.1,CCB63578.1,ABI78535.1,AGM35310.1,AAV81285.1,AFH48290.1,ADO82896.1,ADV61341.1,ABD55666.1,CDG85069.1,ABR88423.1,ACV26115.1,AEM41319.1,ADO41554.1,AFN30718.1,AHW90714.1,AEX03917.1,AID88381.1,AIE68705.1,AAR52715.1,AIX01352.1,AHM87037.1,AHM81364.1,AJB59395.1,ACI07789.1,AJB77844.1,AHI34320.1,AIJ43173.1,AGX36380.1,AJB34152.1,AGT25942.1,AEJ96507.1,CDO15989.1,AIT01873.1,CCI75258.1,AFQ67431.1,AJC06271.1,AIK81068.1,AEW59515.1,AHE46340.1,AIE01762.1,AIE21457.1,AIA35144.1,AID94434.1,AIA40506.1,AIX67826.1,AIX77489.1,AIX82764.1,AIW74966.1,AIW69421.1,AIE26854.1,ABR75560.1,BAH61743.1,AIG83621.1,ADC60159.1,AJE91239.1,AJA95591.1,AIR87417.1,BAK83242.1,AHI25924.1,AHJ75244.1,AEH02261.1,ACO76027.1,AGC50045.1,CAJ54681.1,ADQ17369.1,CEG57914.1,CEK11891.1,CBJ13181.1,AHE66151.1,CBX01158.1,ADG26002.1,ABQ54518.1,CAH16771.1,CAH13814.1,AEW52843.1,CCD09985.1,CCD06827.1,AAU28666.1,AGN15528.1,AHD01387.1,AFY39317.1,ABZ94320.1,ABZ97972.1,ABJ75900.1,ABJ79003.1,AAS70228.1,AAN49505.1,AER02677.1,AJR14355.1,AFS54667.1,AIA31300.1,BAM08046.1,ACB32803.1,ACV39165.1,AGA64590.1,AGU56965.1,ABK43267.1,CDK99719.1,BAE52659.1,CCQ72797.1,AGQ25462.1,AGQ38494.1,AGQ41019.1,AGK00596.1,AGI31767.1,AJE07370.1,AGI36128.1,AGR75935.1,AAU38266.1,AHG72573.1,AHG76274.1,AHG78285.1,AHG78971.1,EAR01218.1,ABI66361.1,AHF04868.1,AEB11095.1,ADP96335.1,CCG94283.1,ABM19521.1,AHI31335.1,AFP29717.1,ADZ91748.1,AEF54505.1,ABR71521.1,ADR23503.1,CBL05294.1,CCC72319.1,ADD29514.1,ADH62775.1,AFN75113.1,AGB45794.1,ADV12281.1,AID30976.1,BAB48894.1,AEH87990.1,ACD84185.1,ABM93430.1,ABE50529.1,BAQ48206.1,BAQ45732.1,CAX25359.1,ACS40903.1,ACK84015.1,ABY31339.1,ACL62172.1,AIQ90531.1,AIQ90996.1,ACB81286.1,ACB24344.1,ACB24859.1,ACA17609.1,ACA20947.1,BAQ17039.1,AAU91495.1,CCJ06119.1,CCE25252.1,AEF98701.1,AFJ02031.1,AFI83865.1,CEN56561.1,ACT48899.1,ADI30777.1,ACT49715.1,ADQ83671.1,AEP10200.1,AGH98604.1,AFZ20746.1,BAG03744.1,CAO89684.1,AIT42886.1,AIK01318.1,ADG60703.1,AGG32096.1,CED62056.1,CDN33046.1,AEM72125.1,AJA69972.1,AJH14899.1,AEI68433.1,AGC46738.1,ABF86238.1,ACM93435.1,AJE17574.1,AAW90668.1,EEZ48901.1,ACF30771.1,ADV08682.1,CBN86246.1,ABX72250.1,AHW74604.1,CAX49008.1,CBA08706.1,CBA08531.1,CBA08534.1,CBA03969.1,CCA43559.1,ADO30562.1,CAM09327.1&rettype=fasta&retmode=text\r\n"
       ]
      },
      {
       "output_type": "stream",
       "stream": "stdout",
       "text": [
        "http://eutils.ncbi.nlm.nih.gov/entrez/eutils/efetch.fcgi?db=protein&id=ADY92786.1,ADY94706.1,AJC63299.1,ADY96668.1,ADY98603.1,ADZ00575.1,AIZ26209.1,AIZ19368.1,AAF40496.1,AIZ23037.1,AIZ25383.1,AIZ18220.1,ADZ02523.1,CAD58501.1,CBY89837.1,CAB83571.1,CDN54429.1,CDN48344.1,AHF16641.1,AEW03181.1,ADV47145.1,BAF69532.1,ABE62112.1,ABA04321.1,ADE13683.1,ABA59300.1,ADJ27204.1,AHJ30697.1,AGC78006.1,BAO56246.1,ADI65283.1,ACC81460.1,AFY43596.1,BAB73969.1,AFY46096.1,AEY00637.1,ABS14467.1,AIK42886.1,AGI66909.1,AGI72620.1,ADY32910.1,CCK77177.1,AEI03835.1,ACI92383.1,AHF90387.1,ACB75858.1,AFL97117.1,AIP99221.1,AFY85431.1,AFZ08711.1,AEV32817.1,ADQ80558.1,AJE97849.1,AHB04238.1,AIU27060.1,AHN76313.1,AJC20078.1,AHB75371.1,AJC15034.1,AJP58851.1,BAK10153.1,ADD75892.1,CCF10978.1,AER33965.1,ADU67995.1,AIX50256.1,AIX74849.1,ADO08347.1,ABR43836.1,CCB87258.1,AGT07800.1,ABL72550.1,ABS64038.1,ADM10137.1,AET16057.1,AIN49068.1,AFI46306.1,AHE64551.1,AFF24396.1,AAK02232.1,AIK15525.1,AIA72545.1,CAG76708.1,ACT14601.1,AFR04984.1,AIU90570.1,AFI91977.1,ACX89509.1,ACU06470.1,ADY53415.1,AEQ51998.1,ABA89582.1,ABK98377.1,ACF42959.1,AJQ25959.1,AIF53768.1,ACO04441.1,AFO86968.1,AHD10266.1,AFO90689.1,ACG78722.1,AJR07439.1,CAG21516.1,CAQ83211.1,CAE16021.1,BAM02746.1,ADB17854.1,ADY59582.1,ADG66763.1,AII86603.1,BAN94977.1,AFY76461.1,AIR02878.1,EAQ41500.1,ABM38708.1,ABE43033.1,ADZ69782.1,ABP33395.1,ACB43493.1,AEE12348.1,BAG34537.1,AIJ34877.1,BAK24520.1,AAQ65320.1,AGB27913.1,AEA21733.1,AFJ09006.1,ADK96403.1,ADE83477.1,EFC71821.1,ABM70820.1,ABX09322.1,ABV51179.1,ABO18146.1,ABM77302.1,ABB50495.1,CAE21587.1,ABM72705.1,ABM76320.1,AAZ58399.1,AAQ00462.1,CAE19796.1,AIQ95649.1,AIQ97913.1,ACF45555.1,CEA16433.1,AAR43800.1,AGS60604.1,CAR44134.1,AIN63618.1,AFH92650.1,AFY70583.1,ABG42015.1,CAI87546.1,AIY64561.1,ADT67460.1,BAK75027.1,AAC44974.1,AGI83447.1,AGV64583.1,AFM66855.1,ACF93803.1,AJD60069.1,AJF53746.1,AHK97528.1,AHC67422.1,CAW29539.1,AHL03494.1,AHL09417.1,AHL15372.1,AHK85654.1,AHK91533.1,AEO76978.1,AHB57967.1,BAP21343.1,BAP52903.1,BAK88068.1,BAQ42047.1,AHA18250.1,AHA24049.1,CDI92925.1,ABR84487.1,AHW73107.1,AAG07794.1,AGY72914.1,AGY64136.1,AID75603.1,AGV58463.1,CDO79557.1,AGO41911.1,AHC79087.1,ABJ13677.1,AID83025.1,AHH49225.1,AIL60163.1,AJE16453.1,AHL35824.1,AEA71031.1,AIC22176.1,AIS11257.1,AHF69379.1,AGI23012.1,CAK17161.1,AFJ59151.1,AEV64766.1,AJP50619.1,ABA76404.1,CAY47219.1,AIG02865.1,AEF23521.1,CDF85838.1,AHZ71619.1,AEB57047.1,ABP83696.1,AHC84397.1,AHC89768.1,AIN62100.1,AIZ33946.1,AJG11681.1,AGE24375.1,BAO64400.1,AGL86779.1,AAY94283.1,CDR92633.1,CDM42008.1,ADR61797.1,AHZ79239.1,AFO50191.1,ABQ80504.1,ABZ00393.1,AGN80428.1,AGA75265.1,AAN66966.1,BAN52707.1,AFK68382.1,ACK86657.1,AJA14487.1,AJQ50675.1,AEJ14883.1,ACA71455.1,BAN46816.1,AIS16638.1,AIB34870.1,CEA02929.1,AHD16282.1,AJO80492.1,BAP78488.1,AIR89621.1,BAP43566.1,AHC33735.1,AFY21689.1,AGZ33715.1,AIB40486.1,AHY41848.1,AHL76668.1,ABP78785.1,AEJ04272.1,AFM34485.1,AFN76910.1,AEA82960.1,AGA87745.1,AHG39584.1,AAZ33238.1,AAY39126.1,AAO57851.1,AEV38769.1,AER55235.1,ADV26502.1,AAZ19592.1,ABE75803.1,AGP49675.1,ABQ93485.1,AFU70449.1,ABM02990.1,AGH80647.1,AEC18558.1,AEX53602.1,AFE60003.1,ADW75314.1,CAJ94340.1,AAZ62332.1,ACS63988.1,ACD26291.1,ACD28205.1,AGW92017.1,AAF75724.1,CBJ36787.1,AGH85276.1,CAD16544.1,CAQ62726.1,CAQ17242.1,AEG67973.1,CBJ50034.1,CCA85163.1,AEG92060.1,AGJ87629.1,AJF71690.1,AIC28193.1,AGS22646.1,AJC80243.1,ABC91607.1,ACE91939.1,AJD41812.1,AHG46127.1,ACS57104.1,AHF84833.1,ACI55856.1,CAK08784.1,CDI09052.1,CDM58376.1,CCF19864.1,AGB71644.1,AGG90331.1,ADE84592.1,ABA78270.1,ABP69607.1,ABN75902.1,ACM00286.1,AJP47651.1,ABD71123.1,ADP71334.1,CAD78187.1,ABJ06061.1,ABD88839.1,ABE40609.1,CAE28962.1,ADU43445.1,ABD06713.1,ACF02535.1,ACI98041.1,CCG09279.1,ABC21744.1,AEO47442.1,ACP53262.1,ABV74681.1,AFC71494.1,ABV79131.1,ABE05035.1,AFB20854.1,ABV73238.1,AAL02877.1,AAY61879.1,AEK74385.1,BAK96488.1,ABV84602.1,AFB32010.1,CEO17202.1,AFC73986.1,AFC74534.1,ACR47283.1,AFB25972.1,AGJ02589.1,AFE50763.1,AFE49073.1,AFE51603.1,AFE52698.1,AFE49919.1,CAA14716.1,AGJ02122.1,ADE29766.1,AFE53269.1,AFC72114.1,ABV75952.1,AFB24636.1,AFB22480.1,AFB23283.1,AFB29979.1,AFB27322.1,AFB28661.1,ABY72304.1,AJG34161.1,AJG32826.1,AEV91990.1,AFD19354.1,AFE54943.1,AFE54104.1,AAU03727.1,AIL64543.1,ADQ81778.1,AFD55790.1,AIH02918.1,AFR35920.1,AGC40309.1,ADZ12722.1,AFY55122.1,EAR15686.1,AHM05690.1,ABG32845.1,AEI94531.1,BAL94351.1,AAV94501.1,ABF63423.1,AEI47277.1,ABD80116.1,AGR57315.1,CCC29218.1,AID23996.1,AIP95912.1,ABX22714.1,AGQ84978.1,AHW18679.1,AHW27057.1,AHB42926.1,ACH50944.1,AHW14638.1,AJQ63663.1,AGQ60253.1,CDF52316.1,AHW24980.1,AIK91376.1,AAX64037.1,AGQ72075.1,CDS72082.1,ACH76802.1,AHL84088.1,AHV99865.1,AHU90787.1,AIM90796.1,AIM86433.1,AIN69125.1,AHZ05535.1,AHW07796.1,AHP68146.1,AHP72514.1,AHS60782.1,AHP76885.1,AHU05225.1,AHR17765.1,AHV12514.1,AHV08182.1,AHR13323.1,AHU09435.1,AHU13610.1,AHT78719.1,AHU99504.1,AHR08922.1,AHT82989.1,AHS69150.1,AHT87360.1,AHT91726.1,AHV03808.1,AHR46473.1,AHO27344.1,AHV16889.1,AHO88125.1,AHO66639.1,AHO62297.1,AHO57927.1,AHO53601.1,AHO49276.1,AHV37904.1,AHV29485.1,AHV25154.1,AHV73664.1,AHR50759.1,AHR55039.1,AHR59320.1,AHQ54615.1,AHQ58896.1,AHQ63176.1,AHQ67598.1,AHO31773.1,AHQ72003.1,AHU95158.1,AHS39474.1,AHR04893.1,AHR83146.1,AHR86784.1,AHR91048.1,AHR95316.1,AHR99592.1,AHS03836.1,AHS08117.1,AHS12397.1,AHS16668.1,AHS43471.1,AHO36220.1,AHO40498.1,AHO44777.1,AHT37561.1,AHT41661.1,AHT45940.1,AHT50212.1,AHS24195.1,AHT54425.1,AHS96709.1,AHT00981.1,AHT05150.1,AHT07717.1,AHT57359.1,AHT61616.1,AHT65878.1,AHT70156.1,AHT74438.1,AHU17823.1,AHU22103.1,AHQ33071.1,AHU26387.1,AHU30658.1,AHU34925.1&rettype=fasta&retmode=text\r\n"
       ]
      },
      {
       "output_type": "stream",
       "stream": "stdout",
       "text": [
        "http://eutils.ncbi.nlm.nih.gov/entrez/eutils/efetch.fcgi?db=protein&id=AHU39196.1,AHV44050.1,AHU43416.1,AHU47679.1,AHU51948.1,AHU56093.1,AHS47192.1,AHN98216.1,AHO04130.1,AHQ37532.1,AHO08261.1,AHO13414.1,AHO18377.1,AHS53488.1,AHS54652.1,AHS75550.1,AHS79803.1,AHS84053.1,AHS92428.1,AHT16282.1,AHV48236.1,AHT20560.1,AHT24805.1,AHT29052.1,AHT33311.1,AHS26643.1,AHU60369.1,AHU64644.1,AHU68919.1,AHU73180.1,AHU77465.1,AHT11996.1,AHS30921.1,AHS35201.1,AHR66092.1,AHR70376.1,AHR74629.1,AHR78903.1,AHR22169.1,AHR26459.1,AHR35020.1,AHR39313.1,AHQ97770.1,AHR00645.1,CAR31724.1,AHP63886.1,AHV52425.1,AHP09651.1,AHP13921.1,AHP18194.1,AHP22530.1,AHP26809.1,AHP31143.1,AHP35443.1,AHP39697.1,AHP43980.1,AHO92459.1,AHO96788.1,AHP01052.1,AHP05325.1,AHR63520.1,AHP51174.1,AHP55453.1,AHP59755.1,AHV56866.1,AHV63182.1,AHU00960.1,AHP81268.1,AHP85541.1,AHQ43187.1,AHO23126.1,AHP89813.1,AHP94076.1,AHP98356.1,AHQ02635.1,AHQ06912.1,AHQ76439.1,AHQ80715.1,AHQ84999.1,AHQ89278.1,AHV65427.1,AHV72413.1,AHQ93562.1,AHQ11190.1,AHQ15526.1,AHQ19804.1,AHQ24077.1,AHQ28333.1,AHS64975.1,AHQ46094.1,AHQ50351.1,AHR45433.1,AHS74399.1,AHT95976.1,AHS88153.1,AHR30747.1,CAR36042.1,AGU63092.1,AET52594.1,AGQ63539.1,AFH44139.1,AHB96459.1,AGQ77574.1,ACF67043.1,CEI40676.1,AGF82371.1,AHW12515.1,AJQ72726.1,AIT50476.1,AJB11349.1,AIT46197.1,ACF61410.1,AJQ68204.1,AGS28092.1,CAR58243.1,AAV76169.1,ABX65610.1,ACN44334.1,CDS63492.1,AGS62073.1,ACF92512.1,AHN79053.1,AGX09453.1,CAD01291.1,AEZ43914.1,AAO67870.1,AGK65772.1,AHX75942.1,AIL18883.1,ACY86697.1,AFD57180.1,CBG23156.1,CCW72860.1,CDG06293.1,BAP05835.1,AAL19098.1,CBW16237.1,ADX15884.1,BAJ35077.1,AGK07752.1,AEF06070.1,AJQ77148.1,AGQ69064.1,AIE04067.1,CBY94170.1,AJD98368.1,AJD94394.1,AFC24375.1,ACZ09207.1,AFP84746.1,AFP85684.1,BAL84307.1,AEC00860.1,AHG21213.1,AGQ29479.1,AGB81068.1,BAO32151.1,CDG10678.1,AGE16560.1,AGO53640.1,AEF43856.1,AGP42991.1,AHY05685.1,ABV39873.1,AEF48808.1,AEG26516.1,AGU89082.1,AIA45565.1,AIM20321.1,CDG47252.1,AEW44324.1,ABL98570.1,AEG13056.1,AEH12306.1,ABN59939.1,ABS06575.1,ABX47599.1,ACK44966.1,ADT92626.1,ABE53655.1,ABI73624.1,ABZ75035.1,ABO25314.1,AAN57186.1,ABV89116.1,ACJ28985.1,ADV52847.1,ABP74224.1,ABV35028.1,ABK49956.1,ABI40629.1,ABI41394.1,ABM23246.1,BAB19207.1,BAJ03998.1,ACA88778.1,ACD09927.1,ABB64818.1,AHA62975.1,ABB60361.1,ADA72442.1,AIL34041.1,AAP15639.1,AAN41758.1,ABF02375.1,AIL38930.1,AAZ86899.1,AFJ48323.1,AJR04271.1,ADE12937.1,AFV00697.1,CCB90018.1,AGA29731.1,CCE96494.1,ACP25863.1,AFL53031.1,ABR60906.1,CAC46746.1,AGG74757.1,AEG53867.1,AEG04896.1,AGA07149.1,CCM68035.1,AIM00116.1,AEH78427.1,AHN29681.1,BAE73729.1,AHF78339.1,AFD09075.1,ADZ78103.1,AIM35534.1,CDS91928.1,AGM41453.1,AGY92480.1,ADB42451.1,AFZ37236.1,ADH90411.1,AIL09265.1,CCH11234.1,AEM49960.1,CAQ44338.1,ACF50313.1,AHY60293.1,ADO73497.1,BAN36285.1,ADR33123.1,ACN98782.1,ACD67313.1,ADN08747.1,ABB43951.1,BAO30844.1,AFL67589.1,ACZ11282.1,AHJ11605.1,BAF72918.1,BAP58456.1,BAD78803.1,ABB56959.1,ABI46664.1,ABB35857.1,ABB25523.1,ABD03709.1,ABD00100.1,AII44302.1,AII45998.1,AII48595.1,AFY59608.1,ACA98329.1,AFY72184.1,CAK28721.1,AJD58517.1,CAK24384.1,CAE07071.1,AHF64536.1,AIE75072.1,BAA17007.1,BAL28178.1,BAL31348.1,BAL34517.1,AGX32281.1,ABK17616.1,ABC78057.1,AEW20592.1,CEG59686.1,CCG19422.1,AEP37019.1,CCG18036.1,AFN36346.1,ADU91248.1,ACR12897.1,AFL86389.1,ADV84768.1,CCU71246.1,AHK16529.1,AJD53288.1,ACR02015.1,ACZ19523.1,ADC89329.1,AHE95849.1,AEH22377.1,AEE13711.1,ACI21911.1,BAC09342.1,AHB88432.1,ADU97027.1,AER66283.1,AHF00560.1,AEG30979.1,AGA34238.1,ADC72684.1,ACL71868.1,AHE99268.1,AAZ96079.1,AFL74259.1,AGA91788.1,BAO43510.1,ABB41184.1,CAZ87158.1,ADG29782.1,CDW92686.1,BAP56836.1,AFK56844.1,ACQ92159.1,ABG52421.1,ADI13454.1,AFM14506.1,ADI19572.1,ADI22323.1,AGC70922.1,ADI16237.1,CBX29737.1,AAT38565.1,ADI20604.1,ADI22210.1,ADI22255.1,ADI22667.1,ADI23544.1,ADD93417.1,AAS73069.1,AAQ62386.1,ADI21994.1,ADI22373.1,ABE11280.1,ABE11412.1,AGU48098.1,ADU35203.1,ACS17576.1,ACZ24216.1,ABM57288.1,AGV18432.1,AEH32383.1,CDQ51076.1,AGU94634.1,AIT30336.1,AFC59166.1,AEA79299.1,ACP06619.1,ACQ60126.1,BAP03783.1,AAF95539.1,AET27479.1,ABQ22015.1,AIS53965.1,AIW19775.1,AAW86690.1,ACH65858.1,ADT88039.1,AIV04517.1,CCO56439.1,AGB08963.1,AGQ99222.1,AGQ90096.1,BAC58728.1,AHI98414.1,AEX20919.1,ACY52643.1,CAV17462.1,AIW14956.1,AIL69659.1,AAO09088.1,ADV87593.1,BAC93383.1,CCB90738.1,ADI38859.1,ADX67219.1,BAC24347.1,AFA41398.1,BAO77435.1,NP_908115.1,ABS65587.1,CBA17285.1,AAM35673.1,AEO41085.1,AGH76327.1,CAP52990.1,AAY50547.1,AAM40046.1,AEL05816.1,CAJ22467.1,AJD67377.1,AGI09561.1,CDF60424.1,AAW77075.1,BAE70353.1,AJQ82032.1,ACD57700.1,AEQ95056.1,AJQ89092.1,AJC45895.1,CDM91261.1,CBJ82588.1,CDG18711.1,CEK22042.1,CBJ89135.1,CDG20341.1,AAF83613.1,ACA12908.1,ACB93361.1,AIC11828.1,ADN62726.1,AIC10799.1,AAO29692.1,AJJ64633.1,CCQ41975.1,AJJ29232.1,AJJ23114.1,AHM75750.1,CAL10787.1,ADZ41292.1,CBY28619.1,CBX69679.1,AJI81269.1,AJI85461.1,AJJ17195.1,AIN19166.1,AJJ34725.1,AEL71134.1,ABX86246.1,AJJ85589.1,ABG15502.1,AJJ78419.1,ADW00499.1,AAS63771.1,CAC89417.1,ACY57400.1,ACY61183.1,AJJ32003.1,AJJ13674.1,AJK08824.1,AJJ38124.1,AAM87168.1,AJK21540.1,ABG16759.1,AJJ46251.1,AJI92137.1,ABP41439.1,AJJ00883.1,AJK22994.1,AJJ52711.1,AJK13371.1,ADE63449.1,AJJ70220.1,AIN14764.1,AJJ06679.1,ABS49439.1,CAH19934.1,AJJ53852.1,AJJ02782.1,ACC87705.1,AJJ68480.1,AJK16987.1,ACA69779.1,AJJ58942.1,AJJ09126.1,CEK26424.1,AJI93754.1,AHK19905.1,CAZ98661.1,ADF52689.1,NP_173884.5,AEE30587.1,AAG03126.1,AAG03124.1,CCO16471.1,ABA27251.1,AIA61097.1,BAC76116.1,AAF12949.1,AIB09800.1,ACO61698.1,ACO63809.1,AAN52736.1,ABO96694.1,CAL53384.1,CAN61403.1,ABH74696.1,AIP23989.1,AIO23043.1,AIP62357.1,AIO23076.1&rettype=fasta&retmode=text\r\n"
       ]
      },
      {
       "output_type": "stream",
       "stream": "stdout",
       "text": [
        "http://eutils.ncbi.nlm.nih.gov/entrez/eutils/efetch.fcgi?db=protein&id=AIP26694.1,AJJ88102.1,ADE02638.1,AEH38989.1,ADB63256.1,CDR30780.1,CCV64372.1,ACO33878.1,ACO31385.1,ADW67685.1,ADW67687.1,ADW67688.1,ADW69716.1,ADW70524.1,AGL19052.1,ACU38496.1,AJP44338.1,AIF99285.1,AFS37788.1,AFT95853.1,AFT78812.1,AGP78427.1,AFT75026.1,AGP86112.1,AGP90251.1,AGP94072.1,AGT87971.1,AGT87962.1,AGT84298.1,AEK46096.1,AEK46087.1,AFO77170.1,ADJ45458.1,ADJ49126.1,ADJ49135.1,ACL41329.1,ACL41072.1,ACL41773.1,ADX74941.1,ADX74352.1,ABK04689.1,ADU13053.1,ADU13817.1,ADU13636.1,ADP31182.1,ADP34435.1,ADP31177.1,AJF86948.1,AJF84044.1,AJF84048.1,AIK49130.1,AIK48297.1,AIK49267.1,BAB04834.1,BAB07682.1,AGX04051.1,AGN35883.1,AGN35890.1,AGN35887.1,AGN38421.1,AJO17719.1,AJO17711.1,AJO20529.1,AJO17716.1,AAU40282.1,AAU40277.1,AAU42913.1,AAU40285.1,BAL46008.1,BAL46010.1,BAL46007.1,BAL46009.1,AHL70647.1,ABV61461.1,CEJ79580.1,CEJ76271.1,CEJ76266.1,AFI30564.1,AFI27333.1,AFI27338.1,AAF25818.1,AFW16626.1,AIZ59469.1,AJO57362.1,AJO60283.1,AJO57358.1,BAM56900.1,BAM56895.1,BAM60008.1,BAM49630.1,BAM49625.1,BAM55996.1,CEI55841.1,CEI59723.1,CEI55846.1,ADV95696.1,ADV94737.1,ADV95690.1,AIY96306.1,AIY96310.1,AIY99539.1,AHA76663.1,AHA79884.1,AHA76658.1,AFQ56625.1,AFQ56630.1,AFQ59764.1,AIX06471.1,AIX09552.1,AIX06476.1,BAI84225.1,BAI87594.1,BAI84220.2,AJD35402.1,AJD35407.1,AJD38338.1,ADM36772.1,ADM36777.1,ADM39919.1,AEP88881.1,AEP85644.1,AEP85649.1,AJE93373.1,AJE93377.1,AJE96608.1,AGG60058.1,AGG60063.1,AGG63326.1,CAB12521.1,CAB12526.1,CAB15948.1,AIC43323.1,AIC46628.1,AIC43318.1,AGI27976.1,AGI31074.1,AGI27971.1,AGA22636.1,AGA22369.1,AGA22364.1,AIC39091.1,AIC42397.1,AIC39086.1,AIC97279.1,AID00211.1,AIC97284.1,AEP92981.1,AEP89794.1,AEP89789.1,AII37615.1,AGE65529.1,AGE62577.1,AGE62572.1,AII66392.1,AII66366.1,AII64734.1,AII62209.1,AII64664.1,AII65135.1,AII67884.1,AII68092.1,AII64753.1,ADY37158.1,ADY37518.1,ADY37533.1,AAO79278.1,AAO79215.1,AAO79255.1,ABR37888.1,ABR37910.1,ABR39491.1,ABR39821.1,CBK68201.1,CBK68223.1,CBK68240.1,AFL85051.1,ACU86687.1,ADL02168.1,ADL02255.1,ADL33886.1,ADL34323.1,ADL33943.1,ACM61395.1,ADQ05959.1,ADQ45141.1,AEM72789.1,ADL43349.1,ADQ05565.1,ABJ85017.1,ABJ82092.1,ABJ86706.1,ABJ88388.1,AAK22797.1,ACL94320.1,ADG11187.1,ADG11179.1,ABZ73147.1,AIR71087.1,ACE85139.1,ACU62935.1,AJH00948.1,AIU02714.1,ABR36030.1,ADL50681.1,AEV69827.1,AGF55423.1,AGI39076.1,AEL25004.1,CAA70971.1,ACZ77921.1,ACS86542.1,AJC67291.1,ACT05960.1,AHW58603.1,ACT92767.1,AGA77895.1,AGA77928.1,AGA79318.1,AGA79319.1,AFK02251.1,AGN85741.1,EEV39828.1,AAQ43336.1,AFC64631.1,AGS76584.1,AFK60115.1,AGE31103.1,AII39939.1,BAO08213.1,ACR71457.1,ACR72407.1,CBL00444.1,CCH01533.1,CCH01729.1,ACX75583.1,ACX76064.1,ACX76065.1,ACU08312.1,CCB70651.1,ABQ07234.1,ABQ07254.1,AHG87893.1,AHG93185.1,ADI26530.1,AGE22572.1,AGT32307.1,ACX79401.1,ABO67245.1,AEV19581.1,ACZ98821.1,AHN24584.1,AEU35412.1,AEU36618.1,AEU36620.1,AEU37939.1,AJQ97647.1,AEE52229.1,AHJ97129.1,AEG42991.1,AEG45630.1,AIA25259.1,ABX43096.1,AIS08356.1,ADQ17349.1,ADQ18031.1,ABR69674.1,BAK20842.1,BAK20946.1,BAL62645.1,BAL62736.1,AEG01848.1,AHF15122.1,AHF15138.1,AHF16649.1,AEV99940.1,AEV99952.1,AEW01545.1,BAC14040.1,AHF90578.1,AHF91414.1,AHF93523.1,AHF93525.1,ACB74621.1,ACB74641.1,ACB77546.1,AIQ57020.1,AIQ58695.1,AIQ59867.1,AIQ70081.1,AFC30818.1,AFC28232.1,AFC29177.1,AFC29473.1,AFC32487.1,AFC31713.1,AFC31460.1,AFH61650.1,AFH60406.1,AFH64065.1,AFH64803.1,AFH61349.1,AFK65224.1,AFH63317.1,AFH63800.2,AFH63140.2,AEI40883.1,AEI41971.1,AEI43152.1,AEI43346.1,AEI43857.1,AEI43881.1,AEI44715.1,AEI40549.1,AEI44160.1,AIQ74000.1,AIQ73458.1,AIY10108.1,AIY11708.1,AIY07762.1,AHC18393.1,AHC20833.1,AHC19084.1,AHC19867.1,ADM68580.1,ADM69178.1,ADM69998.1,ADM70916.1,CCC84249.1,CCC85107.1,CCC83693.1,CCI70068.1,AJE49723.1,AJE50998.1,AJE53277.1,AJE54006.1,ADO54801.1,ADO55419.1,ADO56382.1,ADO57397.1,AHM64448.1,AHM66957.1,AHM65896.1,AHM65067.1,AIQ18502.1,AIQ19706.1,AIQ17862.1,AIQ23532.1,AIQ31094.1,AIQ29973.1,AIQ35396.1,AIQ41616.1,AIQ42661.1,AIQ47320.1,AIQ49163.1,AIQ46612.1,AIQ54650.1,AIQ52156.1,AIQ52861.1,ACT02723.1,ACT04151.1,ACX66557.1,AET59077.1,AET61722.1,AET60696.1,AET59801.1,AIK15042.1,AIA72075.1,CAG76150.1,ACT14069.1,AFR04487.1,AFR03611.1,AIU89328.1,AFI89240.1,ACX87043.1,ACU03374.1,ACU02991.1,ADY52351.1,ADY52352.1,ADY53892.1,ADY54258.1,ADY54259.1,ADY53903.1,ADY54229.1,ADY62320.1,AGB27919.1,AGB28256.1,AGB28354.1,AGB29274.1,ADE81450.1,ADE81025.1,ADE81126.1,ADV25880.1,ADV25892.1,CAD73312.1,CBL09365.1,CBL11990.1,ABN54336.1,ADU73772.1,ADU20943.1,ADU23015.1,ADU21040.1,CBL17979.1,AEI48664.1,ABD82351.1,ACZ20496.1,AGU88877.1,AFU99254.1,CAN91647.1,CAN95332.1,AGP34764.1,AGP38613.1,AEC02829.1,ADY14485.1,ADZ77051.1,ADZ79427.1,CDT08339.1,CDS92385.1,CDT08348.1,CDT08403.1,AHE57130.1,AHE56159.1,AFS60099.1,AJA07766.1,ADB37292.1,ADB37281.1,AHY60936.1,AHY60924.1,BAC74085.1,BAC69818.1,ADI11233.1,ADI11754.1,CAC38816.1,AJP01436.1,AJP05895.1,CCK26577.1,CCK31000.1,AIR97697.1,AIS01223.1,BAG18308.1,AIJ16570.1,ADW01687.1,ADW06331.1,AGP53491.1,CBG69075.1,CBG74047.1,AIV37169.1,AGJ54248.1,AGJ59222.1,AEN09233.1,AEN13068.1,CCA53866.1,CCA59892.1,CCA59905.1,ACR10920.1,ACR11642.1,ACR11700.1,ADV82523.1,ADV82525.1,ADV83341.1,AGA57387.1,AEE17245.1,AEJ18222.1,AFQ23783.1,AEQ20325.1,ADT89414.1,AAM35063.1,AEO40466.1,AGH75709.1,CAP49489.1,CAP49501.1,AAY47238.1,AAY47250.1,AAM39461.1,AAM39473.1,AEL09254.1,AEL09240.1,CAJ21786.1,AJD66759.1,AGI06384.1,CDF59768.1,AAW73519.1,BAE66996.1,ACD61530.1,AEQ94497.1,AJQ89557.1,CAA61858.1,EAA64633.1,EAA63405.1,CAK39021.1,CAC41360.1,BAE58334.1,BAE61201.1,BAE62254.1,BAE63203.1,CCD34520.1,CCD34352.1,CCD45685.1,CCT74253.1,CCT67804.1,CCT64928.1&rettype=fasta&retmode=text\r\n"
       ]
      },
      {
       "output_type": "stream",
       "stream": "stdout",
       "text": [
        "http://eutils.ncbi.nlm.nih.gov/entrez/eutils/efetch.fcgi?db=protein&id=AAO34675.1,BAC66097.1,CEF88493.1,CEF86698.1,CEF78352.1,AAO27750.1,CBX92723.1,CBY00009.1,CBY01966.1,ADV30327.1,ADV30328.1,XP_367766.1,XP_003710104.1,XP_003714083.1,AEO61153.1,AEO61167.1,XP_322080.1,CAP92652.1,CAP86890.1,CCA72926.1,CAP67203.1,AEO64902.1,ADR64676.1,ADD61757.1,ADO69646.1,AHM26387.1,AHM26388.1,AHM26389.1,AHM26390.1,AHM26391.1,AHM26392.1,AHM26393.1,AHM26394.1,AHM26395.1,AHM26396.1,AHM26397.1,AHM26398.1,AHM26399.1,AHM26400.1,AHM26401.1,AHM26402.1,AHM26403.1,AHM26404.1,AHM26405.1,AHM26406.1,AHM26407.1,AHM26408.1,AHM26409.1,AHM26410.1,AHM26411.1,AHM26412.1,AHM26413.1,AHM26414.1,AHM26415.1,AHM26416.1,AHM26417.1,AHM26418.1,AHM26419.1,AHM26420.1,AHM26421.1,AHM26422.1,AHM26423.1,ACA61623.1,AAU05497.1,AAC34238.1,AAF14036.1,CAB71866.1,AAF14046.1,AAF23225.1,NP_172426.2,AAK96722.1,AAT70429.1,AAM74495.1,BAB10249.1,BAB10060.1,AGW24475.1,CCO18946.1,CCO19185.1,ABG34280.1,ABG34281.1,ABG34282.1,ABG34283.1,ACU19131.1,ACU20363.1,ACU20439.1,BAK01215.1,BAJ89162.1,BAK08353.1,BAJ93498.1,BAJ97261.1,BAK07864.1,BAJ88825.1,BAF46305.1,AAP72959.1,AFN53693.1,ACF05806.1,AFK37852.1,AFK35535.1,AFK45147.1,AFK37998.1,ACJ85294.1,AFK42918.1,AFK38038.1,AFK40860.1,AFK45877.1,ABD33181.1,ABE92546.1,ABE81805.1,ABO82649.1,AFD50361.1,AFD50362.1,ABG33770.1,AAL69374.1,CAH67867.1,BAD87837.1,BAB62609.1,BAD87540.1,BAD87541.1,BAD87542.1,BAC10030.1,BAF15687.1,BAD07550.1,BAF16362.1,AAG13483.1,ABP01004.1,CAL56899.1,ABR16604.1,ADE77373.1,ABK24433.1,ABK24994.1,ABK26312.1,ADR82372.1,ABK93778.1,ABK95483.1,AIA21744.1,AGT16732.1,AGT17273.1,ACS68714.1,ACE86391.1,CDM87215.1,CDM87209.1,CDM87214.1,CAA67728.1,CAN64152.1,CAN83189.1,CAN62190.1,ACG42746.1,ACG45387.1,ACG30861.1,ACN34273.1,ACG37265.1,ACG39759.1,ACG40448.1,ACG43001.1,ACG46202.1,ACN34427.1,ACN28397.1,ACN36429.1,ACF78826.1,ACF78919.1,ACF82844.1,ACF86109.1,ACF87259.1,ACF87467.1,ACF88142.1,AJF60962.1,ABW01668.1,ABW01673.1,AGY50208.1,AJA91983.1,AFS80027.1,AFU59246.1,AEM59011.1,AHB67707.1,AHZ24267.1,AFK20864.1,ADQ68872.1,ACV47576.1,ACV48108.1,AEB95004.1,AIM27447.1,AIM27207.1,ABP95462.1,ABR56011.1,AAM05850.1,ACL15956.1,AFO57938.1,AIF69242.1,CAB50449.1,AFN03173.1,AAL80478.1,BAA29587.1,AFK22149.1,AGN02575.1,AGN01300.1,ADI31232.1,ABN69812.1,AHC51449.1,ADX82325.1,ACP34631.1,AGJ61906.1,ACP37276.1,ACR41072.1,ADX84495.1,ACX90963.1,BAB65879.1,ADT83944.1,AIU69497.1,ACS33096.1,BAD85953.1,AHL22947.1,EEB74517.1,AJB41569.1,ABL78593.1,AGT35762.1,AIF02121.1,AIF06113.1,AIF06403.1,AIF11356.1,AIE90240.1,AIE93123.1,AIE95915.1,AIE98853.1,AIF05773.1,AIF10521.1,AIF11056.1,AIF11623.1,AIF18108.1,AIF20322.1,ADL11850.1,ABX81800.1,CDR30445.1,ACU53233.1,ACU53543.1,ACU53632.1,ACU54531.1,ACO32732.1,ACO33875.1,ADW69173.1,ADW69627.1,ABK52148.1,ABK53640.1,ABK53658.1,AIE82653.1,AIE81984.1,AGZ39395.1,AGZ46010.1,AGZ44631.1,BAL91095.1,BAL92589.1,BAL91283.1,BAL86024.1,BAL88442.1,AGL14640.1,AGL18968.1,AGL20879.1,AGL19726.1,AEV81867.1,AEV84933.1,AEV88529.1,ACU34672.1,ACU34728.1,AHG65734.1,AFL79773.1,AFL82421.1,AAL45450.1,ADY65920.1,AHK04413.1,AHK02818.1,ACV57994.1,ACV59080.1,ACV57921.1,AEJ42917.1,AEJ44097.1,ACG67206.1,AIG73829.1,AIG73908.1,AIG76824.1,AIG78996.1,AIG73309.1,AIG80151.1,AJK53006.1,AJK58064.1,AJK52396.1,AJK55423.1,AJK52464.1,AJK59357.1,AGT88630.1,AGT88565.1,AGT84507.1,AGT80804.1,AGT87570.1,AGT85335.1,AGT81294.1,AGT81230.1,AEK39137.1,AEK46780.1,AEK38639.1,AEK46711.1,AEK45670.1,AEK42446.1,AEK43296.1,ADJ41965.1,ADJ42451.1,ADJ48733.1,ADJ49727.1,ADJ49793.1,ADJ46497.1,AIJ21757.1,AIJ22918.1,AIJ25140.1,AIJ25909.1,AIJ25970.1,AIJ26254.1,AIJ20600.1,AIJ22933.1,AGM04313.1,AGM09416.1,AGM09497.1,AGM06459.1,AEF41813.1,AEF41860.1,AEF41031.1,AEF41984.1,AFZ55914.1,BAJ62975.1,BAJ63435.1,BAJ62819.1,ACJ33498.1,CBT74974.1,CBT76343.1,ABM08937.1,ABM09797.1,ACL39232.1,ACL40428.1,ADX72381.1,ADX73725.1,CEA07451.1,CEA08682.1,ABK02563.1,ABK04119.1,AIY00354.1,AIY03532.1,AIY01502.1,AFR27646.1,AFR28143.1,AFR29764.1,AIB15708.1,AGK14741.1,AGK21098.1,AGZ57933.1,AGZ56827.1,AGZ58608.1,AGZ56685.1,CBI43273.1,AGF27319.1,AGF27444.1,AGF25569.1,AGF26205.1,AJH25412.1,AJH24412.1,AJH24275.1,AJH26008.1,AHC42645.1,AHC42510.1,AHC43686.1,AHC44298.1,AEB63964.1,AHZ16355.1,AHZ15980.1,AHZ17405.1,AHZ18044.1,AJK65798.1,AJK66807.1,AJK67430.1,AJK65683.1,AFZ91147.1,AFZ91007.1,AFZ92203.1,AFZ92845.1,CCF05456.1,CCF05604.1,CCF06678.1,CCF07297.1,CDH95306.1,CDH97722.1,CDH95605.1,ABS76081.1,ABS75449.1,ABS74284.1,ABS74424.1,AHK49593.1,AHK49462.1,AHK50611.1,AHK51230.1,CDG31842.1,CDG31219.1,CDG30169.1,CDG29860.1,CCP23047.1,CCP22028.1,CCP21893.1,CCP23675.1,CDG26282.1,CDG27936.1,CDG27315.1,CDG26165.1,CCG50234.1,CCG50066.1,CCG51953.1,AEB23328.1,AEK88341.1,AEK91293.1,AFJ62421.1,AFJ62244.1,AFJ64275.1,AIK34684.1,AIK31122.1,AIK33361.1,AJH89515.1,AJH90866.1,AJH86785.1,AJA85911.1,AJA87580.1,AJA87911.1,AJM81874.1,AJM80189.1,AJM82206.1,AJF89263.1,AJF90952.1,AJF91284.1,AJH93168.1,AJH92392.1,AJH94429.1,AJH51147.1,AJH52753.1,AJH52120.1,AJH56581.1,AJH55341.1,AJH57792.1,AIK57858.1,AIK60002.1,AIK59149.1,AJI41691.1,AJI40279.1,AJI42502.1,AIM07260.1,AIM07601.1,AIM05443.1,AIK53276.1,AIK50485.1,AIK50614.1,AIM10857.1,AIM12724.1,AIM13074.1,AIF57888.1,AIF57574.1,AIF55881.1,AJG73321.1,AJG72285.1,AJG71988.1,AJG87494.1,AJG86541.1,AJG90345.1,AJG67827.1,AJG64113.1,AJG64684.1,AJH32202.1,AJH35070.1,AJH33920.1,AJG28381.1,AJG30071.1,AJG30403.1,AJH38819.1,AJH39012.1,AJH41686.1,AJH27916.1,AJH29909.1,AJH28887.1,AIK09549.1,AIK07623.1,AIK09905.1,AAT33001.1,AAT32634.1,AAT30655.1,ACQ46877.1,ACQ45965.1,ACQ49235.1,AHE90797.1,AHE91155.1,AHE88860.1,AHE85280.1,AHE84921.1,AHE82958.1,AAP25493.1,AAP27288.1,AAP27621.1,ACP12570.1,ACP12977.1,AFH85089.1&rettype=fasta&retmode=text\r\n"
       ]
      },
      {
       "output_type": "stream",
       "stream": "stdout",
       "text": [
        "http://eutils.ncbi.nlm.nih.gov/entrez/eutils/efetch.fcgi?db=protein&id=AFH84739.1,AFH82850.1,AAT55576.1,AAT53764.1,AAT55906.1,AHK39513.1,AHK37642.1,AHK39861.1,AJG50223.1,AJG46250.1,AJG45874.1,AJI02278.1,AJH98525.1,AJI02355.1,AIK63778.1,AIK63787.1,AIK66199.1,AJG83471.1,AJG84245.1,AJG83597.1,ADP32753.1,ADP32614.1,AJF85298.1,AJF85419.1,AJF86459.1,AIK47729.1,AIK48958.1,AIK48802.1,AHX19482.1,AHX17724.1,ADU30161.1,ADU32378.1,ACO25940.1,ACO29964.1,AJI13523.1,AJI10063.1,AIY73740.1,AIY77818.1,AIY74480.1,AJH63021.1,AJH64120.1,AJH62269.1,ACJ79488.1,ACJ79413.1,ACK89951.1,ACK88142.1,ACK90499.1,AJI19043.1,AJI19102.1,AJI19824.1,AJI15229.1,AAS40592.1,AAS42385.1,AAP10396.1,AAP08514.1,AJH76506.1,AJH74542.1,ACK63858.1,ACK59683.1,ACK63319.1,ADK04244.1,ADK06036.1,AJG59042.1,AJG59271.1,AAU17080.1,AAU18832.1,AEW54675.1,AEW56547.1,AEW56849.1,AJG92703.1,AJG95969.1,AJG91725.1,AFQ08054.1,AFQ11474.1,AIE78848.1,AJI05670.1,AJI04151.1,AJI04448.1,ACK97580.1,ACK96018.1,ACK96691.1,BAL17310.1,BAL19080.1,ACM12032.1,ACM13700.1,AJK35037.1,AJK35749.1,AJK34626.1,BAD64639.1,BAD64606.1,AEP00595.1,AEP02156.1,AJH79358.1,AJH79832.1,AJO22807.1,AJO20936.1,ABS21580.1,ABS22444.1,BAB07039.1,BAB05401.1,AGX06666.1,AGX05271.1,AIC94228.1,AIC94583.1,AGN36700.1,AGN36818.1,AJO18727.1,AJO18597.1,AAU41146.1,AAU41262.1,BAL46012.1,BAL46011.1,ADF38228.1,ADF38820.1,AJI21882.1,AJI25074.1,ADE68418.1,AEN90725.1,AEN92100.1,AEN90151.1,AIE60524.1,AIE61617.1,AIU82077.1,AIU83930.1,AIU82230.1,AIK37621.1,AIK40532.1,AIK36937.1,AIK36373.1,AJH19854.1,AJH18421.1,AJH21942.1,ADC51164.1,AHL71745.1,AHL71846.1,ABV62539.1,ABV62648.1,ADH99610.1,AGK54685.1,AGK56108.1,AJE77049.1,AJE78926.1,AJE79088.1,CEJ77574.1,CEJ77884.1,AFI28663.1,AFI28785.1,BAQ09837.1,AJC25464.1,AJC26058.1,AJC27027.1,AJC27154.1,AIZ60488.1,AIZ60588.1,AJO58566.1,AJO58676.1,AAB38444.1,AIW33913.1,AIW35767.1,AIW35243.1,AIW34202.1,AIW38844.1,AIW39428.1,AIW37701.1,AIW37871.1,AIU75733.1,AIU77646.1,AIU75137.1,AIU77510.1,BAM58303.1,BAM58185.1,BAM52610.1,BAM52728.1,AIW30145.1,AIW31906.1,AIW31316.1,AIW30275.1,CEI57462.1,CEI57149.1,ADV92976.1,AIY97572.1,AIY97876.1,AHA77994.1,AHA78120.1,AFQ58195.1,AFQ57886.1,AIX07860.1,AIX07739.1,BAI85744.1,AJD36660.1,AJD36773.1,ADM38244.1,AEP87095.1,AEP86969.1,AJE94645.1,AJE94951.1,AGG61642.1,AGG61331.1,CAB14163.2,AIY93265.1,AIC44609.1,AIC44925.1,AGI29392.1,AGI29264.1,AGI30525.1,AGA23554.1,AGA23435.1,AIC40693.1,AIC40377.1,AIC98534.1,AIC98645.1,AEP91265.1,AEP91142.1,AII36042.1,AII35924.1,AGE63896.1,AGE63777.1,AGE64990.1,AJI32505.1,AJI33923.1,ADH06183.1,ADH07950.1,AFV17269.1,AFV19212.1,AFQ16066.1,AFQ14999.1,AFQ13956.1,AFQ25296.1,AFQ26152.1,AFQ27098.1,AJH04321.1,AJH04119.1,AJH06426.1,AJG79328.1,AJG78785.1,AJG78723.1,AJH67015.1,AJH70917.1,AJH82989.1,AJH84506.1,AJH81967.1,AFU12190.1,AFU14349.1,AFU14038.1,AEA15147.1,AEA17064.1,ADY20910.1,AJA19036.1,AJA20658.1,AAT59462.1,AAT60450.1,AJK39539.1,AJK39569.1,AIE32891.1,AIE34702.1,AGE77345.1,AGE79283.1,AHZ50493.1,AHZ52280.1,AJQ60064.1,AJQ58296.1,AJQ59166.1,AGG00192.1,AGG02163.1,ABK84731.1,ABK86375.1,AHA72908.1,AHA70938.1,AHA07000.1,AHA06690.1,AHA10043.1,ABY42707.1,ABY44355.1,ABY44701.1,ABY46636.1,AIW84123.1,AIW83859.1,AIW86071.1,AFL85204.1,AFL85285.1,ACQ79339.1,ACQ79384.1,ACQ80951.1,CCG01756.1,CCG01889.1,CCG02911.1,CCG05052.1,BAO67945.1,ACU86100.1,ACU84350.1,ACU85028.1,ACU85580.1,AJA63938.1,AHY51366.1,BAH43475.1,BAH45500.1,AIG26186.1,AIG26269.1,AIG27912.1,AIG27915.1,AIK05540.1,AIJ79076.1,AIJ51428.1,AIJ56382.1,AIJ75923.1,AIJ91713.1,AIJ66061.1,AIJ62676.1,AIJ59388.1,AIN91182.1,ABX63624.1,AIJ84340.1,CDL77983.1,AHZ82673.1,AHB01039.1,AHB03437.1,AIJ88232.1,AIJ94560.1,AIJ87255.1,ABQ62759.1,AIJ73020.1,AIJ66169.1,ABY39439.1,AIJ97138.1,AHN48182.1,AIB29224.1,AIB32596.1,AIB19097.1,AIB22475.1,AIB25833.1,AIJ69539.1,AJM86292.1,AIN85746.1,AIN88751.1,AJK48841.1,AIP82817.1,AGR68230.1,AHK68210.1,AGZ31696.1,AAM25112.1,BAM00912.1,BAM01599.1,BAL98395.1,AFZ01836.1,AFY31429.1,AFY32525.1,AFY34954.1,CDG57044.1,AII13917.1,AHW92335.1,AJC88753.1,AJC86774.1,AJC91327.1,AJC93094.1,AHB40235.1,AEP13704.1,ABF42434.1,ABF42335.1,ABF41881.1,CAJ71967.1,CBE67352.1,AIK96937.1,CDO59526.1,CDO59526.2,AIC47718.1,ABJ87151.1,ABJ85764.1,AEK23686.1,ACU91795.1,ABB15505.1,ACU76240.1,ACU69606.1,ACU69691.1,ACU73923.1,ACU75216.1,ACU76820.1,ACU71522.1,AEE47021.1,AEE47067.1,ADG73850.1,YP_004166129,YP_004166137,AIZ42507.1,AIZ42499.1,AIY14157.1,AIY14149.1,ADY30961.1,YP_004263844,AIM61932.1,AIM61944.1,AEI11186.1,AEI11231.1,ACU60552.1,ACU62910.1,ACF11163.1,ABB28851.1,ACD89981.1,ABB24278.1,ACE03887.1,ABL64875.1,ABP37249.1,AAM72647.1,ACL24203.1,ACL25808.1,ACL24244.1,ABY33606.1,ABY35452.1,ABY35821.1,ACM51821.1,ACM53810.1,ACM54215.1,ACF15160.1,ACF14483.1,ACF14603.1,AFY85783.1,AFY86601.1,BAP32374.1,BAP33536.1,CAN02244.1,CAN02312.1,CCE76082.1,CCE76155.1,CAQ02299.1,CAQ02510.1,AIY78826.1,ACD21734.1,CDH90466.1,AEB75797.1,ADG00393.1,ABS42636.1,AJF29459.1,AJF32520.1,AEV70514.1,EDK34481.1,ADL06123.1,AGF56136.1,CDI49843.1,ADB53850.1,AFE04340.1,AGU14832.1,AGU14880.1,AIG63902.1,AIG64364.1,ACP32575.1,ACP32522.1,AGG66375.1,AGG66466.1,AGG66482.1,AHI20381.1,AHI20397.1,AHI20481.1,AEX43900.1,AEX43944.1,AEX41610.1,AEX41656.1,AEX48403.1,AEX48464.1,AEX67039.1,AEX67081.1,AEX71827.1,AEX71868.1,AEX74087.1,AEX74130.1,AEX76327.1,AEX76370.1,AEX78562.1,AEX78606.1,AEX80878.1,AEX80835.1,AEX46154.1,AEX46113.1,CAE49489.1,CAE49446.1,AEX69591.1,AEX69549.1,AEX83111.1,AEX83069.1,AIT60648.1,AIT60772.1,AIT61514.1,BAC17968.1,BAC17862.1,AHI03582.1,AHI03513.1,AIK84789.1,AIK84689.1,BAB98493.1,CAF19694.1,BAB98476.1,AIK87573.1,AIK87473.1,AJE67086.1,AJE68746.1,AGT05092.1,AGT04985.1,AGT05076.1,BAF54057.1,BAF54161.1,BAF54144.1,AGN18847.1&rettype=fasta&retmode=text\r\n"
       ]
      },
      {
       "output_type": "stream",
       "stream": "stdout",
       "text": [
        "http://eutils.ncbi.nlm.nih.gov/entrez/eutils/efetch.fcgi?db=protein&id=AGN18735.1,AGN18830.1,AGN21870.1,AGN21758.1,AGN21853.1,AHW63638.1,AHW63676.1,AHW63740.1,AGF71990.1,AGF72079.1,AGF72120.1,AJE32800.1,AJE32838.1,AJE32730.1,AIJ33172.1,AIJ33251.1,CAI37570.1,CAI37642.1,ACR17335.1,ACR17389.1,AJK68515.1,AJK68393.1,AJK68465.1,AGS34382.1,AGS34517.1,AGS35278.1,AER68787.1,AER68832.1,ADL20614.1,ADL20659.1,AFK16411.1,AFK16365.1,AFH51659.1,AFH51705.1,AEX39246.1,AEX39201.1,AFH90595.1,AFH90550.1,AFB72061.1,AFB72108.1,AEP69974.1,AEP70019.1,AIG07153.1,AIG07106.1,ADL10204.1,ADL10251.1,AEQ06281.1,AEQ06326.1,AFM07080.1,AFM07123.1,AIG08264.1,AIG08311.1,ADK28517.1,ADK28563.1,AIG11602.1,AIG11557.1,ADO26043.1,ADO25996.1,AFF21922.1,AFF21877.1,AEK92100.1,AEK92055.1,AJC13460.1,AJC13503.1,AEI09826.1,AEI09959.1,AJI78616.1,AJI78557.1,AIN82663.1,AIN81316.1,AGP31173.1,AGP31224.1,BAM27125.1,BAM27077.1,AIU91407.1,AIU91456.1,AIU30125.1,AIU30173.1,AIT88812.1,AIT88763.1,AEG81351.1,AEG81303.1,AEG83543.1,AEG83495.1,AIU32408.1,AIU32360.1,CAQ04560.1,CAQ04620.1,AGE36186.1,AGE36243.1,AIL96598.1,AIL96675.1,AIL97731.1,AEK37226.1,AEK37294.1,AHI22384.1,AHI22434.1,EAP86864.1,YP_003717147,AJG22916.1,AJG24455.1,AIV41338.1,AIV40536.1,AEL26166.1,AEL26863.1,ABG59043.1,ABG60113.1,CEP78113.1,AAW39770.1,ABQ17471.1,AGG08032.1,AGG07251.1,CAI83088.1,CAI82457.1,AII57458.1,AII58043.1,AII58967.1,AII59637.1,AII60400.1,AII61052.1,AGG06542.1,AGG05850.1,ADC74207.1,AHB13660.1,AHB13000.1,ACZ61997.1,BAQ34795.1,BAQ34204.1,ADJ25656.1,ACO45054.1,ACO46088.1,ACO46995.1,ACO47466.1,ABF46597.1,ABF46265.1,ABF45321.1,ABF44671.1,AFD23935.1,AFD24150.1,AFD24351.1,AFD24973.1,ADV66227.1,ADV66396.1,ADV67671.1,AFZ66463.1,AFZ68891.1,AFZ66216.1,AFZ67437.1,AFZ69172.1,ADY25189.1,ADY25978.1,ADY27139.1,AAF10027.1,AAF09674.1,AIZ45017.1,AIZ46086.1,AIZ46473.1,AIZ44698.1,AIZ45329.1,AIF41393.1,AIF41792.1,AIF41360.1,ACV67908.1,AFM39357.1,AFQ45422.1,AFQ42417.1,AET69928.1,AEF94558.1,ABO50834.1,AEG59616.1,CCH48603.1,AEE20894.1,YP_004431539,EAQ39921.1,EAQ40520.1,AHW61393.1,AHW60971.1,ACT91355.1,AHX12773.1,AGA79658.1,AGA79682.1,AIL44072.1,AFK01581.1,AFK05148.1,AFK04576.1,AHK47521.1,AJF55134.1,AJB50554.1,AJE54656.1,AIZ85910.1,AJB38180.1,AGC85800.1,AIL16803.1,AIL18164.1,ACA78886.1,AIF61848.1,AIN30868.1,AJG07368.1,AIX62086.1,AIZ30082.1,AIT33575.1,ABV04813.1,CCQ27272.1,AGY87442.1,AIZ53406.1,CDY55331.1,CDZ19229.1,AFH19315.1,AGW11471.1,AJO86629.1,AID81751.1,AID79125.1,AID81579.1,AID81596.1,AID81684.1,AID81802.1,AFS58594.1,AFS84897.1,AFS75802.1,ABV18115.1,CDN82629.1,AEQ11173.1,AEQ13068.1,CDH63874.1,CDH65541.1,AIZ81385.1,AHM42519.1,AHM28780.1,AER89778.1,AER87964.1,AER84859.1,AER83045.1,ACB01495.1,CDJ70839.1,AIZ92487.1,AFH10103.1,AFS71799.1,ACB62350.1,ACQ71925.1,ACQ70923.1,AHA31044.1,AFG34398.1,CCH00848.1,CCH02648.1,AIE85317.1,ACU06678.1,CCB69260.1,AEW85075.1,CCG53904.1,ABQ05982.1,ABQ07716.1,AIT64931.1,AIJ38163.1,AIN71890.1,AIN73893.1,CAL42760.1,AIG31831.1,AIG33985.1,AIG29554.1,AIG36348.1,AIG38614.1,AIG40880.1,AFM02545.1,AFM06306.1,AEA44834.1,CDF79007.1,CDF79022.1,CAJ61819.1,CAJ64755.1,CAJ64835.1,ABD12813.1,ABD13214.1,ABD13253.1,ABW10284.1,ABW10321.1,ADP78746.1,ADP78785.1,ADP79662.1,ADP80925.1,AEH08290.1,AEH08350.1,AGM22710.1,EEO43316.1,AHG87601.1,AHG88839.1,AHG90433.1,AHG87602.1,AHG89666.1,AHG90496.1,AHG91681.1,BAH38177.1,BAD74692.1,BAD76468.1,ADI26345.1,ADI27998.1,AGE22783.1,AGE20989.1,AGT30815.1,AGT32497.1,ACS24832.1,ACS23322.1,ADP74179.1,ADU94567.1,ADU92906.1,ACX77179.1,ACX77933.1,AIM15422.1,AIM16473.1,ABO65762.1,ABO67469.1,AEH47471.1,AEV19773.1,AEV17840.1,ADB73703.1,ADB73843.1,AFZ29302.1,AFZ29337.1,AHK71520.1,ACY19461.1,ACY21962.1,ACY20909.1,ACY22533.1,AFA71371.1,AFA72563.1,AFA74141.1,AFA76121.1,AFA72612.1,AFR48248.1,AFR49259.1,AFR50002.1,AFR48271.1,CAL65739.1,YP_861853,CAL66982.1,AEU37093.1,AEU37098.1,AEU37695.1,ACY16708.1,AEE53276.1,AEE52104.1,AEE49518.1,CCG44258.1,CCG46384.1,CCG46814.1,BAM32047.1,BAM12378.1,ABZ84597.1,ABX05662.1,ABX05855.1,ABX06552.1,AII53926.1,AII50990.1,AII51439.1,AIZ63405.1,AIZ65153.1,AIZ63109.1,AHJ97723.1,AHJ96557.1,AHJ97248.1,AHJ96085.1,AHJ98385.1,AGK57595.1,AFH48852.1,BAN01850.1,BAN01807.1,BAN02653.1,BAN02998.1,ADU47518.1,ADU47099.1,ADU47562.1,ADU49116.1,AEG45174.1,AEG43717.1,AJD91283.1,AJD92432.1,ACV09534.1,ACV08456.1,ABS02589.1,ABS02622.1,BAJ30519.1,BAJ30611.1,AIX02239.1,AHM82467.1,AHM76842.1,AJB55270.1,AJB73726.1,AHI38719.1,AIJ42298.1,AGX40026.1,AJB30039.1,AGT21920.1,CDO11826.1,AIT01045.1,CCI74292.1,AJC02182.1,AIK81973.1,AHE42028.1,AIE00953.1,AIE25606.1,AIA39293.1,AID98581.1,AIA44470.1,AIX71786.1,AIX81621.1,AIX86791.1,AIW79249.1,AIW73747.1,AIE30909.1,ABR79432.1,AIG84406.1,AJE90418.1,AJA94763.1,AIR86304.1,BAG29169.1,BAG30116.1,ADB34540.1,ADB30349.1,ADB35049.1,ADB30961.1,ADB34620.1,AHH94235.1,AHH95911.1,AHH94302.1,AHI00585.1,AHH96087.1,AHI01788.1,ACV06459.1,ACV05787.1,ACV06950.1,ACV07478.1,AEH02034.1,YP_004580448,YP_003996197,YP_003997662,CEG56049.1,CEG59001.1,ABZ94476.1,ABZ98131.1,AIS65605.1,AHI56173.1,AJK89509.1,CEA01601.1,ACA38546.1,AHN20434.1,CCQ74518.1,AEE97888.1,EAR02382.1,EAR01160.1,YP_003862970,AFO85452.1,AEB10953.1,AEB11911.1,ADR20229.1,YP_004052325,ADD29563.1,ADD27401.1,ADD27050.1,ADD28505.1,AGK05124.1,ADH64657.1,ADH64285.1,AFN74937.1,AGB44904.1,AGB42710.1,AID28562.1,AID34132.1,AIQ91937.1,BAQ15678.1,ACS30050.1,AJO55174.1,AJO56068.1,CAO90776.1,BAK33358.1,BAK37157.1,BAK37343.1,BAK37411.1,BAK33193.1,ADL44496.1,ADL46228.1,ADL46427.1,ADL48829.1,ADL47314.1,ADU11160.1,ADU08486.1,ADU06719.1,ADU10102.1,CAJ34379.1,CCH87315.1,CCH86444.1,CCH86585.1,CCH88884.1,CCH90225.1,AGG29607.1,AEM71985.1,AEM72346.1,AEM71976.1,CAM61291.1,CAM61404.1,CAM64089.1,AIV19409.1&rettype=fasta&retmode=text\r\n"
       ]
      }
     ]
    }
   ],
   "metadata": {}
  }
 ]
}