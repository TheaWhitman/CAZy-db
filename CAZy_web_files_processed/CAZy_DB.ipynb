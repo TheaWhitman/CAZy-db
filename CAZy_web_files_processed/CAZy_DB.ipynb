{
 "metadata": {
  "name": "",
  "signature": "sha256:faa98646171d96271c651891583384b199cb70a22ced6e37a6799d1ea3b6d35b"
 },
 "nbformat": 3,
 "nbformat_minor": 0,
 "worksheets": [
  {
   "cells": [
    {
     "cell_type": "code",
     "collapsed": false,
     "input": [
      "    import re\n",
      "    import sys\n",
      "    import os\n",
      "    import types\n",
      "    import argparse\n",
      "    from bs4 import *\n",
      "    import html5lib\n",
      "    import urllib2\n",
      "    import time\n",
      "    import sqlite3\n",
      "    # Had to install a few of these (bs4, html5lib) with pip first."
     ],
     "language": "python",
     "metadata": {},
     "outputs": [],
     "prompt_number": 88
    },
    {
     "cell_type": "code",
     "collapsed": false,
     "input": [],
     "language": "python",
     "metadata": {},
     "outputs": [],
     "prompt_number": 103
    },
    {
     "cell_type": "code",
     "collapsed": false,
     "input": [
      "ls"
     ],
     "language": "python",
     "metadata": {},
     "outputs": [
      {
       "output_type": "stream",
       "stream": "stdout",
       "text": [
        "AA1.txt        CAZy_DB.ipynb\r\n"
       ]
      }
     ],
     "prompt_number": 1
    },
    {
     "cell_type": "code",
     "collapsed": false,
     "input": [
      "# https://github.com/nielshanson/CAZy_utils/blob/master/download_cazy_pages.py\n",
      "\n",
      "#!/usr/bin/python\n",
      "\n",
      "import urllib2\n",
      "import time\n",
      "import difflib\n",
      "## http://www.cazy.org/GH1_all.html\n",
      "## http://www.cazy.org/GH1_all.html?debut_PRINC=1000#pagination_PRINC\n",
      "\n",
      "CAZY_base = \"http://www.cazy.org/\"\n",
      "Families = {\"GH\":133, \"GT\":97, \"PL\":23, \"CE\":16, \"AA\":13, \"CBM\":71}\n",
      "# Creates a dictionary wtih the keys being the family name IDs and the values being the number of sub-families there are.\n",
      "\n",
      "def write_html(html_text, file_name):\n",
      "# defining a function, write_html, with the parameters html_text and file_name.\n",
      "try:\n",
      "        output_handle = open(file_name,\"w\")\n",
      "# define the output_handle variable as the contents of the file_name that goes into the function, open in \"write\" mode.\n",
      "    except:\n",
      "        \"couldn't open file \" + file_name\n",
      "# if this doesn't work, report this.\n",
      "\n",
      "    output_handle.write(html_text)\n",
      "# Then, we will take the opened file, and write the html_text to it. This overwrites whatever was there (\"a\" appends)\n",
      "    output_handle.close()\n",
      "# Then we close the now modified file.\n",
      "    return\n",
      "\n",
      "\n",
      "\n",
      "# find all gh families\n",
      "for fam in Families.keys():\n",
      "# We will do this for each family key that we put in the dictionary\n",
      "    for i in range(1,Families[fam]+1):\n",
      "# We do this for each sub family, from 1 to the total number of sub families +1. Not sure why it's +1... Python syntax maybe\n",
      "        link = CAZY_base + fam + str(i) + \"_all.html\"\n",
      "        # We define the link as the CAZy website + fam ID + the sub family number as a string + \"_all.html\"\n",
      "        # giving for example, http://www.cazy.org/AA10_all.html\n",
      "        html_old = \"\"\n",
      "        # We define a blank variable for html_old\n",
      "        for j in range(0,50001,1000):\n",
      "# We will do this for 0-50001, counting by 1000's. This allows us to collect up to 50 pages' worth of ref sequence IDs.\n",
      "            download_link = link + \"?debut_PRINC=\" + str(j) + \"#pagination_PRINC\"\n",
      "            # We create the value for the download link we want\n",
      "            # For example, http://www.cazy.org/AA10_all.html?debut_PRINC=1000#pagination_PRINC\n",
      "            html = None\n",
      "            # defines the variable html as being a blank variable\n",
      "            try :\n",
      "                response = urllib2.urlopen(download_link)\n",
      "                html = response.read()\n",
      "            # it defines the variable response as opening the url we defined above.\n",
      "            # then, it fills our html variable as \"reading\" the response - i.e., the page we just opened.\n",
      "            \n",
      "            except ValueError:\n",
      "                print \"couldn't download file \"  + download_link\n",
      "            # If this doesn't work, report it.\n",
      "            \n",
      "            if html:\n",
      "                seq=difflib.SequenceMatcher(a=html, b=html_old)\n",
      "                # SequenceMatcher is a function from the difflib library, that turns our two html page files into comparable\n",
      "                ratio = seq.real_quick_ratio()\n",
      "                # returns a quick estimate of the similarity of our two items\n",
      "                cazy_file = \"CAZy\" + \"_\" + fam + str(i) + \"_\" + \"page\" + str(j) + \".html\"\n",
      "                # defining the name of the file to be informative\n",
      "                if ratio != 1.0:\n",
      "                    write_html(html, cazy_file)\n",
      "                else:\n",
      "                    break\n",
      "                html_old = html\n",
      "                # Sets the page we just processed to be the old page, to which we will compare the next one.\n",
      "            # This takes advantage of the fact that if you input a higher number than number of sequences exists,\n",
      "            # the last page just shows up. Then, we can compare the two files, and if they are the same, end the loop\n",
      "            # and go on to the next family. However, if it's a new file, then we write it as an html file,\n",
      "            # with the name as defined above.\n",
      "            time.sleep(1)\n",
      "            # Takes a 1 second break."
     ],
     "language": "python",
     "metadata": {},
     "outputs": [],
     "prompt_number": 111
    },
    {
     "cell_type": "code",
     "collapsed": false,
     "input": [
      "#Should create necessary table in SQLite\n",
      "\n",
      "import sqlite3\n",
      "\n",
      "conn = sqlite3.connect('CAZy2.db')\n",
      "print \"Opened database successfully\";\n",
      "\n",
      "conn.execute('''CREATE TABLE `CAZY_2015_03_11` (\n",
      "    `fam`   TEXT,\n",
      "    `num`   TEXT,\n",
      "    `super` TEXT,\n",
      "    `org`   TEXT,\n",
      "    `protein`   TEXT,\n",
      "    `ec`    TEXT,\n",
      "    `genbank`   TEXT,\n",
      "    `uniprot`   TEXT,\n",
      "    `pdb`   TEXT,\n",
      "    `subf`  TEXT\n",
      ");''')\n",
      "print \"Table created successfully\";\n",
      "\n",
      "conn.close()"
     ],
     "language": "python",
     "metadata": {},
     "outputs": [
      {
       "output_type": "stream",
       "stream": "stdout",
       "text": [
        "Opened database successfully\n",
        "Table created successfully\n"
       ]
      }
     ],
     "prompt_number": 117
    },
    {
     "cell_type": "code",
     "collapsed": false,
     "input": [
      "ls *html"
     ],
     "language": "python",
     "metadata": {},
     "outputs": [
      {
       "output_type": "stream",
       "stream": "stdout",
       "text": [
        "CAZy_AA11_page0.html      CAZy_GH34_page21000.html  CAZy_GT2_page20000.html\r\n",
        "CAZy_AA12_page0.html      CAZy_GH34_page22000.html  CAZy_GT2_page21000.html\r\n",
        "CAZy_AA13_page0.html      CAZy_GH34_page23000.html  CAZy_GT2_page22000.html\r\n",
        "CAZy_CE10_page0.html      CAZy_GH34_page24000.html  CAZy_GT2_page23000.html\r\n",
        "CAZy_CE11_page0.html      CAZy_GH34_page25000.html  CAZy_GT2_page24000.html\r\n",
        "CAZy_CE11_page1000.html   CAZy_GH34_page26000.html  CAZy_GT2_page25000.html\r\n",
        "CAZy_CE11_page2000.html   CAZy_GH34_page27000.html  CAZy_GT2_page26000.html\r\n",
        "CAZy_CE11_page3000.html   CAZy_GH34_page28000.html  CAZy_GT2_page27000.html\r\n",
        "CAZy_CE12_page0.html      CAZy_GH34_page29000.html  CAZy_GT2_page28000.html\r\n",
        "CAZy_CE13_page0.html      CAZy_GH34_page3000.html   CAZy_GT2_page29000.html\r\n",
        "CAZy_CE14_page0.html      CAZy_GH34_page30000.html  CAZy_GT2_page3000.html\r\n",
        "CAZy_CE14_page1000.html   CAZy_GH34_page31000.html  CAZy_GT2_page30000.html\r\n",
        "CAZy_CE14_page2000.html   CAZy_GH34_page32000.html  CAZy_GT2_page31000.html\r\n",
        "CAZy_CE14_page3000.html   CAZy_GH34_page33000.html  CAZy_GT2_page32000.html\r\n",
        "CAZy_CE15_page0.html      CAZy_GH34_page34000.html  CAZy_GT2_page33000.html\r\n",
        "CAZy_CE16_page0.html      CAZy_GH34_page35000.html  CAZy_GT2_page34000.html\r\n",
        "CAZy_CE1_page0.html       CAZy_GH34_page36000.html  CAZy_GT2_page35000.html\r\n",
        "CAZy_CE1_page1000.html    CAZy_GH34_page37000.html  CAZy_GT2_page36000.html\r\n",
        "CAZy_CE1_page2000.html    CAZy_GH34_page38000.html  CAZy_GT2_page37000.html\r\n",
        "CAZy_CE1_page3000.html    CAZy_GH34_page39000.html  CAZy_GT2_page38000.html\r\n",
        "CAZy_CE1_page4000.html    CAZy_GH34_page4000.html   CAZy_GT2_page39000.html\r\n",
        "CAZy_CE2_page0.html       CAZy_GH34_page40000.html  CAZy_GT2_page4000.html\r\n",
        "CAZy_CE3_page0.html       CAZy_GH34_page41000.html  CAZy_GT2_page40000.html\r\n",
        "CAZy_CE4_page0.html       CAZy_GH34_page42000.html  CAZy_GT2_page41000.html\r\n",
        "CAZy_CE4_page1000.html    CAZy_GH34_page43000.html  CAZy_GT2_page42000.html\r\n",
        "CAZy_CE4_page2000.html    CAZy_GH34_page44000.html  CAZy_GT2_page43000.html\r\n",
        "CAZy_CE4_page3000.html    CAZy_GH34_page45000.html  CAZy_GT2_page44000.html\r\n",
        "CAZy_CE4_page4000.html    CAZy_GH34_page46000.html  CAZy_GT2_page45000.html\r\n",
        "CAZy_CE4_page5000.html    CAZy_GH34_page47000.html  CAZy_GT2_page46000.html\r\n",
        "CAZy_CE4_page6000.html    CAZy_GH34_page48000.html  CAZy_GT2_page47000.html\r\n",
        "CAZy_CE4_page7000.html    CAZy_GH34_page49000.html  CAZy_GT2_page48000.html\r\n",
        "CAZy_CE4_page8000.html    CAZy_GH34_page5000.html   CAZy_GT2_page49000.html\r\n",
        "CAZy_CE4_page9000.html    CAZy_GH34_page50000.html  CAZy_GT2_page5000.html\r\n",
        "CAZy_CE5_page0.html       CAZy_GH34_page6000.html   CAZy_GT2_page50000.html\r\n",
        "CAZy_CE5_page1000.html    CAZy_GH34_page7000.html   CAZy_GT2_page6000.html\r\n",
        "CAZy_CE5_page2000.html    CAZy_GH34_page8000.html   CAZy_GT2_page7000.html\r\n",
        "CAZy_CE6_page0.html       CAZy_GH34_page9000.html   CAZy_GT2_page8000.html\r\n",
        "CAZy_CE7_page0.html       CAZy_GH35_page0.html      CAZy_GT2_page9000.html\r\n",
        "CAZy_CE8_page0.html       CAZy_GH36_page0.html      CAZy_GT30_page0.html\r\n",
        "CAZy_CE8_page1000.html    CAZy_GH36_page1000.html   CAZy_GT30_page1000.html\r\n",
        "CAZy_CE8_page2000.html    CAZy_GH36_page2000.html   CAZy_GT30_page2000.html\r\n",
        "CAZy_CE9_page0.html       CAZy_GH37_page0.html      CAZy_GT30_page3000.html\r\n",
        "CAZy_CE9_page1000.html    CAZy_GH37_page1000.html   CAZy_GT31_page0.html\r\n",
        "CAZy_CE9_page2000.html    CAZy_GH37_page2000.html   CAZy_GT32_page0.html\r\n",
        "CAZy_CE9_page3000.html    CAZy_GH38_page0.html      CAZy_GT32_page1000.html\r\n",
        "CAZy_CE9_page4000.html    CAZy_GH38_page1000.html   CAZy_GT32_page2000.html\r\n",
        "CAZy_GH100_page0.html     CAZy_GH38_page2000.html   CAZy_GT33_page0.html\r\n",
        "CAZy_GH101_page0.html     CAZy_GH39_page0.html      CAZy_GT34_page0.html\r\n",
        "CAZy_GH102_page0.html     CAZy_GH3_page0.html       CAZy_GT35_page0.html\r\n",
        "CAZy_GH102_page1000.html  CAZy_GH3_page1000.html    CAZy_GT35_page1000.html\r\n",
        "CAZy_GH102_page2000.html  CAZy_GH3_page2000.html    CAZy_GT35_page2000.html\r\n",
        "CAZy_GH103_page0.html     CAZy_GH3_page3000.html    CAZy_GT35_page3000.html\r\n",
        "CAZy_GH103_page1000.html  CAZy_GH3_page4000.html    CAZy_GT35_page4000.html\r\n",
        "CAZy_GH103_page2000.html  CAZy_GH3_page5000.html    CAZy_GT36_page0.html\r\n",
        "CAZy_GH103_page3000.html  CAZy_GH3_page6000.html    CAZy_GT37_page0.html\r\n",
        "CAZy_GH104_page0.html     CAZy_GH3_page7000.html    CAZy_GT38_page0.html\r\n",
        "CAZy_GH105_page0.html     CAZy_GH3_page8000.html    CAZy_GT39_page0.html\r\n",
        "CAZy_GH105_page1000.html  CAZy_GH40_page0.html      CAZy_GT3_page0.html\r\n",
        "CAZy_GH105_page2000.html  CAZy_GH41_page0.html      CAZy_GT40_page0.html\r\n",
        "CAZy_GH106_page0.html     CAZy_GH42_page0.html      CAZy_GT41_page0.html\r\n",
        "CAZy_GH107_page0.html     CAZy_GH42_page1000.html   CAZy_GT42_page0.html\r\n",
        "CAZy_GH108_page0.html     CAZy_GH42_page2000.html   CAZy_GT43_page0.html\r\n",
        "CAZy_GH108_page1000.html  CAZy_GH43_page0.html      CAZy_GT44_page0.html\r\n",
        "CAZy_GH108_page2000.html  CAZy_GH43_page1000.html   CAZy_GT45_page0.html\r\n",
        "CAZy_GH109_page0.html     CAZy_GH43_page2000.html   CAZy_GT46_page0.html\r\n",
        "CAZy_GH10_page0.html      CAZy_GH43_page3000.html   CAZy_GT47_page0.html\r\n",
        "CAZy_GH10_page1000.html   CAZy_GH43_page4000.html   CAZy_GT48_page0.html\r\n",
        "CAZy_GH10_page2000.html   CAZy_GH43_page5000.html   CAZy_GT49_page0.html\r\n",
        "CAZy_GH110_page0.html     CAZy_GH44_page0.html      CAZy_GT4_page0.html\r\n",
        "CAZy_GH111_page0.html     CAZy_GH45_page0.html      CAZy_GT4_page1000.html\r\n",
        "CAZy_GH112_page0.html     CAZy_GH46_page0.html      CAZy_GT4_page10000.html\r\n",
        "CAZy_GH113_page0.html     CAZy_GH47_page0.html      CAZy_GT4_page11000.html\r\n",
        "CAZy_GH114_page0.html     CAZy_GH48_page0.html      CAZy_GT4_page12000.html\r\n",
        "CAZy_GH115_page0.html     CAZy_GH49_page0.html      CAZy_GT4_page13000.html\r\n",
        "CAZy_GH116_page0.html     CAZy_GH4_page0.html       CAZy_GT4_page14000.html\r\n",
        "CAZy_GH117_page0.html     CAZy_GH4_page1000.html    CAZy_GT4_page15000.html\r\n",
        "CAZy_GH118_page0.html     CAZy_GH4_page2000.html    CAZy_GT4_page16000.html\r\n",
        "CAZy_GH119_page0.html     CAZy_GH4_page3000.html    CAZy_GT4_page17000.html\r\n",
        "CAZy_GH11_page0.html      CAZy_GH50_page0.html      CAZy_GT4_page18000.html\r\n",
        "CAZy_GH11_page1000.html   CAZy_GH51_page0.html      CAZy_GT4_page19000.html\r\n",
        "CAZy_GH11_page2000.html   CAZy_GH51_page1000.html   CAZy_GT4_page2000.html\r\n",
        "CAZy_GH120_page0.html     CAZy_GH51_page2000.html   CAZy_GT4_page20000.html\r\n",
        "CAZy_GH121_page0.html     CAZy_GH52_page0.html      CAZy_GT4_page21000.html\r\n",
        "CAZy_GH122_page0.html     CAZy_GH53_page0.html      CAZy_GT4_page22000.html\r\n",
        "CAZy_GH123_page0.html     CAZy_GH54_page0.html      CAZy_GT4_page23000.html\r\n",
        "CAZy_GH124_page0.html     CAZy_GH55_page0.html      CAZy_GT4_page24000.html\r\n",
        "CAZy_GH125_page0.html     CAZy_GH56_page0.html      CAZy_GT4_page25000.html\r\n",
        "CAZy_GH126_page0.html     CAZy_GH57_page0.html      CAZy_GT4_page26000.html\r\n",
        "CAZy_GH127_page0.html     CAZy_GH57_page1000.html   CAZy_GT4_page27000.html\r\n",
        "CAZy_GH128_page0.html     CAZy_GH57_page2000.html   CAZy_GT4_page28000.html\r\n",
        "CAZy_GH129_page0.html     CAZy_GH58_page0.html      CAZy_GT4_page29000.html\r\n",
        "CAZy_GH12_page0.html      CAZy_GH59_page0.html      CAZy_GT4_page3000.html\r\n",
        "CAZy_GH130_page0.html     CAZy_GH5_page0.html       CAZy_GT4_page30000.html\r\n",
        "CAZy_GH131_page0.html     CAZy_GH5_page1000.html    CAZy_GT4_page31000.html\r\n",
        "CAZy_GH132_page0.html     CAZy_GH5_page2000.html    CAZy_GT4_page32000.html\r\n",
        "CAZy_GH133_page0.html     CAZy_GH5_page3000.html    CAZy_GT4_page33000.html\r\n",
        "CAZy_GH13_page0.html      CAZy_GH5_page4000.html    CAZy_GT4_page34000.html\r\n",
        "CAZy_GH13_page1000.html   CAZy_GH5_page5000.html    CAZy_GT4_page35000.html\r\n",
        "CAZy_GH13_page10000.html  CAZy_GH5_page6000.html    CAZy_GT4_page36000.html\r\n",
        "CAZy_GH13_page11000.html  CAZy_GH60_page0.html      CAZy_GT4_page37000.html\r\n",
        "CAZy_GH13_page12000.html  CAZy_GH61_page0.html      CAZy_GT4_page38000.html\r\n",
        "CAZy_GH13_page13000.html  CAZy_GH62_page0.html      CAZy_GT4_page39000.html\r\n",
        "CAZy_GH13_page14000.html  CAZy_GH63_page0.html      CAZy_GT4_page4000.html\r\n",
        "CAZy_GH13_page15000.html  CAZy_GH64_page0.html      CAZy_GT4_page40000.html\r\n",
        "CAZy_GH13_page16000.html  CAZy_GH65_page0.html      CAZy_GT4_page5000.html\r\n",
        "CAZy_GH13_page17000.html  CAZy_GH65_page1000.html   CAZy_GT4_page6000.html\r\n",
        "CAZy_GH13_page18000.html  CAZy_GH65_page2000.html   CAZy_GT4_page7000.html\r\n",
        "CAZy_GH13_page19000.html  CAZy_GH66_page0.html      CAZy_GT4_page8000.html\r\n",
        "CAZy_GH13_page2000.html   CAZy_GH67_page0.html      CAZy_GT4_page9000.html\r\n",
        "CAZy_GH13_page20000.html  CAZy_GH68_page0.html      CAZy_GT50_page0.html\r\n",
        "CAZy_GH13_page21000.html  CAZy_GH69_page0.html      CAZy_GT51_page0.html\r\n",
        "CAZy_GH13_page22000.html  CAZy_GH6_page0.html       CAZy_GT51_page1000.html\r\n",
        "CAZy_GH13_page23000.html  CAZy_GH70_page0.html      CAZy_GT51_page10000.html\r\n",
        "CAZy_GH13_page24000.html  CAZy_GH71_page0.html      CAZy_GT51_page11000.html\r\n",
        "CAZy_GH13_page3000.html   CAZy_GH72_page0.html      CAZy_GT51_page12000.html\r\n",
        "CAZy_GH13_page4000.html   CAZy_GH73_page0.html      CAZy_GT51_page2000.html\r\n",
        "CAZy_GH13_page5000.html   CAZy_GH73_page1000.html   CAZy_GT51_page3000.html\r\n",
        "CAZy_GH13_page6000.html   CAZy_GH73_page2000.html   CAZy_GT51_page4000.html\r\n",
        "CAZy_GH13_page7000.html   CAZy_GH73_page3000.html   CAZy_GT51_page5000.html\r\n",
        "CAZy_GH13_page8000.html   CAZy_GH73_page4000.html   CAZy_GT51_page6000.html\r\n",
        "CAZy_GH13_page9000.html   CAZy_GH73_page5000.html   CAZy_GT51_page7000.html\r\n",
        "CAZy_GH14_page0.html      CAZy_GH74_page0.html      CAZy_GT51_page8000.html\r\n",
        "CAZy_GH15_page0.html      CAZy_GH75_page0.html      CAZy_GT51_page9000.html\r\n",
        "CAZy_GH15_page1000.html   CAZy_GH76_page0.html      CAZy_GT52_page0.html\r\n",
        "CAZy_GH15_page2000.html   CAZy_GH77_page0.html      CAZy_GT53_page0.html\r\n",
        "CAZy_GH16_page0.html      CAZy_GH77_page1000.html   CAZy_GT54_page0.html\r\n",
        "CAZy_GH16_page1000.html   CAZy_GH77_page2000.html   CAZy_GT55_page0.html\r\n",
        "CAZy_GH16_page2000.html   CAZy_GH77_page3000.html   CAZy_GT56_page0.html\r\n",
        "CAZy_GH16_page3000.html   CAZy_GH78_page0.html      CAZy_GT57_page0.html\r\n",
        "CAZy_GH16_page4000.html   CAZy_GH79_page0.html      CAZy_GT58_page0.html\r\n",
        "CAZy_GH17_page0.html      CAZy_GH7_page0.html       CAZy_GT59_page0.html\r\n",
        "CAZy_GH17_page1000.html   CAZy_GH7_page1000.html    CAZy_GT5_page0.html\r\n",
        "CAZy_GH17_page2000.html   CAZy_GH7_page2000.html    CAZy_GT5_page1000.html\r\n",
        "CAZy_GH18_page0.html      CAZy_GH7_page3000.html    CAZy_GT5_page2000.html\r\n",
        "CAZy_GH18_page1000.html   CAZy_GH7_page4000.html    CAZy_GT5_page3000.html\r\n",
        "CAZy_GH18_page2000.html   CAZy_GH7_page5000.html    CAZy_GT5_page4000.html\r\n",
        "CAZy_GH18_page3000.html   CAZy_GH7_page6000.html    CAZy_GT5_page5000.html\r\n",
        "CAZy_GH18_page4000.html   CAZy_GH80_page0.html      CAZy_GT5_page6000.html\r\n",
        "CAZy_GH18_page5000.html   CAZy_GH81_page0.html      CAZy_GT5_page7000.html\r\n",
        "CAZy_GH18_page6000.html   CAZy_GH82_page0.html      CAZy_GT60_page0.html\r\n",
        "CAZy_GH18_page7000.html   CAZy_GH83_page0.html      CAZy_GT61_page0.html\r\n",
        "CAZy_GH18_page8000.html   CAZy_GH83_page1000.html   CAZy_GT61_page1000.html\r\n",
        "CAZy_GH19_page0.html      CAZy_GH83_page2000.html   CAZy_GT61_page2000.html\r\n",
        "CAZy_GH19_page1000.html   CAZy_GH84_page0.html      CAZy_GT61_page3000.html\r\n",
        "CAZy_GH19_page2000.html   CAZy_GH85_page0.html      CAZy_GT62_page0.html\r\n",
        "CAZy_GH19_page3000.html   CAZy_GH86_page0.html      CAZy_GT63_page0.html\r\n",
        "CAZy_GH1_page0.html       CAZy_GH87_page0.html      CAZy_GT64_page0.html\r\n",
        "CAZy_GH1_page1000.html    CAZy_GH88_page0.html      CAZy_GT65_page0.html\r\n",
        "CAZy_GH1_page2000.html    CAZy_GH89_page0.html      CAZy_GT66_page0.html\r\n",
        "CAZy_GH1_page3000.html    CAZy_GH8_page0.html       CAZy_GT67_page0.html\r\n",
        "CAZy_GH1_page4000.html    CAZy_GH8_page1000.html    CAZy_GT68_page0.html\r\n",
        "CAZy_GH1_page5000.html    CAZy_GH8_page2000.html    CAZy_GT69_page0.html\r\n",
        "CAZy_GH1_page6000.html    CAZy_GH90_page0.html      CAZy_GT69_page1000.html\r\n",
        "CAZy_GH1_page7000.html    CAZy_GH91_page0.html      CAZy_GT69_page2000.html\r\n",
        "CAZy_GH1_page8000.html    CAZy_GH92_page0.html      CAZy_GT6_page0.html\r\n",
        "CAZy_GH20_page0.html      CAZy_GH92_page1000.html   CAZy_GT70_page0.html\r\n",
        "CAZy_GH20_page1000.html   CAZy_GH92_page2000.html   CAZy_GT71_page0.html\r\n",
        "CAZy_GH20_page2000.html   CAZy_GH93_page0.html      CAZy_GT72_page0.html\r\n",
        "CAZy_GH21_page0.html      CAZy_GH94_page0.html      CAZy_GT73_page0.html\r\n",
        "CAZy_GH22_page0.html      CAZy_GH95_page0.html      CAZy_GT74_page0.html\r\n",
        "CAZy_GH23_page0.html      CAZy_GH96_page0.html      CAZy_GT75_page0.html\r\n",
        "CAZy_GH23_page1000.html   CAZy_GH97_page0.html      CAZy_GT76_page0.html\r\n",
        "CAZy_GH23_page10000.html  CAZy_GH98_page0.html      CAZy_GT77_page0.html\r\n",
        "CAZy_GH23_page11000.html  CAZy_GH99_page0.html      CAZy_GT78_page0.html\r\n",
        "CAZy_GH23_page12000.html  CAZy_GH9_page0.html       CAZy_GT79_page0.html\r\n",
        "CAZy_GH23_page13000.html  CAZy_GH9_page1000.html    CAZy_GT7_page0.html\r\n",
        "CAZy_GH23_page14000.html  CAZy_GH9_page2000.html    CAZy_GT80_page0.html\r\n",
        "CAZy_GH23_page15000.html  CAZy_GT10_page0.html      CAZy_GT81_page0.html\r\n",
        "CAZy_GH23_page16000.html  CAZy_GT11_page0.html      CAZy_GT82_page0.html\r\n",
        "CAZy_GH23_page17000.html  CAZy_GT12_page0.html      CAZy_GT83_page0.html\r\n",
        "CAZy_GH23_page2000.html   CAZy_GT13_page0.html      CAZy_GT83_page1000.html\r\n",
        "CAZy_GH23_page3000.html   CAZy_GT14_page0.html      CAZy_GT83_page2000.html\r\n",
        "CAZy_GH23_page4000.html   CAZy_GT15_page0.html      CAZy_GT83_page3000.html\r\n",
        "CAZy_GH23_page5000.html   CAZy_GT16_page0.html      CAZy_GT84_page0.html\r\n",
        "CAZy_GH23_page6000.html   CAZy_GT17_page0.html      CAZy_GT85_page0.html\r\n",
        "CAZy_GH23_page7000.html   CAZy_GT18_page0.html      CAZy_GT86_page0.html\r\n",
        "CAZy_GH23_page8000.html   CAZy_GT19_page0.html      CAZy_GT87_page0.html\r\n",
        "CAZy_GH23_page9000.html   CAZy_GT19_page1000.html   CAZy_GT88_page0.html\r\n",
        "CAZy_GH24_page0.html      CAZy_GT19_page2000.html   CAZy_GT89_page0.html\r\n",
        "CAZy_GH24_page1000.html   CAZy_GT19_page3000.html   CAZy_GT8_page0.html\r\n",
        "CAZy_GH24_page2000.html   CAZy_GT1_page0.html       CAZy_GT8_page1000.html\r\n",
        "CAZy_GH24_page3000.html   CAZy_GT1_page1000.html    CAZy_GT8_page2000.html\r\n",
        "CAZy_GH25_page0.html      CAZy_GT1_page2000.html    CAZy_GT8_page3000.html\r\n",
        "CAZy_GH25_page1000.html   CAZy_GT1_page3000.html    CAZy_GT8_page4000.html\r\n",
        "CAZy_GH25_page2000.html   CAZy_GT1_page4000.html    CAZy_GT90_page0.html\r\n",
        "CAZy_GH25_page3000.html   CAZy_GT1_page5000.html    CAZy_GT91_page0.html\r\n",
        "CAZy_GH26_page0.html      CAZy_GT1_page6000.html    CAZy_GT92_page0.html\r\n",
        "CAZy_GH27_page0.html      CAZy_GT1_page7000.html    CAZy_GT93_page0.html\r\n",
        "CAZy_GH28_page0.html      CAZy_GT1_page8000.html    CAZy_GT94_page0.html\r\n",
        "CAZy_GH28_page1000.html   CAZy_GT1_page9000.html    CAZy_GT95_page0.html\r\n",
        "CAZy_GH28_page2000.html   CAZy_GT20_page0.html      CAZy_GT96_page0.html\r\n",
        "CAZy_GH28_page3000.html   CAZy_GT20_page1000.html   CAZy_GT97_page0.html\r\n",
        "CAZy_GH29_page0.html      CAZy_GT20_page2000.html   CAZy_GT9_page0.html\r\n",
        "CAZy_GH2_page0.html       CAZy_GT20_page3000.html   CAZy_GT9_page1000.html\r\n",
        "CAZy_GH2_page1000.html    CAZy_GT21_page0.html      CAZy_GT9_page2000.html\r\n",
        "CAZy_GH2_page2000.html    CAZy_GT22_page0.html      CAZy_GT9_page3000.html\r\n",
        "CAZy_GH2_page3000.html    CAZy_GT23_page0.html      CAZy_GT9_page4000.html\r\n",
        "CAZy_GH2_page4000.html    CAZy_GT24_page0.html      CAZy_GT9_page5000.html\r\n",
        "CAZy_GH2_page5000.html    CAZy_GT25_page0.html      CAZy_GT9_page6000.html\r\n",
        "CAZy_GH30_page0.html      CAZy_GT25_page1000.html   CAZy_GT9_page7000.html\r\n",
        "CAZy_GH31_page0.html      CAZy_GT25_page2000.html   CAZy_PL10_page0.html\r\n",
        "CAZy_GH31_page1000.html   CAZy_GT26_page0.html      CAZy_PL11_page0.html\r\n",
        "CAZy_GH31_page2000.html   CAZy_GT26_page1000.html   CAZy_PL12_page0.html\r\n",
        "CAZy_GH31_page3000.html   CAZy_GT26_page2000.html   CAZy_PL13_page0.html\r\n",
        "CAZy_GH31_page4000.html   CAZy_GT26_page3000.html   CAZy_PL14_page0.html\r\n",
        "CAZy_GH32_page0.html      CAZy_GT27_page0.html      CAZy_PL15_page0.html\r\n",
        "CAZy_GH32_page1000.html   CAZy_GT28_page0.html      CAZy_PL16_page0.html\r\n",
        "CAZy_GH32_page2000.html   CAZy_GT28_page1000.html   CAZy_PL17_page0.html\r\n",
        "CAZy_GH32_page3000.html   CAZy_GT28_page2000.html   CAZy_PL18_page0.html\r\n",
        "CAZy_GH32_page4000.html   CAZy_GT28_page3000.html   CAZy_PL19_page0.html\r\n",
        "CAZy_GH33_page0.html      CAZy_GT28_page4000.html   CAZy_PL1_page0.html\r\n",
        "CAZy_GH33_page1000.html   CAZy_GT28_page5000.html   CAZy_PL1_page1000.html\r\n",
        "CAZy_GH33_page2000.html   CAZy_GT28_page6000.html   CAZy_PL1_page2000.html\r\n",
        "CAZy_GH34_page0.html      CAZy_GT29_page0.html      CAZy_PL20_page0.html\r\n",
        "CAZy_GH34_page1000.html   CAZy_GT2_page0.html       CAZy_PL21_page0.html\r\n",
        "CAZy_GH34_page10000.html  CAZy_GT2_page1000.html    CAZy_PL22_page0.html\r\n",
        "CAZy_GH34_page11000.html  CAZy_GT2_page10000.html   CAZy_PL23_page0.html\r\n",
        "CAZy_GH34_page12000.html  CAZy_GT2_page11000.html   CAZy_PL2_page0.html\r\n",
        "CAZy_GH34_page13000.html  CAZy_GT2_page12000.html   CAZy_PL3_page0.html\r\n",
        "CAZy_GH34_page14000.html  CAZy_GT2_page13000.html   CAZy_PL4_page0.html\r\n",
        "CAZy_GH34_page15000.html  CAZy_GT2_page14000.html   CAZy_PL5_page0.html\r\n",
        "CAZy_GH34_page16000.html  CAZy_GT2_page15000.html   CAZy_PL6_page0.html\r\n",
        "CAZy_GH34_page17000.html  CAZy_GT2_page16000.html   CAZy_PL7_page0.html\r\n",
        "CAZy_GH34_page18000.html  CAZy_GT2_page17000.html   CAZy_PL8_page0.html\r\n",
        "CAZy_GH34_page19000.html  CAZy_GT2_page18000.html   CAZy_PL9_page0.html\r\n",
        "CAZy_GH34_page2000.html   CAZy_GT2_page19000.html\r\n",
        "CAZy_GH34_page20000.html  CAZy_GT2_page2000.html\r\n"
       ]
      }
     ],
     "prompt_number": 113
    },
    {
     "cell_type": "code",
     "collapsed": false,
     "input": [
      "!python load_cazy_db.py -i *html --db CAZy2.db\n",
      "# Running script where I modified the name of the database file to match the one we defined above.\n",
      "# We are running this script for each of the html files we just downloaded, and extracting the relevant bits."
     ],
     "language": "python",
     "metadata": {},
     "outputs": [
      {
       "output_type": "stream",
       "stream": "stdout",
       "text": [
        "Loading: CAZy_AA11_page0.html\r\n"
       ]
      },
      {
       "output_type": "stream",
       "stream": "stdout",
       "text": [
        "Loading: CAZy_AA12_page0.html\r\n"
       ]
      },
      {
       "output_type": "stream",
       "stream": "stdout",
       "text": [
        "Loading: CAZy_AA13_page0.html\r\n"
       ]
      },
      {
       "output_type": "stream",
       "stream": "stdout",
       "text": [
        "Loading: CAZy_CE10_page0.html\r\n",
        "Loading: CAZy_CE11_page0.html\r\n"
       ]
      },
      {
       "output_type": "stream",
       "stream": "stdout",
       "text": [
        "Loading: CAZy_CE11_page1000.html\r\n"
       ]
      },
      {
       "output_type": "stream",
       "stream": "stdout",
       "text": [
        "Loading: CAZy_CE11_page2000.html\r\n"
       ]
      },
      {
       "output_type": "stream",
       "stream": "stdout",
       "text": [
        "Loading: CAZy_CE11_page3000.html\r\n"
       ]
      },
      {
       "output_type": "stream",
       "stream": "stdout",
       "text": [
        "Loading: CAZy_CE12_page0.html\r\n"
       ]
      },
      {
       "output_type": "stream",
       "stream": "stdout",
       "text": [
        "Loading: CAZy_CE13_page0.html\r\n"
       ]
      },
      {
       "output_type": "stream",
       "stream": "stdout",
       "text": [
        "Loading: CAZy_CE14_page0.html\r\n"
       ]
      },
      {
       "output_type": "stream",
       "stream": "stdout",
       "text": [
        "Loading: CAZy_CE14_page1000.html\r\n"
       ]
      },
      {
       "output_type": "stream",
       "stream": "stdout",
       "text": [
        "Loading: CAZy_CE14_page2000.html\r\n"
       ]
      },
      {
       "output_type": "stream",
       "stream": "stdout",
       "text": [
        "Loading: CAZy_CE14_page3000.html\r\n"
       ]
      },
      {
       "output_type": "stream",
       "stream": "stdout",
       "text": [
        "Loading: CAZy_CE15_page0.html\r\n"
       ]
      },
      {
       "output_type": "stream",
       "stream": "stdout",
       "text": [
        "Loading: CAZy_CE16_page0.html\r\n"
       ]
      },
      {
       "output_type": "stream",
       "stream": "stdout",
       "text": [
        "Loading: CAZy_CE1_page0.html\r\n"
       ]
      },
      {
       "output_type": "stream",
       "stream": "stdout",
       "text": [
        "Loading: CAZy_CE1_page1000.html\r\n"
       ]
      },
      {
       "output_type": "stream",
       "stream": "stdout",
       "text": [
        "Loading: CAZy_CE1_page2000.html\r\n"
       ]
      },
      {
       "output_type": "stream",
       "stream": "stdout",
       "text": [
        "Loading: CAZy_CE1_page3000.html\r\n"
       ]
      },
      {
       "output_type": "stream",
       "stream": "stdout",
       "text": [
        "Loading: CAZy_CE1_page4000.html\r\n"
       ]
      },
      {
       "output_type": "stream",
       "stream": "stdout",
       "text": [
        "Loading: CAZy_CE2_page0.html\r\n"
       ]
      },
      {
       "output_type": "stream",
       "stream": "stdout",
       "text": [
        "Loading: CAZy_CE3_page0.html\r\n"
       ]
      },
      {
       "output_type": "stream",
       "stream": "stdout",
       "text": [
        "Loading: CAZy_CE4_page0.html\r\n"
       ]
      },
      {
       "output_type": "stream",
       "stream": "stdout",
       "text": [
        "Loading: CAZy_CE4_page1000.html\r\n"
       ]
      },
      {
       "output_type": "stream",
       "stream": "stdout",
       "text": [
        "Loading: CAZy_CE4_page2000.html\r\n"
       ]
      },
      {
       "output_type": "stream",
       "stream": "stdout",
       "text": [
        "Loading: CAZy_CE4_page3000.html\r\n"
       ]
      },
      {
       "output_type": "stream",
       "stream": "stdout",
       "text": [
        "Loading: CAZy_CE4_page4000.html\r\n"
       ]
      },
      {
       "output_type": "stream",
       "stream": "stdout",
       "text": [
        "Loading: CAZy_CE4_page5000.html\r\n"
       ]
      },
      {
       "output_type": "stream",
       "stream": "stdout",
       "text": [
        "Loading: CAZy_CE4_page6000.html\r\n"
       ]
      },
      {
       "output_type": "stream",
       "stream": "stdout",
       "text": [
        "Loading: CAZy_CE4_page7000.html\r\n"
       ]
      },
      {
       "output_type": "stream",
       "stream": "stdout",
       "text": [
        "Loading: CAZy_CE4_page8000.html\r\n"
       ]
      },
      {
       "output_type": "stream",
       "stream": "stdout",
       "text": [
        "Loading: CAZy_CE4_page9000.html\r\n"
       ]
      },
      {
       "output_type": "stream",
       "stream": "stdout",
       "text": [
        "Loading: CAZy_CE5_page0.html\r\n"
       ]
      },
      {
       "output_type": "stream",
       "stream": "stdout",
       "text": [
        "Loading: CAZy_CE5_page1000.html\r\n"
       ]
      },
      {
       "output_type": "stream",
       "stream": "stdout",
       "text": [
        "Loading: CAZy_CE5_page2000.html\r\n"
       ]
      },
      {
       "output_type": "stream",
       "stream": "stdout",
       "text": [
        "Loading: CAZy_CE6_page0.html\r\n"
       ]
      },
      {
       "output_type": "stream",
       "stream": "stdout",
       "text": [
        "Loading: CAZy_CE7_page0.html\r\n"
       ]
      },
      {
       "output_type": "stream",
       "stream": "stdout",
       "text": [
        "Loading: CAZy_CE8_page0.html\r\n"
       ]
      },
      {
       "output_type": "stream",
       "stream": "stdout",
       "text": [
        "Loading: CAZy_CE8_page1000.html\r\n"
       ]
      },
      {
       "output_type": "stream",
       "stream": "stdout",
       "text": [
        "Loading: CAZy_CE8_page2000.html\r\n"
       ]
      },
      {
       "output_type": "stream",
       "stream": "stdout",
       "text": [
        "Loading: CAZy_CE9_page0.html\r\n"
       ]
      },
      {
       "output_type": "stream",
       "stream": "stdout",
       "text": [
        "Loading: CAZy_CE9_page1000.html\r\n"
       ]
      },
      {
       "output_type": "stream",
       "stream": "stdout",
       "text": [
        "Loading: CAZy_CE9_page2000.html\r\n"
       ]
      },
      {
       "output_type": "stream",
       "stream": "stdout",
       "text": [
        "Loading: CAZy_CE9_page3000.html\r\n"
       ]
      },
      {
       "output_type": "stream",
       "stream": "stdout",
       "text": [
        "Loading: CAZy_CE9_page4000.html\r\n"
       ]
      },
      {
       "output_type": "stream",
       "stream": "stdout",
       "text": [
        "Loading: CAZy_PL10_page0.html\r\n"
       ]
      },
      {
       "output_type": "stream",
       "stream": "stdout",
       "text": [
        "Loading: CAZy_PL11_page0.html\r\n"
       ]
      },
      {
       "output_type": "stream",
       "stream": "stdout",
       "text": [
        "Loading: CAZy_PL12_page0.html\r\n"
       ]
      },
      {
       "output_type": "stream",
       "stream": "stdout",
       "text": [
        "Loading: CAZy_PL13_page0.html\r\n"
       ]
      },
      {
       "output_type": "stream",
       "stream": "stdout",
       "text": [
        "Loading: CAZy_PL14_page0.html\r\n"
       ]
      },
      {
       "output_type": "stream",
       "stream": "stdout",
       "text": [
        "Loading: CAZy_PL15_page0.html\r\n"
       ]
      },
      {
       "output_type": "stream",
       "stream": "stdout",
       "text": [
        "Loading: CAZy_PL16_page0.html\r\n"
       ]
      },
      {
       "output_type": "stream",
       "stream": "stdout",
       "text": [
        "Loading: CAZy_PL17_page0.html\r\n"
       ]
      },
      {
       "output_type": "stream",
       "stream": "stdout",
       "text": [
        "Loading: CAZy_PL18_page0.html\r\n"
       ]
      },
      {
       "output_type": "stream",
       "stream": "stdout",
       "text": [
        "Loading: CAZy_PL19_page0.html\r\n"
       ]
      },
      {
       "output_type": "stream",
       "stream": "stdout",
       "text": [
        "Loading: CAZy_PL1_page0.html\r\n"
       ]
      },
      {
       "output_type": "stream",
       "stream": "stdout",
       "text": [
        "Loading: CAZy_PL1_page1000.html\r\n"
       ]
      },
      {
       "output_type": "stream",
       "stream": "stdout",
       "text": [
        "Loading: CAZy_PL1_page2000.html\r\n"
       ]
      },
      {
       "output_type": "stream",
       "stream": "stdout",
       "text": [
        "Loading: CAZy_PL20_page0.html\r\n"
       ]
      },
      {
       "output_type": "stream",
       "stream": "stdout",
       "text": [
        "Loading: CAZy_PL21_page0.html\r\n"
       ]
      },
      {
       "output_type": "stream",
       "stream": "stdout",
       "text": [
        "Loading: CAZy_PL22_page0.html\r\n"
       ]
      },
      {
       "output_type": "stream",
       "stream": "stdout",
       "text": [
        "Loading: CAZy_PL23_page0.html\r\n"
       ]
      },
      {
       "output_type": "stream",
       "stream": "stdout",
       "text": [
        "Loading: CAZy_PL2_page0.html\r\n"
       ]
      },
      {
       "output_type": "stream",
       "stream": "stdout",
       "text": [
        "Loading: CAZy_PL3_page0.html\r\n"
       ]
      },
      {
       "output_type": "stream",
       "stream": "stdout",
       "text": [
        "Loading: CAZy_PL4_page0.html\r\n"
       ]
      },
      {
       "output_type": "stream",
       "stream": "stdout",
       "text": [
        "Loading: CAZy_PL5_page0.html\r\n"
       ]
      },
      {
       "output_type": "stream",
       "stream": "stdout",
       "text": [
        "Loading: CAZy_PL6_page0.html\r\n"
       ]
      },
      {
       "output_type": "stream",
       "stream": "stdout",
       "text": [
        "Loading: CAZy_PL7_page0.html\r\n"
       ]
      },
      {
       "output_type": "stream",
       "stream": "stdout",
       "text": [
        "Loading: CAZy_PL8_page0.html\r\n"
       ]
      },
      {
       "output_type": "stream",
       "stream": "stdout",
       "text": [
        "Loading: CAZy_PL9_page0.html\r\n"
       ]
      }
     ],
     "prompt_number": 118
    },
    {
     "cell_type": "code",
     "collapsed": false,
     "input": [
      "! python fastareader.py\n",
      "# Creaters various classes of NCBI-accessing objects, using their script."
     ],
     "language": "python",
     "metadata": {},
     "outputs": [],
     "prompt_number": 115
    },
    {
     "cell_type": "code",
     "collapsed": false,
     "input": [
      "!python refseq_seqs_from_db.py --db CAZy2.db -t CAZY_2015_03_11 -o CAZyOutputPL_CE_AA11_AA13.fa\n",
      "# Extracts fasta sequences from the CAZy database we created from NCBI and stores them all in a file.\n",
      "# Overwrites any previously existing text, so be sure to provide a new filen"
     ],
     "language": "python",
     "metadata": {},
     "outputs": [
      {
       "output_type": "stream",
       "stream": "stdout",
       "text": [
        "http://eutils.ncbi.nlm.nih.gov/entrez/eutils/efetch.fcgi?db=protein&id=AIA15627.1,CBF74037.1,CBF89147.1,CAK40369.1,CAK42338.1,CAK45829.1,BAE61530.1,BAE62598.1,XP_001827392.2,BAE59063.1,BAE66259.1,CCD52974.1,CCD54857.1,ADK37848.1,CCT75452.1,CCT62801.1,CCT69101.1,CCT67099.1,CEF86154.1,CEF78718.1,CEF72610.1,CEF74713.1,CBX92880.1,CBX94475.1,CBX93554.1,EHA52406.1,EHA51197.1,EHA52778.1,EHA52554.1,EHA57166.1,EHA53425.1,XP_003708917.1,AEO56313.1,AEO55680.1,AEO61991.1,AEO53721.1,EAA28891.1,EAA34256.1,EAA35129.1,EAA31701.1,CAP79499.1,CAP79288.1,CAP79267.1,CAP99959.1,CAP86617.1,CAP96550.1,CAP79436.1,CAP96976.1,CAP86936.1,CAP73493.1,CAP70884.1,CAP73406.1,CAP67048.1,CAP60218.1,CDR36663.1,CDR47410.1,AEO63862.1,AEO71776.1,AEO62747.1,AEO63051.1,AEO70619.1,BAP91034.1,EAU83856.1,CCT64621.1,CEF82837.1,CEF78754.1,ESU15820.1,EJT78573.1,CBX95260.1,CBX92031.1,CBX92733.1,EHA48884.1,EHA51243.1,EHA52621.1,EHA52355.1,XP_003712162.1,AEO58955.1,AEO55799.1,AEO59868.1,EAA28613.2,EAA30888.1,EAA28445.2,EAA28445.3,EAA28613.3,CCA70091.1,CAP67040.1,CAP66770.1,CDP24917.1,CAP61017.1,EIN09066.1,AEO64217.1,EGR46829.1,EAA62623.1,EAA58078.1,XP_001823115.2,CCD56877.1,CCT72014.1,CEF86045.1,CBX99030.1,XP_365988.1,AEO62162.1,EAA34371.2,CAP92263.1,CAP86689.1,CAP61339.1,ABW25636.1,CCT58918.1,BAI00031.1,BAI18252.1,BAI03084.1,BAI06129.1,BAI21303.1,BAI09179.1,BAI12227.1,BAI15273.1,ADL13679.1,ADP14145.1,AIR49973.1,AHC45288.1,CCH05310.1,ADB48045.1,AEQ22979.1,ABQ29776.1,BAJ79973.1,AIA56337.1,AEK59293.1,AEM48880.1,ACK80426.1,ACH82653.1,ACO32681.1,ADW70715.1,ADX44681.1,ABM31425.1,ACM34406.1,ABM43774.1,AFU44480.1,CAM85140.1,CAP02729.1,ADX05213.1,AJB65457.1,AJB46729.1,AJF83452.1,ACJ43132.1,ACJ43133.1,AIL79621.1,AIL73887.1,ACJ57401.1,AIS08194.1,AHX27998.1,AIA51613.1,AHX63795.1,ACC58837.1,ABO13719.2,AGQ15990.1,AGQ08357.1,AGQ12124.1,AGH37108.1,BAP64986.1,AIY35522.1,AFI93820.1,AEP08180.1,BAN86134.1,AHJ95124.1,ADX94153.1,AFU36164.1,AHB89878.1,ADY83383.1,BAP35108.1,ADI89050.1,CAG70156.1,AIZ79592.1,ABY68631.1,ABN73132.1,ACE60676.1,ABR75274.1,AIJ31690.1,AFU19552.1,AFK63573.1,AHG63081.1,AFL82102.1,AHE51181.1,AJQ56246.1,AHX34483.1,AJE34777.1,AGM45870.1,AHX71283.1,ABK36113.1,AHV37666.1,AHX59355.1,ABO88583.1,AEB48385.1,AEW77102.1,ACX82189.1,AFI87239.1,AHN71321.1,ACS96662.1,AAL43076.1,ACM27039.1,ADY65000.1,AHK01912.1,ACM37076.1,ACD05731.1,CAL16052.1,AFT71749.1,AJD47391.1,BAP13472.1,ADV01409.1,AEB86365.1,CAQ80323.1,CED70496.1,AFL76499.1,CBK62802.1,ABI57528.1,ADC61109.1,AFS46975.1,AFS48223.1,AJP44755.1,AIF99780.1,AFV86510.1,AFS38336.1,AGP82799.1,AFT96399.1,AFT79371.1,AEA99158.2,AGP78880.1,AFT75579.1,AGP86659.1,AGP90780.1,AGP94617.1,AGQ02739.1,AGP98521.1,AEF02001.1,ADE57621.1,AFZ59338.1,AFW96834.1,ABA19721.1,AFM20969.1,ACL64364.1,ABC80730.1,ABS25210.1,ACG72251.1,AAC07605.1,AGR78222.1,BAK71563.1,ABV68256.1,ADG92141.1,BAK74430.1,CAI06909.1,CBA74798.1,BAI92614.1,CDM96822.1,ADU13337.1,CAL93507.1,BAL26004.1,BAF90563.1,AIB10957.1,CCC99040.1,CBS87368.1,BAI72727.1,AJE22348.1,AGK13199.1,AGK18229.1,ACO77558.1,BAM50720.1,CBW28081.1,AGX07773.1,AII64624.1,AII66294.1,CBW21457.1,CAH06571.1,BAD47657.1,ADV43390.1,ADY37911.1,AAO79311.1,ABR37828.1,CBK68310.1,AHF11656.1,AGF74709.1,ABM45599.1,CBI76672.1,ACS51596.1,CDO40448.1,CDO47154.1,CAF27902.1,AFR26551.1,CAF26358.1,CBI78108.1,CDP80365.1,CBI82474.1,CBI81144.1,CBI79630.1,CDO49178.1,CAK01923.1,AGF76058.1,AIL32326.1,AHZ84994.1,CAE80287.1,AFY02108.1,AHI06333.1,AGH95185.1,AFL86206.1,AGG32747.1,AHG82359.1,AHG84675.1,AHG85825.1,AGH37841.1,AFJ91013.1,AGD97952.1,ACY40072.1,AEU09106.1,AER40849.1,AGW85821.1,ACX84197.1,CCA81481.1,CAJ50483.1,CCJ56137.1,CCJ60630.1,CAE34556.1,BAO70695.1,AIT26818.1,AHV93300.1,CAE39029.1,CCJ48271.1,AJB26952.1,CCJ64564.1,AIW91312.1,AEE68213.1,CAE43288.1,CAP41035.1,ACN83743.1,AEM21218.1,ADG71028.1,ADK30641.1,AFR70078.1,AGA67532.1,CCG57404.1,NP_773235.1,AJA61342.1,AHY53709.1,BAL08110.1,BAM87971.1,ABQ38089.1,CAL79322.1,BAL74942.1,ADL01992.1,CAJ11399.1,AIK04492.1,AIJ81369.1,AEW17419.1,AIJ53225.1,AIJ54890.1,AIJ76687.1,AAX74749.1,AIJ93341.1,AIJ64921.1,AIJ61483.1,AIJ56972.1,ACD72844.1,AIN90834.1,ABX62488.1,AEW14826.1,AIJ81924.1,CDL76810.1,AHZ81632.1,AHA99155.1,AHB01724.1,ACO01185.1,NP_539503.1,AIJ96490.1,AIJ86105.1,ADZ66512.1,ADZ87368.1,AEQ08996.1,ACU48402.1,ABQ60855.1,AIJ73322.1,AEK54729.1,AAN30337.1,AIJ67583.1,ABY38513.1,AIJ99535.1,AHN47039.1,AIB28290.1,AIB31656.1,AIB18155.1,AIB21541.1,AIB24895.1,AIJ70279.1,AJM85198.1,AEU06421.1,AIN84609.1,AIN87650.1,ABI86029.1,ACB62992.1,ABF74999.1,ABF75212.1,AIO32969.1,AIO41072.1,CDN59160.1,CDN58943.1,ABK07320.1,ABK07536.1,CAR53545.1,CAR53778.1,ACA89715.1,ACA89930.1,AIO47067.1,AIO50267.1,AFQ49140.1,AFQ49349.1,AEA59199.1,AEA59401.1,ACR27666.1,ACR27859.1,AJK45184.1,AJK44993.1,AIS27750.1,AIS29415.1,AIO50269.1,AIO50295.1,AAU49852.1,AAU50066.1,AAK26475.1,AIO79500.1,AIO81927.1,AIO62695.1,AIO64371.1,AIO58737.1,AIO57816.1,AIP75669.1,AIP75148.1,ABN02012.1,ABN03492.1,ABO06573.1,ABO07106.1,ABM49950.1,ABM52687.1,ABX16513.1,AIO74744.1,AIO65729.1,AIO65920.1,AFT87199.1,ACC71838.1,ACD17853.1,AFI64955.1,AFI65187.1,ABN88989.1,ABN90702.1,ABA48603.1,ABA49099.1,CDU29658.1,CDU29426.1,ABN81917.1,ABN85006.1,AIV96361.1,AIV96253.1,AIV92018.1,AIV89392.1,AIP80701.1,AIP78196.1,AIO88418.1,AIO87288.1,AIO88494.1,AIO91121.1,AIO97274.1,AIO94472.1,AIP05803.1,AIP03543.1,AIP09736.1,AIP08743.1,AIP13520.1,AIP12172.1,AFR17163.1,AFR17439.1,AIP71938.1,AIP72134.1,AIP52091.1,AIP51567.1,AIP60820.1,AIP59231.1,AIV63625.1,AIV62507.1,CAH36797.1,CAH37030.1,AIO15087.1,AIO14989.1,AIV50760.1,AIV53237.1,AHG69072.1,AHG66847.1,AIV58825.1,AIV61433.1,AGR71392.1,AGR70433.1,ACQ97603.1,ACQ98130.1,AIV85714.1,AIV84226.1,AHG35413.1,AHG35613.1&rettype=fasta&retmode=text\r\n"
       ]
      },
      {
       "output_type": "stream",
       "stream": "stdout",
       "text": [
        "http://eutils.ncbi.nlm.nih.gov/entrez/eutils/efetch.fcgi?db=protein&id=AHK64292.1,AHK64163.1,AIP39365.1,AIP40579.1,AIP20774.1,AIP20956.1,AIP49406.1,AIP47497.1,AIV72893.1,AIV71229.1,AHE32273.1,AHE34085.1,AIS87897.1,AIS87675.1,AHE28436.1,AHE25974.1,AGZ27128.1,AGZ29856.1,AIV47163.1,AIV49318.1,CBW73846.1,ABB07253.1,ABB07473.1,AIS47359.1,AIS48242.1,ADX56516.1,ADG16768.1,ADN58998.1,AFJ84846.1,BAN24164.1,BAO94082.1,BAO87413.1,AIV79867.1,AIV78597.1,AET90120.1,AHI74766.1,AHI72072.1,AIT21959.1,AIT20403.1,ABC36485.1,ABC38150.1,AHI77805.1,AHI77674.1,AHI63086.1,AHI65517.1,AGK48804.1,AGK48883.1,AIS95700.1,AIS96010.1,AIC88759.1,AIC87458.1,ABO53554.1,AIP30702.1,ABE32440.1,BAP89486.1,ADR18020.1,AFZ04291.1,AFY33978.1,AGZ21988.1,CDG56538.1,AGV10678.1,AHK74100.1,AHK77664.1,AHK75815.1,EAT97231.2,EAT99422.2,AIR79370.1,ABK82695.1,AGZ82301.1,AJB46024.1,AIR81229.1,AHE94812.1,CDF65543.1,ABS52292.1,AII14242.1,AJC87212.1,AGQ94916.1,CDH61963.1,AAW34722.1,ABS43647.1,AJK83959.1,AJK70320.1,AGV55926.1,AGV50459.1,AGV48745.1,AGV46982.1,AJK72039.1,AJK82074.1,AJP34647.1,EAQ73166.1,ABV51724.1,AHY39404.1,AIW09411.1,ADC27777.1,ADT65549.1,ADN90359.1,AII23878.1,CAB72616.1,CCK66280.1,AHK58151.1,AHK51491.1,AHK53156.1,AHK54822.1,AHK56487.1,AFU42266.1,AHW91089.1,ADT71901.1,AJA54252.1,AJD02803.1,AJD01121.1,AJD04294.1,AJD05767.1,ACM63581.1,AJC88662.1,AJC84090.1,AJC85732.1,AJC90122.1,AJC91789.1,AJC93557.1,ACV33914.1,ACE05727.1,ADB95109.1,BAG83743.1,AIN47431.1,AGC03433.1,CAD83668.1,AAZ40791.1,ADV33555.1,AIL12823.1,AEP12671.1,CAO81234.1,AFX99381.1,AHC73865.1,ACQ68373.1,AFZ83872.1,AGF49991.1,AFZ82490.1,AGF47849.1,AGF47117.1,AGF49269.1,ABF39090.1,CAJ70780.1,AGH17408.1,BAP26942.1,ACT57648.1,ADR52571.1,CBE69824.1,AEI88494.1,AEI74869.1,AGJ61115.1,CBK39948.1,BAO00441.1,AIK95529.1,AEA81241.1,AAZ20843.1,CDO58671.1,CAF23125.1,ADE40570.1,AFC69460.1,ABL02203.1,AHF73979.1,ABJ82147.1,AFV96765.1,AGX88340.1,BAF61529.1,AEK23494.1,ACU93301.1,CCM10028.1,CDM25773.1,AAK23960.1,ACL95529.1,ADG09932.1,ABZ72228.1,AIR04697.1,AIR60787.1,AIR65224.1,AIR70652.1,AJE47911.1,ADV51409.1,AIZ43136.1,AIY14762.1,ADY30785.1,AIM61765.1,ACE85301.1,AFY94555.1,ABG63393.1,ACU58777.1,AHK63739.1,AIT90972.1,AJR10886.1,AAF39622.1,AID38333.1,AHH24132.1,AHH23206.1,AGW39443.1,AGW37597.1,AGW38518.1,CCO01613.1,ADZ18262.1,AFS19083.1,AFS26519.1,AFS20200.1,AFS24438.1,AGE74663.1,AFS21974.1,AFS27629.1,CBY16631.1,AFS22280.1,AFS25880.1,AFS24164.1,CAP04233.1,CCP47928.1,CCP48827.1,CCP49725.1,AAX50808.1,AEP35397.1,AHC17386.1,ADI51209.1,ADI52221.1,AGT69143.1,AGT70069.1,CCP52726.1,CCP53618.1,CCP54508.1,AAC68135.1,ADH21011.1,AGT68221.1,ADH17316.1,CCP60792.1,CDG43433.1,CCP55399.1,CCP56298.1,CCE12816.1,AGT64506.1,AGT67290.1,AGT65436.1,AGT66361.1,CCP57215.1,CCE13705.1,CCE14594.1,CDG42544.1,ADH20088.1,ADH19164.1,ADH97185.1,ADH18240.1,CCP58108.1,CCP59002.1,CCP59896.1,AGT70989.1,CCP28330.1,CCP29231.1,AGT71910.1,AGT72831.1,AGS02347.1,CCP50708.1,CCP64355.1,CCP63465.1,CCP65244.1,CCP62576.1,CCP66136.1,AGJ65849.1,AGJ64908.1,CCP61682.1,CCP51828.1,CCP70583.1,CCP90638.1,CCP91528.1,CCP93314.1,CCP94204.1,CCP92419.1,CCP68802.1,CCP71473.1,CCP69693.1,CAP07187.1,CCP67911.1,AEJ77109.1,CCP67024.1,AGR99529.1,AGR95811.1,AGR93966.1,AGS00477.1,AGR96768.1,AGR97693.1,AGS01421.1,AGS03303.1,AGR98609.1,AGR94889.1,AGS04229.1,CBJ15056.1,CED80150.1,CAH63545.1,AAP04840.1,BAE81690.1,AEB41391.1,AAF37979.1,AAD18791.1,BAA98859.1,ACZ32536.1,AAP98607.1,AEG86122.1,AEG87096.1,AEG88075.1,AEG85144.1,ACF10950.1,ABB27440.1,ACD89651.1,ABB24494.1,ACE03508.1,ABL64598.1,ABP37440.1,AAM72887.1,ACF14400.1,AAQ61996.1,ABE59535.1,AFY87759.1,BAP33014.1,CCW36038.1,AHY11861.1,CDZ84924.1,ABV14363.1,CBG86882.1,AIY43643.1,AEK63757.1,AAZ25459.1,BAO81850.1,BAO84244.1,ACY34854.1,AIJ48990.1,ADE54630.1,AFE09255.1,ACJ19123.1,ACJ21022.1,ABS77381.1,ABX77639.1,AAO89706.1,AIT64102.1,AJC50400.1,AFZ12074.1,EAP85992.1,ABU78464.1,AHB71765.1,AFK00800.1,AGE87574.1,CBA28042.1,AJG21038.1,ABF09993.1,AEI78514.1,CAQ70652.1,CBA27145.1,CBA27147.1,AFZ52922.1,BAP18026.1,AFZ48561.1,AFY30196.1,ACB51727.1,ACK71021.1,ACL46808.1,ADN16183.1,ACK64451.1,ACU99320.1,AEL24696.1,AFT66412.1,AGS40588.1,AFZ25243.1,ABG58314.1,AFZ51544.1,AAZ48221.1,AEV24651.1,BAI79545.1,ABX34120.1,AEF92026.1,ADD69525.1,ADK84036.1,ACL06950.1,AEB09875.1,ACN14231.1,CCK78776.1,ADW17737.1,AGF79773.1,ABW68539.1,ACV69365.1,ACU90865.1,AFM26684.1,AIE19432.1,CAG36668.1,ACV62022.1,ADU62370.1,EGJ48589.1,ABB39780.1,EGB13884.1,CCO24966.1,CCO00959.1,CCH47415.1,ACS80659.1,ABM27472.1,ADP87837.1,ACL08394.1,AAS97389.1,AHF96871.1,ADU66397.1,ADH85773.1,ADY73599.1,ABQ13315.1,ADN00038.1,ACZ78356.1,ACS84465.1,AJC67659.1,ACT05498.1,ACI20066.1,ACK42101.1,ABV94149.1,AEE20521.1,EAQ40046.1,AHW59175.1,ACT94230.1,AIF46912.1,AHX14627.1,AGA78509.1,ACR67963.1,AGH72754.1,AIJ08851.1,ACY83490.1,ADM40712.1,AIL46630.1,ACC97643.1,AFK04109.1,AIF81866.1,AIF81867.1,BAN68409.1,AHK44862.1,CCG31727.1,AEG97172.1,AHW95638.1,AEN63447.1,ABH76381.1,ABH79610.1,AJB80506.1,AJB64327.1,AJB61298.1,AJB69727.1,AIE62673.1,AIN21440.1,AIX56230.1,AIX57915.1,AIN26782.1,AEW72149.1,AIV28371.1,AHE71780.1,ADF60456.1,AFP68663.1,CBK87690.1,AFM58488.1,ADO49871.1,ABP59329.1,AGN87184.1,AJR00559.1,AGB79682.1,CBJ45379.1,CBX81770.1,CBA22602.1,CAX58257.1,CAY73169.1,CAX54528.1,ADP10026.1,CAO95807.1,AHE59221.1,CBG32931.1,AJF54875.1,ABG68138.1,AJB50244.1,AJE54395.1,AIZ85674.1,ADN44715.1,AJB37907.1,ABI99580.1,AGC85523.1,AIL17340.1,ACA79175.1,ACT37790.1,AIF62117.1,CAQ30613.1,AJH09055.1,ACT30520.1,AIN30628.1,ACR65734.1,AJF75498.1,AAN78612.1,ACX41119.1,AJG07097.1,AIX61821.1,CAR06320.1,AIZ31436.1,CBI99595.1,AIT33349.1,ABV04502.1,CCQ26975.2,CAQ96985.1,CAR16240.1,ADE89036.1,AGY83138.1&rettype=fasta&retmode=text\r\n"
       ]
      }
     ]
    },
    {
     "cell_type": "code",
     "collapsed": false,
     "input": [
      "# I think I only got the CBMs and the AAs (up to 12)\n",
      "# Need to run html page download for the other html files for all CAZy classes. That's ok, though - can just paste files together.\n"
     ],
     "language": "python",
     "metadata": {},
     "outputs": [
      {
       "output_type": "stream",
       "stream": "stdout",
       "text": [
        "AA1.txt                    CAZy_CBM29_page0.html      CAZy_CBM50_page17000.html\r\n",
        "CAZy.db                    CAZy_CBM2_page0.html       CAZy_CBM50_page2000.html\r\n",
        "CAZyOutput.fa              CAZy_CBM2_page1000.html    CAZy_CBM50_page3000.html\r\n",
        "CAZy_AA10_page0.html       CAZy_CBM2_page2000.html    CAZy_CBM50_page4000.html\r\n",
        "CAZy_AA10_page1000.html    CAZy_CBM30_page0.html      CAZy_CBM50_page5000.html\r\n",
        "CAZy_AA10_page2000.html    CAZy_CBM31_page0.html      CAZy_CBM50_page6000.html\r\n",
        "CAZy_AA1_page0.html        CAZy_CBM32_page0.html      CAZy_CBM50_page7000.html\r\n",
        "CAZy_AA1_page1000.html     CAZy_CBM32_page1000.html   CAZy_CBM50_page8000.html\r\n",
        "CAZy_AA1_page2000.html     CAZy_CBM32_page2000.html   CAZy_CBM50_page9000.html\r\n",
        "CAZy_AA1_page3000.html     CAZy_CBM33_page0.html      CAZy_CBM51_page0.html\r\n",
        "CAZy_AA2_page0.html        CAZy_CBM34_page0.html      CAZy_CBM52_page0.html\r\n",
        "CAZy_AA3_page0.html        CAZy_CBM34_page1000.html   CAZy_CBM53_page0.html\r\n",
        "CAZy_AA3_page1000.html     CAZy_CBM34_page2000.html   CAZy_CBM54_page0.html\r\n",
        "CAZy_AA3_page2000.html     CAZy_CBM35_page0.html      CAZy_CBM55_page0.html\r\n",
        "CAZy_AA3_page3000.html     CAZy_CBM36_page0.html      CAZy_CBM56_page0.html\r\n",
        "CAZy_AA4_page0.html        CAZy_CBM37_page0.html      CAZy_CBM57_page0.html\r\n",
        "CAZy_AA5_page0.html        CAZy_CBM38_page0.html      CAZy_CBM58_page0.html\r\n",
        "CAZy_AA6_page0.html        CAZy_CBM39_page0.html      CAZy_CBM59_page0.html\r\n",
        "CAZy_AA6_page1000.html     CAZy_CBM3_page0.html       CAZy_CBM5_page0.html\r\n",
        "CAZy_AA6_page2000.html     CAZy_CBM40_page0.html      CAZy_CBM5_page1000.html\r\n",
        "CAZy_AA7_page0.html        CAZy_CBM41_page0.html      CAZy_CBM5_page2000.html\r\n",
        "CAZy_AA8_page0.html        CAZy_CBM42_page0.html      CAZy_CBM5_page3000.html\r\n",
        "CAZy_AA9_page0.html        CAZy_CBM43_page0.html      CAZy_CBM60_page0.html\r\n",
        "CAZy_CBM10_page0.html      CAZy_CBM44_page0.html      CAZy_CBM61_page0.html\r\n",
        "CAZy_CBM11_page0.html      CAZy_CBM45_page0.html      CAZy_CBM62_page0.html\r\n",
        "CAZy_CBM12_page0.html      CAZy_CBM46_page0.html      CAZy_CBM63_page0.html\r\n",
        "CAZy_CBM13_page0.html      CAZy_CBM47_page0.html      CAZy_CBM64_page0.html\r\n",
        "CAZy_CBM13_page1000.html   CAZy_CBM48_page0.html      CAZy_CBM65_page0.html\r\n",
        "CAZy_CBM13_page2000.html   CAZy_CBM48_page1000.html   CAZy_CBM66_page0.html\r\n",
        "CAZy_CBM13_page3000.html   CAZy_CBM48_page2000.html   CAZy_CBM67_page0.html\r\n",
        "CAZy_CBM14_page0.html      CAZy_CBM48_page3000.html   CAZy_CBM68_page0.html\r\n",
        "CAZy_CBM14_page1000.html   CAZy_CBM48_page4000.html   CAZy_CBM69_page0.html\r\n",
        "CAZy_CBM14_page2000.html   CAZy_CBM48_page5000.html   CAZy_CBM6_page0.html\r\n",
        "CAZy_CBM15_page0.html      CAZy_CBM48_page6000.html   CAZy_CBM6_page1000.html\r\n",
        "CAZy_CBM16_page0.html      CAZy_CBM48_page7000.html   CAZy_CBM6_page2000.html\r\n",
        "CAZy_CBM17_page0.html      CAZy_CBM48_page8000.html   CAZy_CBM70_page0.html\r\n",
        "CAZy_CBM18_page0.html      CAZy_CBM48_page9000.html   CAZy_CBM71_page0.html\r\n",
        "CAZy_CBM19_page0.html      CAZy_CBM49_page0.html      CAZy_CBM7_page0.html\r\n",
        "CAZy_CBM1_page0.html       CAZy_CBM4_page0.html       CAZy_CBM8_page0.html\r\n",
        "CAZy_CBM20_page0.html      CAZy_CBM50_page0.html      CAZy_CBM9_page0.html\r\n",
        "CAZy_CBM21_page0.html      CAZy_CBM50_page1000.html   CAZy_DB.ipynb\r\n",
        "CAZy_CBM22_page0.html      CAZy_CBM50_page10000.html  download_cazy_pages.py\r\n",
        "CAZy_CBM23_page0.html      CAZy_CBM50_page11000.html  fastareader.py\r\n",
        "CAZy_CBM24_page0.html      CAZy_CBM50_page12000.html  load_cazy_db.py\r\n",
        "CAZy_CBM25_page0.html      CAZy_CBM50_page13000.html  refseq_seqs_from_db.py\r\n",
        "CAZy_CBM26_page0.html      CAZy_CBM50_page14000.html  test.db\r\n",
        "CAZy_CBM27_page0.html      CAZy_CBM50_page15000.html\r\n",
        "CAZy_CBM28_page0.html      CAZy_CBM50_page16000.html\r\n"
       ]
      }
     ],
     "prompt_number": 107
    },
    {
     "cell_type": "code",
     "collapsed": false,
     "input": [],
     "language": "python",
     "metadata": {},
     "outputs": []
    },
    {
     "cell_type": "code",
     "collapsed": false,
     "input": [],
     "language": "python",
     "metadata": {},
     "outputs": []
    }
   ],
   "metadata": {}
  }
 ]
}